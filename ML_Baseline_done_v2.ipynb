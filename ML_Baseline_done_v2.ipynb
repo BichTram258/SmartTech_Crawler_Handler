{
  "cells": [
    {
      "cell_type": "code",
      "execution_count": null,
      "metadata": {
        "id": "D-mHhrprkHDF"
      },
      "outputs": [],
      "source": [
        "import pandas as pd\n",
        "import numpy as np"
      ]
    },
    {
      "cell_type": "code",
      "execution_count": null,
      "metadata": {
        "id": "WcirN1BIkLtI"
      },
      "outputs": [],
      "source": [
        "from sklearn.feature_extraction.text import CountVectorizer,TfidfTransformer\n",
        "from sklearn.metrics import accuracy_score, classification_report, f1_score\n",
        "import matplotlib.pyplot as plt\n",
        "from sklearn.feature_extraction.text import TfidfTransformer\n",
        "from sklearn.metrics import classification_report\n",
        "from keras.layers import Dense, Input, LSTM, Bidirectional, Conv1D\n",
        "from keras.layers import Dropout, Embedding\n",
        "from keras.preprocessing import text, sequence\n",
        "from keras.layers import GlobalMaxPooling1D, GlobalAveragePooling1D, concatenate, SpatialDropout1D\n",
        "from keras.models import Model\n",
        "from keras import backend as K\n",
        "from keras.models import model_from_json\n",
        "from keras.models import load_model"
      ]
    },
    {
      "cell_type": "code",
      "execution_count": null,
      "metadata": {
        "colab": {
          "base_uri": "https://localhost:8080/"
        },
        "id": "KrL0fmsop825",
        "outputId": "421f838e-cdf1-4208-ba6e-fa01878e4667"
      },
      "outputs": [
        {
          "output_type": "stream",
          "name": "stdout",
          "text": [
            "Drive already mounted at /content/drive; to attempt to forcibly remount, call drive.mount(\"/content/drive\", force_remount=True).\n"
          ]
        }
      ],
      "source": [
        "from google.colab import drive\n",
        "drive.mount(\"/content/drive\")"
      ]
    },
    {
      "cell_type": "code",
      "execution_count": null,
      "metadata": {
        "id": "gwIQ3ggLp_Rn"
      },
      "outputs": [],
      "source": [
        "train = pd.read_csv('/content/drive/MyDrive/UIT-ViFSD_me/Train.csv')\n",
        "dev = pd.read_csv('/content/drive/MyDrive/UIT-ViFSD_me/Dev.csv')\n",
        "test = pd.read_csv('/content/drive/MyDrive/UIT-ViFSD_me/Test.csv')"
      ]
    },
    {
      "cell_type": "markdown",
      "source": [
        "###process\n"
      ],
      "metadata": {
        "id": "T-gKimN2q7OW"
      }
    },
    {
      "cell_type": "code",
      "source": [
        "!wget https://gist.githubusercontent.com/nguyenvanhieuvn/7d9441c10b3c2739499fc5a4d9ea06fb/raw/df939245b3e841b62af115be4dcb3516dadc9fc5/teencode.txt"
      ],
      "metadata": {
        "colab": {
          "base_uri": "https://localhost:8080/"
        },
        "id": "Hi0JIQLd43QR",
        "outputId": "7cb7019a-e80a-4085-96a9-1d5361d7866e"
      },
      "execution_count": null,
      "outputs": [
        {
          "output_type": "stream",
          "name": "stdout",
          "text": [
            "--2023-07-06 06:16:19--  https://gist.githubusercontent.com/nguyenvanhieuvn/7d9441c10b3c2739499fc5a4d9ea06fb/raw/df939245b3e841b62af115be4dcb3516dadc9fc5/teencode.txt\n",
            "Resolving gist.githubusercontent.com (gist.githubusercontent.com)... 185.199.108.133, 185.199.109.133, 185.199.110.133, ...\n",
            "Connecting to gist.githubusercontent.com (gist.githubusercontent.com)|185.199.108.133|:443... connected.\n",
            "HTTP request sent, awaiting response... 200 OK\n",
            "Length: 5656 (5.5K) [text/plain]\n",
            "Saving to: ‘teencode.txt.1’\n",
            "\n",
            "teencode.txt.1      100%[===================>]   5.52K  --.-KB/s    in 0s      \n",
            "\n",
            "2023-07-06 06:16:19 (70.7 MB/s) - ‘teencode.txt.1’ saved [5656/5656]\n",
            "\n"
          ]
        }
      ]
    },
    {
      "cell_type": "code",
      "source": [
        "!pip install emoji --upgrade"
      ],
      "metadata": {
        "colab": {
          "base_uri": "https://localhost:8080/"
        },
        "id": "sbPZfTJ16cov",
        "outputId": "fb173bb4-ed39-4a3a-c5b8-1de49693641e"
      },
      "execution_count": null,
      "outputs": [
        {
          "output_type": "stream",
          "name": "stdout",
          "text": [
            "Requirement already satisfied: emoji in /usr/local/lib/python3.10/dist-packages (2.6.0)\n"
          ]
        }
      ]
    },
    {
      "cell_type": "code",
      "source": [
        "!pip install pyvi\n",
        "!pip install -q vncorenlp\n",
        "!git clone https://github.com/vncorenlp/VnCoreNLP.git"
      ],
      "metadata": {
        "colab": {
          "base_uri": "https://localhost:8080/"
        },
        "id": "QwqJHV3E6yQa",
        "outputId": "2fe9dbdc-02dc-46f5-ff77-df8f30c01031"
      },
      "execution_count": null,
      "outputs": [
        {
          "output_type": "stream",
          "name": "stdout",
          "text": [
            "Requirement already satisfied: pyvi in /usr/local/lib/python3.10/dist-packages (0.1.1)\n",
            "Requirement already satisfied: scikit-learn in /usr/local/lib/python3.10/dist-packages (from pyvi) (1.2.2)\n",
            "Requirement already satisfied: sklearn-crfsuite in /usr/local/lib/python3.10/dist-packages (from pyvi) (0.3.6)\n",
            "Requirement already satisfied: numpy>=1.17.3 in /usr/local/lib/python3.10/dist-packages (from scikit-learn->pyvi) (1.22.4)\n",
            "Requirement already satisfied: scipy>=1.3.2 in /usr/local/lib/python3.10/dist-packages (from scikit-learn->pyvi) (1.10.1)\n",
            "Requirement already satisfied: joblib>=1.1.1 in /usr/local/lib/python3.10/dist-packages (from scikit-learn->pyvi) (1.2.0)\n",
            "Requirement already satisfied: threadpoolctl>=2.0.0 in /usr/local/lib/python3.10/dist-packages (from scikit-learn->pyvi) (3.1.0)\n",
            "Requirement already satisfied: python-crfsuite>=0.8.3 in /usr/local/lib/python3.10/dist-packages (from sklearn-crfsuite->pyvi) (0.9.9)\n",
            "Requirement already satisfied: six in /usr/local/lib/python3.10/dist-packages (from sklearn-crfsuite->pyvi) (1.16.0)\n",
            "Requirement already satisfied: tabulate in /usr/local/lib/python3.10/dist-packages (from sklearn-crfsuite->pyvi) (0.8.10)\n",
            "Requirement already satisfied: tqdm>=2.0 in /usr/local/lib/python3.10/dist-packages (from sklearn-crfsuite->pyvi) (4.65.0)\n",
            "fatal: destination path 'VnCoreNLP' already exists and is not an empty directory.\n"
          ]
        }
      ]
    },
    {
      "cell_type": "code",
      "source": [
        "import re\n",
        "import requests\n",
        "import emoji\n",
        "from pyvi import ViTokenizer"
      ],
      "metadata": {
        "id": "LIJmrS7v0Ekt"
      },
      "execution_count": null,
      "outputs": []
    },
    {
      "cell_type": "code",
      "source": [
        "#Tải danh sách stop words tiếng việt từ github\n",
        "stop_words_url_1 = 'https://raw.githubusercontent.com/stopwords/vietnamese-stopwords/master/vietnamese-stopwords-dash.txt'\n",
        "stop_words_data_1 = requests.get(stop_words_url_1).content.decode('utf-8')\n",
        "stop_words_1 = stop_words_data_1.splitlines()\n",
        "\n",
        "stop_words_url_2 = 'https://raw.githubusercontent.com/stopwords/vietnamese-stopwords/master/vietnamese-stopwords.txt'\n",
        "stop_words_data_2 = requests.get(stop_words_url_2).content.decode('utf-8')\n",
        "stop_words_2 = stop_words_data_2.splitlines()"
      ],
      "metadata": {
        "id": "pslsY33Xr5qL"
      },
      "execution_count": null,
      "outputs": []
    },
    {
      "cell_type": "code",
      "source": [
        "# kết hợp các danh sách stop words có dấu\n",
        "stop_words = list(set(stop_words_1 + stop_words_2))"
      ],
      "metadata": {
        "id": "KbSG4g3SsT-F"
      },
      "execution_count": null,
      "outputs": []
    },
    {
      "cell_type": "code",
      "source": [
        "# định nghĩa hàm để loại bỏ các stop words\n",
        "def remove_stop_words(words):\n",
        "    return [word for word in words if word not in stop_words]\n",
        "\n",
        "# định nghĩa hàm để tách câu thành các từ và loại bỏ dấu\n",
        "def tokenize(text):\n",
        "    return ViTokenizer.tokenize(text).lower().split()"
      ],
      "metadata": {
        "id": "e7f-HGCcszGB"
      },
      "execution_count": null,
      "outputs": []
    },
    {
      "cell_type": "code",
      "source": [
        "replace_list = {\n",
        "    'ô kêi': 'ok', 'okie': 'ok', 'o kê': 'ok', 'okey': 'ok', 'ôkê': 'ok', 'oki': 'ok', 'oke': 'ok', 'okay': 'ok', 'okê': 'ok',\n",
        "    'tks': 'cảm ơn', 'thks': 'cảm ơn', 'thanks': 'cảm ơn', 'ths': 'cảm ơn', 'thank': 'cảm ơn',\n",
        "    'kg': 'không', 'not': 'không', 'k': 'không', 'kh': 'không', 'kô': 'không', 'hok': 'không', 'ko': 'không', 'khong': 'không', 'kp': 'không phải',\n",
        "    'he he': 'tích cực', 'hehe': 'tích cực', 'hihi': 'tích cực', 'haha': 'tích cực', 'hjhj': 'tích cực', 'thick': 'tích cực',\n",
        "    'lol': 'tiêu cực', 'cc': 'tiêu cực', 'huhu': 'tiêu cực', 'cute': 'dễ thương',\n",
        "\n",
        "    'sz': 'cỡ', 'size': 'cỡ',\n",
        "    'wa': 'quá', 'wá': 'quá', 'qá': 'quá',\n",
        "    'đx': 'được', 'dk': 'được', 'dc': 'được', 'đk': 'được', 'đc': 'được',\n",
        "    'vs': 'với', 'j': 'gì', '“': ' ', 'time': 'thời gian', 'm': 'mình', 'mik': 'mình', 'r': 'rồi', 'bjo': 'bao giờ', 'very': 'rất',\n",
        "\n",
        "    'authentic': 'chuẩn chính hãng', 'aut': 'chuẩn chính hãng', 'auth': 'chuẩn chính hãng', 'date': 'hạn sử dụng', 'hsd': 'hạn sử dụng',\n",
        "    'store': 'cửa hàng', 'sop': 'cửa hàng', 'shopE': 'cửa hàng', 'shop': 'cửa hàng',\n",
        "    'sp': 'sản phẩm', 'product': 'sản phẩm', 'hàg': 'hàng',\n",
        "    'ship': 'giao hàng', 'delivery': 'giao hàng', 'síp': 'giao hàng', 'order': 'đặt hàng',\n",
        "\n",
        "    'gud': 'tốt', 'wel done': 'tốt', 'good': 'tốt', 'gút': 'tốt', 'tot': 'tốt', 'nice': 'tốt', 'perfect': 'rất tốt',\n",
        "    'quality': 'chất lượng', 'chất lg': 'chất lượng', 'chat': 'chất', 'excelent': 'hoàn hảo', 'bt': 'bình thường',\n",
        "    'sad': 'tệ', 'por': 'tệ', 'poor': 'tệ', 'bad': 'tệ',\n",
        "    'beautiful': 'đẹp tuyệt vời', 'dep': 'đẹp',\n",
        "    'xau': 'xấu', 'sấu': 'xấu',\n",
        "\n",
        "    'thik': 'thích', 'iu': 'yêu', 'fake': 'giả mạo',\n",
        "    'quickly': 'nhanh', 'quick': 'nhanh', 'fast': 'nhanh',\n",
        "    'fresh': 'tươi', 'delicious': 'ngon',\n",
        "\n",
        "    'dt': 'điện thoại', 'fb': 'facebook', 'face': 'facebook', 'ks': 'khách sạn', 'nv': 'nhân viên',\n",
        "    'nt': 'nhắn tin', 'ib': 'nhắn tin', 'tl': 'trả lời', 'trl': 'trả lời', 'rep': 'trả lời',\n",
        "    'fback': 'feedback', 'fedback': 'feedback',\n",
        "    'sd': 'sử dụng', 'sài': 'xài',\n",
        "\n",
        "    '^_^': 'tích cực', ':)': 'tích cực', ':(': 'tiêu cực',\n",
        "    '❤️': 'tích cực', '👍': 'tích cực', '🎉': 'tích cực', '😀': 'tích cực', '😍': 'tích cực', '😂': 'tích cực', '🤗': 'tích cực', '😙': 'tích cực', '🙂': 'tích cực',\n",
        "    '😔': 'tiêu cực', '😓': 'tiêu cực',\n",
        "    '⭐': 'star', '*': 'star', '🌟': 'star',\n",
        "}\n",
        "\n",
        "with open('teencode.txt', encoding='utf-8') as f:\n",
        "    for pair in f.readlines():\n",
        "        key, value = pair.split('\\t')\n",
        "        replace_list[key] = value.strip()\n",
        "\n",
        "\n",
        "def normalize_acronyms(text):\n",
        "    words = []\n",
        "    for word in text.strip().split():\n",
        "        # word = word.strip(string.punctuation)\n",
        "        if word.lower() not in replace_list.keys(): words.append(word)\n",
        "        else: words.append(replace_list[word.lower()])\n",
        "    return emoji.demojize(' '.join(words))"
      ],
      "metadata": {
        "id": "_YiQ4iS9q9dZ"
      },
      "execution_count": null,
      "outputs": []
    },
    {
      "cell_type": "code",
      "source": [
        "def remove_HTML(text):\n",
        "    return re.sub(r'<[^>]*>', '', text)"
      ],
      "metadata": {
        "id": "vHFyTAmegumj"
      },
      "execution_count": null,
      "outputs": []
    },
    {
      "cell_type": "code",
      "source": [
        "# Standardize unicode\n",
        "def convert_unicode(text):\n",
        "    char1252 = 'à|á|ả|ã|ạ|ầ|ấ|ẩ|ẫ|ậ|ằ|ắ|ẳ|ẵ|ặ|è|é|ẻ|ẽ|ẹ|ề|ế|ể|ễ|ệ|ì|í|ỉ|ĩ|ị|ò|ó|ỏ|õ|ọ|ồ|ố|ổ|ỗ|ộ|ờ|ớ|ở|ỡ|ợ|ù|ú|ủ|ũ|ụ|ừ|ứ|ử|ữ|ự|ỳ|ý|ỷ|ỹ|ỵ|À|Á|Ả|Ã|Ạ|Ầ|Ấ|Ẩ|Ẫ|Ậ|Ằ|Ắ|Ẳ|Ẵ|Ặ|È|É|Ẻ|Ẽ|Ẹ|Ề|Ế|Ể|Ễ|Ệ|Ì|Í|Ỉ|Ĩ|Ị|Ò|Ó|Ỏ|Õ|Ọ|Ồ|Ố|Ổ|Ỗ|Ộ|Ờ|Ớ|Ở|Ỡ|Ợ|Ù|Ú|Ủ|Ũ|Ụ|Ừ|Ứ|Ử|Ữ|Ự|Ỳ|Ý|Ỷ|Ỹ|Ỵ'\n",
        "    charutf8 = 'à|á|ả|ã|ạ|ầ|ấ|ẩ|ẫ|ậ|ằ|ắ|ẳ|ẵ|ặ|è|é|ẻ|ẽ|ẹ|ề|ế|ể|ễ|ệ|ì|í|ỉ|ĩ|ị|ò|ó|ỏ|õ|ọ|ồ|ố|ổ|ỗ|ộ|ờ|ớ|ở|ỡ|ợ|ù|ú|ủ|ũ|ụ|ừ|ứ|ử|ữ|ự|ỳ|ý|ỷ|ỹ|ỵ|À|Á|Ả|Ã|Ạ|Ầ|Ấ|Ẩ|Ẫ|Ậ|Ằ|Ắ|Ẳ|Ẵ|Ặ|È|É|Ẻ|Ẽ|Ẹ|Ề|Ế|Ể|Ễ|Ệ|Ì|Í|Ỉ|Ĩ|Ị|Ò|Ó|Ỏ|Õ|Ọ|Ồ|Ố|Ổ|Ỗ|Ộ|Ờ|Ớ|Ở|Ỡ|Ợ|Ù|Ú|Ủ|Ũ|Ụ|Ừ|Ứ|Ử|Ữ|Ự|Ỳ|Ý|Ỷ|Ỹ|Ỵ'\n",
        "    char1252 = char1252.split('|')\n",
        "    charutf8 = charutf8.split('|')\n",
        "\n",
        "    dic = {}\n",
        "    for i in range(len(char1252)): dic[char1252[i]] = charutf8[i]\n",
        "    return re.sub(\n",
        "        r'à|á|ả|ã|ạ|ầ|ấ|ẩ|ẫ|ậ|ằ|ắ|ẳ|ẵ|ặ|è|é|ẻ|ẽ|ẹ|ề|ế|ể|ễ|ệ|ì|í|ỉ|ĩ|ị|ò|ó|ỏ|õ|ọ|ồ|ố|ổ|ỗ|ộ|ờ|ớ|ở|ỡ|ợ|ù|ú|ủ|ũ|ụ|ừ|ứ|ử|ữ|ự|ỳ|ý|ỷ|ỹ|ỵ|À|Á|Ả|Ã|Ạ|Ầ|Ấ|Ẩ|Ẫ|Ậ|Ằ|Ắ|Ẳ|Ẵ|Ặ|È|É|Ẻ|Ẽ|Ẹ|Ề|Ế|Ể|Ễ|Ệ|Ì|Í|Ỉ|Ĩ|Ị|Ò|Ó|Ỏ|Õ|Ọ|Ồ|Ố|Ổ|Ỗ|Ộ|Ờ|Ớ|Ở|Ỡ|Ợ|Ù|Ú|Ủ|Ũ|Ụ|Ừ|Ứ|Ử|Ữ|Ự|Ỳ|Ý|Ỷ|Ỹ|Ỵ',\n",
        "        lambda x: dic[x.group()], text\n",
        "    )"
      ],
      "metadata": {
        "id": "4pBZUA0kgvoc"
      },
      "execution_count": null,
      "outputs": []
    },
    {
      "cell_type": "code",
      "source": [
        "# Standardize accent typing\n",
        "vowels_to_ids = {}\n",
        "vowels_table = [\n",
        "    ['a', 'à', 'á', 'ả', 'ã', 'ạ', 'a' ],\n",
        "    ['ă', 'ằ', 'ắ', 'ẳ', 'ẵ', 'ặ', 'aw'],\n",
        "    ['â', 'ầ', 'ấ', 'ẩ', 'ẫ', 'ậ', 'aa'],\n",
        "    ['e', 'è', 'é', 'ẻ', 'ẽ', 'ẹ', 'e' ],\n",
        "    ['ê', 'ề', 'ế', 'ể', 'ễ', 'ệ', 'ee'],\n",
        "    ['i', 'ì', 'í', 'ỉ', 'ĩ', 'ị', 'i' ],\n",
        "    ['o', 'ò', 'ó', 'ỏ', 'õ', 'ọ', 'o' ],\n",
        "    ['ô', 'ồ', 'ố', 'ổ', 'ỗ', 'ộ', 'oo'],\n",
        "    ['ơ', 'ờ', 'ớ', 'ở', 'ỡ', 'ợ', 'ow'],\n",
        "    ['u', 'ù', 'ú', 'ủ', 'ũ', 'ụ', 'u' ],\n",
        "    ['ư', 'ừ', 'ứ', 'ử', 'ữ', 'ự', 'uw'],\n",
        "    ['y', 'ỳ', 'ý', 'ỷ', 'ỹ', 'ỵ', 'y' ]\n",
        "]\n",
        "\n",
        "for i in range(len(vowels_table)):\n",
        "    for j in range(len(vowels_table[i]) - 1):\n",
        "        vowels_to_ids[vowels_table[i][j]] = (i, j)\n",
        "\n",
        "\n",
        "def is_valid_vietnamese_word(word):\n",
        "    chars = list(word)\n",
        "    vowel_indexes = -1\n",
        "    for index, char in enumerate(chars):\n",
        "        x, y = vowels_to_ids.get(char, (-1, -1))\n",
        "        if x != -1:\n",
        "            if vowel_indexes == -1: vowel_indexes = index\n",
        "            else:\n",
        "                if index - vowel_indexes != 1: return False\n",
        "                vowel_indexes = index\n",
        "    return True"
      ],
      "metadata": {
        "id": "hCsmBQ0Gg2qh"
      },
      "execution_count": null,
      "outputs": []
    },
    {
      "cell_type": "code",
      "source": [
        "def standardize_word_typing(word):\n",
        "    if not is_valid_vietnamese_word(word): return word\n",
        "    chars = list(word)\n",
        "    dau_cau = 0\n",
        "    vowel_indexes = []\n",
        "    qu_or_gi = False\n",
        "\n",
        "    for index, char in enumerate(chars):\n",
        "        x, y = vowels_to_ids.get(char, (-1, -1))\n",
        "        if x == -1: continue\n",
        "        elif x == 9:  # check qu\n",
        "            if index != 0 and chars[index - 1] == 'q':\n",
        "                chars[index] = 'u'\n",
        "                qu_or_gi = True\n",
        "        elif x == 5:  # check gi\n",
        "            if index != 0 and chars[index - 1] == 'g':\n",
        "                chars[index] = 'i'\n",
        "                qu_or_gi = True\n",
        "\n",
        "        if y != 0:\n",
        "            dau_cau = y\n",
        "            chars[index] = vowels_table[x][0]\n",
        "\n",
        "        if not qu_or_gi or index != 1:\n",
        "            vowel_indexes.append(index)\n",
        "\n",
        "    if len(vowel_indexes) < 2:\n",
        "        if qu_or_gi:\n",
        "            if len(chars) == 2:\n",
        "                x, y = vowels_to_ids.get(chars[1])\n",
        "                chars[1] = vowels_table[x][dau_cau]\n",
        "            else:\n",
        "                x, y = vowels_to_ids.get(chars[2], (-1, -1))\n",
        "                if x != -1: chars[2] = vowels_table[x][dau_cau]\n",
        "                else: chars[1] = vowels_table[5][dau_cau] if chars[1] == 'i' else vowels_table[9][dau_cau]\n",
        "            return ''.join(chars)\n",
        "        return word\n",
        "\n",
        "    for index in vowel_indexes:\n",
        "        x, y = vowels_to_ids[chars[index]]\n",
        "        if x == 4 or x == 8:  # ê, ơ\n",
        "            chars[index] = vowels_table[x][dau_cau]\n",
        "            return ''.join(chars)\n",
        "\n",
        "    if len(vowel_indexes) == 2:\n",
        "        if vowel_indexes[-1] == len(chars) - 1:\n",
        "            x, y = vowels_to_ids[chars[vowel_indexes[0]]]\n",
        "            chars[vowel_indexes[0]] = vowels_table[x][dau_cau]\n",
        "        else:\n",
        "            x, y = vowels_to_ids[chars[vowel_indexes[1]]]\n",
        "            chars[vowel_indexes[1]] = vowels_table[x][dau_cau]\n",
        "    else:\n",
        "        x, y = vowels_to_ids[chars[vowel_indexes[1]]]\n",
        "        chars[vowel_indexes[1]] = vowels_table[x][dau_cau]\n",
        "    return ''.join(chars)\n",
        "\n",
        "\n",
        "def standardize_sentence_typing(text):\n",
        "    words = text.lower().split()\n",
        "    for index, word in enumerate(words):\n",
        "        cw = re.sub(r'(^\\p{P}*)([p{L}.]*\\p{L}+)(\\p{P}*$)', r'\\1/\\2/\\3', word).split('/')\n",
        "        if len(cw) == 3: cw[1] = standardize_word_typing(cw[1])\n",
        "        words[index] = ''.join(cw)\n",
        "    return ' '.join(words)"
      ],
      "metadata": {
        "id": "VLWkKV8zg_3j"
      },
      "execution_count": null,
      "outputs": []
    },
    {
      "cell_type": "code",
      "source": [
        "from vncorenlp import VnCoreNLP\n",
        "from nltk import flatten"
      ],
      "metadata": {
        "id": "D2tEhQH3kfOE"
      },
      "execution_count": null,
      "outputs": []
    },
    {
      "cell_type": "code",
      "source": [
        "# # Word segmentation\n",
        "# annotator = VnCoreNLP('/content/VnCoreNLP/VnCoreNLP-1.1.1.jar')\n",
        "# def word_segmentation(text):\n",
        "#     words = annotator.tokenize(text)\n",
        "#     return ' '.join(word for word in flatten(words))\n",
        "\n",
        "\n",
        "# # Remove unnecessary characters\n",
        "# def remove_unnecessary_characters(text):\n",
        "#     text = re.sub(r'[^\\s\\wáàảãạăắằẳẵặâấầẩẫậéèẻẽẹêếềểễệóòỏõọôốồổỗộơớờởỡợíìỉĩịúùủũụưứừửữựýỳỷỹỵđÁÀẢÃẠĂẮẰẲẴẶÂẤẦẨẪẬÉÈẺẼẸÊẾỀỂỄỆÓÒỎÕỌÔỐỒỔỖỘƠỚỜỞỠỢÍÌỈĨỊÚÙỦŨỤƯỨỪỬỮỰÝỲỶỸỴĐ_]', ' ', text)\n",
        "#     text = re.sub(r'\\s+', ' ', text).strip() # Remove extra whitespace\n",
        "#     return text"
      ],
      "metadata": {
        "id": "ZNhDPsZLjyuM"
      },
      "execution_count": null,
      "outputs": []
    },
    {
      "cell_type": "code",
      "source": [
        "# def text_process(text):\n",
        "#     text = remove_HTML(text)\n",
        "#     text = convert_unicode(text)\n",
        "#     # text = standardize_sentence_typing(text)\n",
        "#     text = normalize_acronyms(text)\n",
        "#     text = word_segmentation(text) # When use PhoBERT\n",
        "#     text = remove_unnecessary_characters(text)\n",
        "#     # return text.lower()\n",
        "#     return text"
      ],
      "metadata": {
        "id": "-wlJYCfMhKG3"
      },
      "execution_count": null,
      "outputs": []
    },
    {
      "cell_type": "code",
      "source": [
        "def text_process(train):\n",
        "    processed_text = re.sub(r'\\W', ' ', train)  # Ví dụ: loại bỏ ký tự không phải chữ cái và số\n",
        "    processed_text = processed_text.lower()# Ví dụ: chuyển thành chữ thường\n",
        "    a = normalize_acronyms(processed_text)\n",
        "    b = tokenize(a)\n",
        "    c = remove_stop_words(b)\n",
        "    d = ' '.join(c)\n",
        "    return d"
      ],
      "metadata": {
        "id": "h2wqeltG0RHi"
      },
      "execution_count": null,
      "outputs": []
    },
    {
      "cell_type": "code",
      "source": [
        "aa=['SCREEN','CAMERA','FEATURES','BATTERY','PERFORMANCE','STORAGE','DESIGN','PRICE','GENERAL','SER&ACC']\n",
        "a =['SCREEN','CAMERA','FEATURES','BATTERY','PERFORMANCE','STORAGE','DESIGN','PRICE','GENERAL','SER&ACC','OTHERS']\n",
        "s=['Positive','Negative','Neutral']\n",
        "label=[]\n",
        "aspect=[]\n",
        "for i in range(0,10):\n",
        "    x=[]\n",
        "    for j in range(0,3):\n",
        "        x.append(aa[i]+'#'+s[j])\n",
        "    aspect.append(x)\n",
        "for i in range (0,10):\n",
        "    for j in range(0,3):\n",
        "        label.append(aa[i]+'#'+s[j])\n",
        "slabel=label.copy()\n",
        "saspect=aspect.copy()\n",
        "label.append('OTHERS')\n",
        "aspect.append(['OTHERS'])"
      ],
      "metadata": {
        "id": "5w-sXCEb5xP8"
      },
      "execution_count": null,
      "outputs": []
    },
    {
      "cell_type": "code",
      "source": [
        "def ag_matrix(df_name,r1,r2,c1=5,c2=37,l=label):\n",
        "    df=df_name.copy()\n",
        "    for i in range(0,len(l)):\n",
        "        df[l[i]]=0\n",
        "    for i in range(r1,r2):\n",
        "        for j in range(0,len(l)):\n",
        "            if l[j] in str(df['label'][i]):\n",
        "                df[l[j]][i]=1\n",
        "    m=df.iloc[r1:r2,c1:c2]\n",
        "    return m"
      ],
      "metadata": {
        "id": "qoqfFV0k50SD"
      },
      "execution_count": null,
      "outputs": []
    },
    {
      "cell_type": "code",
      "source": [
        "dd_train=ag_matrix(train,0,len(train))\n",
        "dd_test = ag_matrix(test,0,len(test))"
      ],
      "metadata": {
        "colab": {
          "base_uri": "https://localhost:8080/"
        },
        "id": "fODk_Uc054CB",
        "outputId": "068e4499-9d72-426c-c59f-5be111a8e2db"
      },
      "execution_count": null,
      "outputs": [
        {
          "output_type": "stream",
          "name": "stderr",
          "text": [
            "<ipython-input-20-8f5f6da7b80e>:8: SettingWithCopyWarning: \n",
            "A value is trying to be set on a copy of a slice from a DataFrame\n",
            "\n",
            "See the caveats in the documentation: https://pandas.pydata.org/pandas-docs/stable/user_guide/indexing.html#returning-a-view-versus-a-copy\n",
            "  df[l[j]][i]=1\n",
            "<ipython-input-20-8f5f6da7b80e>:8: SettingWithCopyWarning: \n",
            "A value is trying to be set on a copy of a slice from a DataFrame\n",
            "\n",
            "See the caveats in the documentation: https://pandas.pydata.org/pandas-docs/stable/user_guide/indexing.html#returning-a-view-versus-a-copy\n",
            "  df[l[j]][i]=1\n"
          ]
        }
      ]
    },
    {
      "cell_type": "code",
      "source": [
        "X_train = train['comment'].apply(text_process)\n",
        "X_test = test['comment'].apply(text_process)"
      ],
      "metadata": {
        "id": "FyN6WUdY0p6i"
      },
      "execution_count": null,
      "outputs": []
    },
    {
      "cell_type": "code",
      "source": [
        "Y_train = dd_train.astype('int')\n",
        "Y_test = dd_test.astype('int')"
      ],
      "metadata": {
        "id": "evIsF_WR6CgK"
      },
      "execution_count": null,
      "outputs": []
    },
    {
      "cell_type": "markdown",
      "source": [
        "#Naive Bayes"
      ],
      "metadata": {
        "id": "CCFlRvYhciEY"
      }
    },
    {
      "cell_type": "code",
      "source": [
        "from sklearn.pipeline import Pipeline\n",
        "from sklearn.naive_bayes import MultinomialNB\n",
        "from sklearn.metrics import accuracy_score\n",
        "from sklearn.multiclass import OneVsRestClassifier\n",
        "from sklearn.svm import LinearSVC\n",
        "from sklearn.linear_model import LogisticRegression\n",
        "from sklearn.metrics import classification_report\n",
        "from sklearn.feature_extraction.text import CountVectorizer,TfidfTransformer\n",
        "from sklearn.ensemble import RandomForestClassifier\n",
        "from sklearn.preprocessing import FunctionTransformer"
      ],
      "metadata": {
        "id": "YSxZ1YQo5GOM"
      },
      "execution_count": null,
      "outputs": []
    },
    {
      "cell_type": "code",
      "source": [
        "predictions = pd.DataFrame()\n",
        "nb = Pipeline([\n",
        "    ('vect', CountVectorizer()),\n",
        "    ('clf', MultinomialNB())\n",
        "])\n",
        "\n",
        "for category in Y_train.columns:\n",
        "    print('... Processing {}'.format(category))\n",
        "    nb.fit(X_train, Y_train[category])\n",
        "    prediction = nb.predict(X_test)\n",
        "    predictions[category] = prediction\n",
        "\n",
        "print(classification_report(Y_test, predictions, target_names=Y_test.columns, digits=4))"
      ],
      "metadata": {
        "colab": {
          "base_uri": "https://localhost:8080/"
        },
        "id": "uAbx41sp5D0g",
        "outputId": "5b8943de-470c-4131-9d98-c8d38cb9ebcb"
      },
      "execution_count": null,
      "outputs": [
        {
          "output_type": "stream",
          "name": "stdout",
          "text": [
            "... Processing SCREEN#Positive\n",
            "... Processing SCREEN#Negative\n",
            "... Processing SCREEN#Neutral\n",
            "... Processing CAMERA#Positive\n",
            "... Processing CAMERA#Negative\n",
            "... Processing CAMERA#Neutral\n",
            "... Processing FEATURES#Positive\n",
            "... Processing FEATURES#Negative\n",
            "... Processing FEATURES#Neutral\n",
            "... Processing BATTERY#Positive\n",
            "... Processing BATTERY#Negative\n",
            "... Processing BATTERY#Neutral\n",
            "... Processing PERFORMANCE#Positive\n",
            "... Processing PERFORMANCE#Negative\n",
            "... Processing PERFORMANCE#Neutral\n",
            "... Processing STORAGE#Positive\n",
            "... Processing STORAGE#Negative\n",
            "... Processing STORAGE#Neutral\n",
            "... Processing DESIGN#Positive\n",
            "... Processing DESIGN#Negative\n",
            "... Processing DESIGN#Neutral\n",
            "... Processing PRICE#Positive\n",
            "... Processing PRICE#Negative\n",
            "... Processing PRICE#Neutral\n",
            "... Processing GENERAL#Positive\n",
            "... Processing GENERAL#Negative\n",
            "... Processing GENERAL#Neutral\n",
            "... Processing SER&ACC#Positive\n",
            "... Processing SER&ACC#Negative\n",
            "... Processing SER&ACC#Neutral\n",
            "... Processing OTHERS\n",
            "                      precision    recall  f1-score   support\n",
            "\n",
            "     SCREEN#Positive     0.2903    0.0662    0.1078       136\n",
            "     SCREEN#Negative     0.6000    0.1034    0.1765       116\n",
            "      SCREEN#Neutral     0.0000    0.0000    0.0000        17\n",
            "     CAMERA#Positive     0.6656    0.5751    0.6171       346\n",
            "     CAMERA#Negative     0.6765    0.2690    0.3849       171\n",
            "      CAMERA#Neutral     0.0556    0.0141    0.0225        71\n",
            "   FEATURES#Positive     0.6034    0.1750    0.2713       200\n",
            "   FEATURES#Negative     0.6427    0.6623    0.6524       459\n",
            "    FEATURES#Neutral     0.0000    0.0000    0.0000        52\n",
            "    BATTERY#Positive     0.6207    0.6823    0.6500       554\n",
            "    BATTERY#Negative     0.7592    0.5054    0.6069       368\n",
            "     BATTERY#Neutral     0.0000    0.0000    0.0000        92\n",
            "PERFORMANCE#Positive     0.6464    0.7591    0.6982       602\n",
            "PERFORMANCE#Negative     0.6499    0.6256    0.6375       454\n",
            " PERFORMANCE#Neutral     0.0833    0.0086    0.0156       116\n",
            "    STORAGE#Positive     0.0000    0.0000    0.0000        18\n",
            "    STORAGE#Negative     0.0000    0.0000    0.0000         6\n",
            "     STORAGE#Neutral     0.0000    0.0000    0.0000         3\n",
            "     DESIGN#Positive     0.7346    0.4343    0.5459       274\n",
            "     DESIGN#Negative     0.6429    0.0938    0.1636        96\n",
            "      DESIGN#Neutral     0.0000    0.0000    0.0000        28\n",
            "      PRICE#Positive     0.5660    0.1852    0.2791       162\n",
            "      PRICE#Negative     0.3333    0.0886    0.1400        79\n",
            "       PRICE#Neutral     0.6769    0.4024    0.5048       328\n",
            "    GENERAL#Positive     0.7079    0.7869    0.7453      1004\n",
            "    GENERAL#Negative     0.5607    0.4558    0.5028       294\n",
            "     GENERAL#Neutral     0.0000    0.0000    0.0000        83\n",
            "    SER&ACC#Positive     0.8504    0.7694    0.8079       399\n",
            "    SER&ACC#Negative     0.6383    0.1796    0.2804       167\n",
            "     SER&ACC#Neutral     0.0000    0.0000    0.0000        27\n",
            "              OTHERS     0.4587    0.1949    0.2736       513\n",
            "\n",
            "           micro avg     0.6600    0.4934    0.5647      7235\n",
            "           macro avg     0.4020    0.2593    0.2930      7235\n",
            "        weighted avg     0.6015    0.4934    0.5194      7235\n",
            "         samples avg     0.6347    0.5175    0.5294      7235\n",
            "\n"
          ]
        },
        {
          "output_type": "stream",
          "name": "stderr",
          "text": [
            "/usr/local/lib/python3.10/dist-packages/sklearn/metrics/_classification.py:1344: UndefinedMetricWarning: Precision and F-score are ill-defined and being set to 0.0 in labels with no predicted samples. Use `zero_division` parameter to control this behavior.\n",
            "  _warn_prf(average, modifier, msg_start, len(result))\n",
            "/usr/local/lib/python3.10/dist-packages/sklearn/metrics/_classification.py:1344: UndefinedMetricWarning: Precision and F-score are ill-defined and being set to 0.0 in samples with no predicted labels. Use `zero_division` parameter to control this behavior.\n",
            "  _warn_prf(average, modifier, msg_start, len(result))\n"
          ]
        }
      ]
    },
    {
      "cell_type": "markdown",
      "source": [
        "#áp dụng preprocess\n"
      ],
      "metadata": {
        "id": "jeSvvEhXlEvC"
      }
    },
    {
      "cell_type": "code",
      "source": [
        "predictions = pd.DataFrame()\n",
        "nb = Pipeline([\n",
        "    ('vect', CountVectorizer()),\n",
        "    ('clf', MultinomialNB())\n",
        "])\n",
        "\n",
        "for category in Y_train.columns:\n",
        "    print('... Processing {}'.format(category))\n",
        "    nb.fit(X_train, Y_train[category])\n",
        "    prediction = nb.predict(X_test)\n",
        "    predictions[category] = prediction\n",
        "\n",
        "print(classification_report(Y_test, predictions, target_names=Y_test.columns, digits=4))"
      ],
      "metadata": {
        "colab": {
          "base_uri": "https://localhost:8080/"
        },
        "id": "vRtKfP1RlDwv",
        "outputId": "caf0dd7c-be2c-4277-c464-51e8eaad459e"
      },
      "execution_count": null,
      "outputs": [
        {
          "output_type": "stream",
          "name": "stdout",
          "text": [
            "... Processing SCREEN#Positive\n",
            "... Processing SCREEN#Negative\n",
            "... Processing SCREEN#Neutral\n",
            "... Processing CAMERA#Positive\n",
            "... Processing CAMERA#Negative\n",
            "... Processing CAMERA#Neutral\n",
            "... Processing FEATURES#Positive\n",
            "... Processing FEATURES#Negative\n",
            "... Processing FEATURES#Neutral\n",
            "... Processing BATTERY#Positive\n",
            "... Processing BATTERY#Negative\n",
            "... Processing BATTERY#Neutral\n",
            "... Processing PERFORMANCE#Positive\n",
            "... Processing PERFORMANCE#Negative\n",
            "... Processing PERFORMANCE#Neutral\n",
            "... Processing STORAGE#Positive\n",
            "... Processing STORAGE#Negative\n",
            "... Processing STORAGE#Neutral\n",
            "... Processing DESIGN#Positive\n",
            "... Processing DESIGN#Negative\n",
            "... Processing DESIGN#Neutral\n",
            "... Processing PRICE#Positive\n",
            "... Processing PRICE#Negative\n",
            "... Processing PRICE#Neutral\n",
            "... Processing GENERAL#Positive\n",
            "... Processing GENERAL#Negative\n",
            "... Processing GENERAL#Neutral\n",
            "... Processing SER&ACC#Positive\n",
            "... Processing SER&ACC#Negative\n",
            "... Processing SER&ACC#Neutral\n",
            "... Processing OTHERS\n",
            "                      precision    recall  f1-score   support\n",
            "\n",
            "     SCREEN#Positive     0.4259    0.1691    0.2421       136\n",
            "     SCREEN#Negative     0.5000    0.0776    0.1343       116\n",
            "      SCREEN#Neutral     0.0000    0.0000    0.0000        17\n",
            "     CAMERA#Positive     0.5641    0.6358    0.5978       346\n",
            "     CAMERA#Negative     0.6901    0.2865    0.4050       171\n",
            "      CAMERA#Neutral     0.0000    0.0000    0.0000        71\n",
            "   FEATURES#Positive     0.4745    0.3250    0.3858       200\n",
            "   FEATURES#Negative     0.6111    0.7190    0.6607       459\n",
            "    FEATURES#Neutral     0.0000    0.0000    0.0000        52\n",
            "    BATTERY#Positive     0.5735    0.7040    0.6321       554\n",
            "    BATTERY#Negative     0.7491    0.5679    0.6461       368\n",
            "     BATTERY#Neutral     0.2000    0.0109    0.0206        92\n",
            "PERFORMANCE#Positive     0.5945    0.7525    0.6642       602\n",
            "PERFORMANCE#Negative     0.6118    0.6872    0.6473       454\n",
            " PERFORMANCE#Neutral     0.1818    0.0172    0.0315       116\n",
            "    STORAGE#Positive     0.0000    0.0000    0.0000        18\n",
            "    STORAGE#Negative     0.0000    0.0000    0.0000         6\n",
            "     STORAGE#Neutral     0.0000    0.0000    0.0000         3\n",
            "     DESIGN#Positive     0.5630    0.4891    0.5234       274\n",
            "     DESIGN#Negative     0.4375    0.0729    0.1250        96\n",
            "      DESIGN#Neutral     0.0000    0.0000    0.0000        28\n",
            "      PRICE#Positive     0.5208    0.3086    0.3876       162\n",
            "      PRICE#Negative     0.4000    0.0506    0.0899        79\n",
            "       PRICE#Neutral     0.7054    0.5549    0.6212       328\n",
            "    GENERAL#Positive     0.7291    0.8098    0.7673      1004\n",
            "    GENERAL#Negative     0.5526    0.5714    0.5619       294\n",
            "     GENERAL#Neutral     0.0000    0.0000    0.0000        83\n",
            "    SER&ACC#Positive     0.7804    0.7569    0.7684       399\n",
            "    SER&ACC#Negative     0.5857    0.2455    0.3460       167\n",
            "     SER&ACC#Neutral     0.0000    0.0000    0.0000        27\n",
            "              OTHERS     0.4869    0.3255    0.3902       513\n",
            "\n",
            "           micro avg     0.6237    0.5433    0.5807      7235\n",
            "           macro avg     0.3851    0.2948    0.3112      7235\n",
            "        weighted avg     0.5764    0.5433    0.5420      7235\n",
            "         samples avg     0.6150    0.5667    0.5461      7235\n",
            "\n"
          ]
        },
        {
          "output_type": "stream",
          "name": "stderr",
          "text": [
            "/usr/local/lib/python3.10/dist-packages/sklearn/metrics/_classification.py:1344: UndefinedMetricWarning: Precision and F-score are ill-defined and being set to 0.0 in labels with no predicted samples. Use `zero_division` parameter to control this behavior.\n",
            "  _warn_prf(average, modifier, msg_start, len(result))\n",
            "/usr/local/lib/python3.10/dist-packages/sklearn/metrics/_classification.py:1344: UndefinedMetricWarning: Precision and F-score are ill-defined and being set to 0.0 in samples with no predicted labels. Use `zero_division` parameter to control this behavior.\n",
            "  _warn_prf(average, modifier, msg_start, len(result))\n"
          ]
        }
      ]
    },
    {
      "cell_type": "markdown",
      "source": [
        "#linear SVC aspect_senti preprocessing"
      ],
      "metadata": {
        "id": "vlTrd0u5dAKh"
      }
    },
    {
      "cell_type": "code",
      "source": [
        "from sklearn.svm import SVC\n",
        "predictions = pd.DataFrame()\n",
        "nb = Pipeline([('vect', CountVectorizer()),('tfidf', TfidfTransformer()),('clf', SVC(gamma='auto')),])\n",
        "for category in Y_train.columns:\n",
        "  print('... Processing {}'.format(category))\n",
        "  nb.fit(X_train,Y_train[category])\n",
        "  prediction = nb.predict(X_test)\n",
        "  predictions[category] = prediction\n",
        "print(classification_report(Y_test, predictions, target_names=Y_test.columns, digits= 4))"
      ],
      "metadata": {
        "colab": {
          "base_uri": "https://localhost:8080/"
        },
        "id": "I7WlamxocxZP",
        "outputId": "d69ed0f2-93b1-4823-e293-f10aef26961c"
      },
      "execution_count": null,
      "outputs": [
        {
          "output_type": "stream",
          "name": "stdout",
          "text": [
            "... Processing SCREEN#Positive\n",
            "... Processing SCREEN#Negative\n",
            "... Processing SCREEN#Neutral\n",
            "... Processing CAMERA#Positive\n",
            "... Processing CAMERA#Negative\n",
            "... Processing CAMERA#Neutral\n",
            "... Processing FEATURES#Positive\n",
            "... Processing FEATURES#Negative\n",
            "... Processing FEATURES#Neutral\n",
            "... Processing BATTERY#Positive\n",
            "... Processing BATTERY#Negative\n",
            "... Processing BATTERY#Neutral\n",
            "... Processing PERFORMANCE#Positive\n",
            "... Processing PERFORMANCE#Negative\n",
            "... Processing PERFORMANCE#Neutral\n",
            "... Processing STORAGE#Positive\n",
            "... Processing STORAGE#Negative\n",
            "... Processing STORAGE#Neutral\n",
            "... Processing DESIGN#Positive\n",
            "... Processing DESIGN#Negative\n",
            "... Processing DESIGN#Neutral\n",
            "... Processing PRICE#Positive\n",
            "... Processing PRICE#Negative\n",
            "... Processing PRICE#Neutral\n",
            "... Processing GENERAL#Positive\n",
            "... Processing GENERAL#Negative\n",
            "... Processing GENERAL#Neutral\n",
            "... Processing SER&ACC#Positive\n",
            "... Processing SER&ACC#Negative\n",
            "... Processing SER&ACC#Neutral\n",
            "... Processing OTHERS\n",
            "                      precision    recall  f1-score   support\n",
            "\n",
            "     SCREEN#Positive     0.0000    0.0000    0.0000       136\n",
            "     SCREEN#Negative     0.0000    0.0000    0.0000       116\n",
            "      SCREEN#Neutral     0.0000    0.0000    0.0000        17\n",
            "     CAMERA#Positive     0.0000    0.0000    0.0000       346\n",
            "     CAMERA#Negative     0.0000    0.0000    0.0000       171\n",
            "      CAMERA#Neutral     0.0000    0.0000    0.0000        71\n",
            "   FEATURES#Positive     0.0000    0.0000    0.0000       200\n",
            "   FEATURES#Negative     0.0000    0.0000    0.0000       459\n",
            "    FEATURES#Neutral     0.0000    0.0000    0.0000        52\n",
            "    BATTERY#Positive     0.0000    0.0000    0.0000       554\n",
            "    BATTERY#Negative     0.0000    0.0000    0.0000       368\n",
            "     BATTERY#Neutral     0.0000    0.0000    0.0000        92\n",
            "PERFORMANCE#Positive     0.0000    0.0000    0.0000       602\n",
            "PERFORMANCE#Negative     0.0000    0.0000    0.0000       454\n",
            " PERFORMANCE#Neutral     0.0000    0.0000    0.0000       116\n",
            "    STORAGE#Positive     0.0000    0.0000    0.0000        18\n",
            "    STORAGE#Negative     0.0000    0.0000    0.0000         6\n",
            "     STORAGE#Neutral     0.0000    0.0000    0.0000         3\n",
            "     DESIGN#Positive     0.0000    0.0000    0.0000       274\n",
            "     DESIGN#Negative     0.0000    0.0000    0.0000        96\n",
            "      DESIGN#Neutral     0.0000    0.0000    0.0000        28\n",
            "      PRICE#Positive     0.0000    0.0000    0.0000       162\n",
            "      PRICE#Negative     0.0000    0.0000    0.0000        79\n",
            "       PRICE#Neutral     0.0000    0.0000    0.0000       328\n",
            "    GENERAL#Positive     0.0000    0.0000    0.0000      1004\n",
            "    GENERAL#Negative     0.0000    0.0000    0.0000       294\n",
            "     GENERAL#Neutral     0.0000    0.0000    0.0000        83\n",
            "    SER&ACC#Positive     0.0000    0.0000    0.0000       399\n",
            "    SER&ACC#Negative     0.0000    0.0000    0.0000       167\n",
            "     SER&ACC#Neutral     0.0000    0.0000    0.0000        27\n",
            "              OTHERS     0.0000    0.0000    0.0000       513\n",
            "\n",
            "           micro avg     0.0000    0.0000    0.0000      7235\n",
            "           macro avg     0.0000    0.0000    0.0000      7235\n",
            "        weighted avg     0.0000    0.0000    0.0000      7235\n",
            "         samples avg     0.0000    0.0000    0.0000      7235\n",
            "\n"
          ]
        },
        {
          "output_type": "stream",
          "name": "stderr",
          "text": [
            "/usr/local/lib/python3.10/dist-packages/sklearn/metrics/_classification.py:1344: UndefinedMetricWarning: Precision and F-score are ill-defined and being set to 0.0 in labels with no predicted samples. Use `zero_division` parameter to control this behavior.\n",
            "  _warn_prf(average, modifier, msg_start, len(result))\n",
            "/usr/local/lib/python3.10/dist-packages/sklearn/metrics/_classification.py:1344: UndefinedMetricWarning: Precision and F-score are ill-defined and being set to 0.0 due to no predicted samples. Use `zero_division` parameter to control this behavior.\n",
            "  _warn_prf(average, modifier, msg_start, len(result))\n",
            "/usr/local/lib/python3.10/dist-packages/sklearn/metrics/_classification.py:1344: UndefinedMetricWarning: Precision and F-score are ill-defined and being set to 0.0 in samples with no predicted labels. Use `zero_division` parameter to control this behavior.\n",
            "  _warn_prf(average, modifier, msg_start, len(result))\n"
          ]
        }
      ]
    },
    {
      "cell_type": "markdown",
      "source": [
        "#embedding + fasttext"
      ],
      "metadata": {
        "id": "WnSSXbGD7Lkj"
      }
    },
    {
      "cell_type": "code",
      "execution_count": null,
      "metadata": {
        "id": "LsQmbwgzqkp-",
        "colab": {
          "base_uri": "https://localhost:8080/"
        },
        "outputId": "04b005b0-5bd7-4e5f-eb37-c4cd81fff71c"
      },
      "outputs": [
        {
          "output_type": "stream",
          "name": "stdout",
          "text": [
            "--2023-07-06 06:17:48--  https://dl.fbaipublicfiles.com/fasttext/vectors-crawl/cc.vi.300.vec.gz\n",
            "Resolving dl.fbaipublicfiles.com (dl.fbaipublicfiles.com)... 13.224.249.96, 13.224.249.94, 13.224.249.63, ...\n",
            "Connecting to dl.fbaipublicfiles.com (dl.fbaipublicfiles.com)|13.224.249.96|:443... connected.\n",
            "HTTP request sent, awaiting response... 200 OK\n",
            "Length: 1235219084 (1.1G) [binary/octet-stream]\n",
            "Saving to: ‘cc.vi.300.vec.gz.1’\n",
            "\n",
            "cc.vi.300.vec.gz.1  100%[===================>]   1.15G   181MB/s    in 8.6s    \n",
            "\n",
            "2023-07-06 06:17:56 (137 MB/s) - ‘cc.vi.300.vec.gz.1’ saved [1235219084/1235219084]\n",
            "\n"
          ]
        }
      ],
      "source": [
        "! wget https://dl.fbaipublicfiles.com/fasttext/vectors-crawl/cc.vi.300.vec.gz"
      ]
    },
    {
      "cell_type": "code",
      "execution_count": null,
      "metadata": {
        "id": "3XCrrj1uql8X"
      },
      "outputs": [],
      "source": [
        "import gzip\n",
        "import shutil\n",
        "with gzip.open('cc.vi.300.vec.gz', 'rb') as f_in:\n",
        "    with open('cc.vi.300.vec', 'wb') as f_out:\n",
        "        shutil.copyfileobj(f_in, f_out)"
      ]
    },
    {
      "cell_type": "code",
      "execution_count": null,
      "metadata": {
        "id": "azZlhTx-quzv"
      },
      "outputs": [],
      "source": [
        "EMBEDDING_FILE= '/content/cc.vi.300.vec'"
      ]
    },
    {
      "cell_type": "code",
      "execution_count": null,
      "metadata": {
        "id": "YxHVglx6qv8b"
      },
      "outputs": [],
      "source": [
        "max_features=2489\n",
        "maxlen=150\n",
        "embed_size=300"
      ]
    },
    {
      "cell_type": "code",
      "execution_count": null,
      "metadata": {
        "id": "xnfEOtvKqyD2"
      },
      "outputs": [],
      "source": [
        "y_train = dd_train\n",
        "y_test = dd_test"
      ]
    },
    {
      "cell_type": "code",
      "execution_count": null,
      "metadata": {
        "id": "7Y5ibUO5q0L2"
      },
      "outputs": [],
      "source": [
        "tokenizer = text.Tokenizer(num_words=max_features, lower=True)\n",
        "tokenizer.fit_on_texts(list(X_train))\n",
        "word_index = tokenizer.word_index"
      ]
    },
    {
      "cell_type": "code",
      "execution_count": null,
      "metadata": {
        "id": "62PhIK75q1X-"
      },
      "outputs": [],
      "source": [
        "X_train = tokenizer.texts_to_sequences(X_train)\n",
        "X_test = tokenizer.texts_to_sequences(X_test)"
      ]
    },
    {
      "cell_type": "code",
      "execution_count": null,
      "metadata": {
        "id": "PhnON84A4GXa",
        "colab": {
          "base_uri": "https://localhost:8080/"
        },
        "outputId": "7bbd2955-c517-4874-871e-b6b8604d0660"
      },
      "outputs": [
        {
          "output_type": "stream",
          "name": "stdout",
          "text": [
            "Requirement already satisfied: keras_preprocessing in /usr/local/lib/python3.10/dist-packages (1.1.2)\n",
            "Requirement already satisfied: numpy>=1.9.1 in /usr/local/lib/python3.10/dist-packages (from keras_preprocessing) (1.22.4)\n",
            "Requirement already satisfied: six>=1.9.0 in /usr/local/lib/python3.10/dist-packages (from keras_preprocessing) (1.16.0)\n"
          ]
        }
      ],
      "source": [
        "!pip install keras_preprocessing"
      ]
    },
    {
      "cell_type": "code",
      "execution_count": null,
      "metadata": {
        "id": "_by8CwOUq6YG",
        "colab": {
          "base_uri": "https://localhost:8080/"
        },
        "outputId": "3a54b2f1-bf5b-4870-f4c1-6c15abc881fc"
      },
      "outputs": [
        {
          "output_type": "stream",
          "name": "stdout",
          "text": [
            "create vector\n"
          ]
        }
      ],
      "source": [
        "from keras_preprocessing.sequence import pad_sequences\n",
        "\n",
        "X_train = pad_sequences(X_train, maxlen=maxlen)\n",
        "X_test = pad_sequences(X_test, maxlen=maxlen)\n",
        "print(\"create vector\")"
      ]
    },
    {
      "cell_type": "code",
      "execution_count": null,
      "metadata": {
        "id": "y-MrRs0Pq7X2"
      },
      "outputs": [],
      "source": [
        "embeddings_index = {}\n",
        "with open(EMBEDDING_FILE) as f:\n",
        "    for line in f:\n",
        "        values = line.strip().split()\n",
        "        word = values[0]\n",
        "        coefs = np.asarray(values[1:], dtype='float32')\n",
        "        embeddings_index[word] = coefs"
      ]
    },
    {
      "cell_type": "code",
      "execution_count": null,
      "metadata": {
        "id": "CpIeBHxIq7wP"
      },
      "outputs": [],
      "source": [
        "embedding_dim = 300\n",
        "embedding_matrix = np.zeros((max_features, embedding_dim))"
      ]
    },
    {
      "cell_type": "code",
      "execution_count": null,
      "metadata": {
        "id": "s24Kd1qmq9Df"
      },
      "outputs": [],
      "source": [
        "for word, i in word_index.items():\n",
        "    if i >= max_features:\n",
        "        continue\n",
        "\n",
        "    embedding_vector = embeddings_index.get(word)\n",
        "    if embedding_vector is not None:\n",
        "        embedding_matrix[i] = embedding_vector[:embedding_dim]"
      ]
    },
    {
      "cell_type": "code",
      "execution_count": null,
      "metadata": {
        "id": "yPYn0ZTbq-P4"
      },
      "outputs": [],
      "source": [
        "def recall_m(y_true, y_pred):\n",
        "    true_positives = K.sum(K.round(K.clip(y_true * y_pred, 0, 1)))\n",
        "    possible_positives = K.sum(K.round(K.clip(y_true, 0, 1)))\n",
        "    recall = true_positives / (possible_positives + K.epsilon())\n",
        "    return recall\n",
        "\n",
        "def precision_m(y_true, y_pred):\n",
        "    true_positives = K.sum(K.round(K.clip(y_true * y_pred, 0, 1)))\n",
        "    predicted_positives = K.sum(K.round(K.clip(y_pred, 0, 1)))\n",
        "    precision = true_positives / (predicted_positives + K.epsilon())\n",
        "    return precision\n",
        "\n",
        "def f1_m(y_true, y_pred):\n",
        "    precision = precision_m(y_true, y_pred)\n",
        "    recall = recall_m(y_true, y_pred)\n",
        "    return 2*((precision*recall)/(precision+recall+K.epsilon()))"
      ]
    },
    {
      "cell_type": "code",
      "execution_count": null,
      "metadata": {
        "id": "naO6ugg0rjFP"
      },
      "outputs": [],
      "source": [
        "import keras\n",
        "from keras import optimizers\n",
        "from keras import backend as K\n",
        "from keras import regularizers\n",
        "from keras.models import Sequential\n",
        "from keras.layers import Dense, Activation, Dropout, Flatten\n",
        "from keras.layers import Embedding, Conv1D, MaxPooling1D, GlobalMaxPooling1D\n",
        "from keras.utils import plot_model\n",
        "from keras.preprocessing import sequence\n",
        "from keras.preprocessing.text import Tokenizer\n",
        "from keras.callbacks import EarlyStopping\n",
        "\n",
        "from tqdm import tqdm\n",
        "from nltk.corpus import stopwords\n",
        "from nltk.tokenize import RegexpTokenizer\n",
        "import os, re, csv, math, codecs"
      ]
    },
    {
      "cell_type": "code",
      "execution_count": null,
      "metadata": {
        "id": "CwYc5bOarjfO"
      },
      "outputs": [],
      "source": [
        "#training params\n",
        "batch_size = 32\n",
        "epochs =20\n",
        "\n",
        "#model parameters\n",
        "num_filters = 64\n",
        "embed_dim = 300\n",
        "weight_decay = 1e-4"
      ]
    },
    {
      "cell_type": "code",
      "source": [
        "!pip install tensorflow==2.4.1\n",
        "!pip install keras==2.4.3"
      ],
      "metadata": {
        "colab": {
          "base_uri": "https://localhost:8080/"
        },
        "id": "rn0S8HF31m8h",
        "outputId": "743f847c-b9f4-4e28-98a9-560475830a5e"
      },
      "execution_count": null,
      "outputs": [
        {
          "output_type": "stream",
          "name": "stdout",
          "text": [
            "\u001b[31mERROR: Could not find a version that satisfies the requirement tensorflow==2.4.1 (from versions: 2.8.0rc0, 2.8.0rc1, 2.8.0, 2.8.1, 2.8.2, 2.8.3, 2.8.4, 2.9.0rc0, 2.9.0rc1, 2.9.0rc2, 2.9.0, 2.9.1, 2.9.2, 2.9.3, 2.10.0rc0, 2.10.0rc1, 2.10.0rc2, 2.10.0rc3, 2.10.0, 2.10.1, 2.11.0rc0, 2.11.0rc1, 2.11.0rc2, 2.11.0, 2.11.1, 2.12.0rc0, 2.12.0rc1, 2.12.0, 2.12.1, 2.13.0rc0, 2.13.0rc1, 2.13.0rc2, 2.13.0)\u001b[0m\u001b[31m\n",
            "\u001b[0m\u001b[31mERROR: No matching distribution found for tensorflow==2.4.1\u001b[0m\u001b[31m\n",
            "\u001b[0mRequirement already satisfied: keras==2.4.3 in /usr/local/lib/python3.10/dist-packages (2.4.3)\n",
            "Requirement already satisfied: numpy>=1.9.1 in /usr/local/lib/python3.10/dist-packages (from keras==2.4.3) (1.22.4)\n",
            "Requirement already satisfied: scipy>=0.14 in /usr/local/lib/python3.10/dist-packages (from keras==2.4.3) (1.10.1)\n",
            "Requirement already satisfied: pyyaml in /usr/local/lib/python3.10/dist-packages (from keras==2.4.3) (6.0)\n",
            "Requirement already satisfied: h5py in /usr/local/lib/python3.10/dist-packages (from keras==2.4.3) (3.8.0)\n"
          ]
        }
      ]
    },
    {
      "cell_type": "code",
      "execution_count": null,
      "metadata": {
        "id": "9e55RzRn2TJ2",
        "colab": {
          "base_uri": "https://localhost:8080/"
        },
        "outputId": "bf2d5c42-04d8-4af7-90e8-cdf15996b5f1"
      },
      "outputs": [
        {
          "output_type": "stream",
          "name": "stdout",
          "text": [
            "Requirement already satisfied: keras in /usr/local/lib/python3.10/dist-packages (2.13.1)\n",
            "Requirement already satisfied: tensorflow in /usr/local/lib/python3.10/dist-packages (2.13.0)\n",
            "Requirement already satisfied: absl-py>=1.0.0 in /usr/local/lib/python3.10/dist-packages (from tensorflow) (1.4.0)\n",
            "Requirement already satisfied: astunparse>=1.6.0 in /usr/local/lib/python3.10/dist-packages (from tensorflow) (1.6.3)\n",
            "Requirement already satisfied: flatbuffers>=23.1.21 in /usr/local/lib/python3.10/dist-packages (from tensorflow) (23.5.26)\n",
            "Requirement already satisfied: gast<=0.4.0,>=0.2.1 in /usr/local/lib/python3.10/dist-packages (from tensorflow) (0.4.0)\n",
            "Requirement already satisfied: google-pasta>=0.1.1 in /usr/local/lib/python3.10/dist-packages (from tensorflow) (0.2.0)\n",
            "Requirement already satisfied: grpcio<2.0,>=1.24.3 in /usr/local/lib/python3.10/dist-packages (from tensorflow) (1.56.0)\n",
            "Requirement already satisfied: h5py>=2.9.0 in /usr/local/lib/python3.10/dist-packages (from tensorflow) (3.8.0)\n",
            "Requirement already satisfied: libclang>=13.0.0 in /usr/local/lib/python3.10/dist-packages (from tensorflow) (16.0.0)\n",
            "Requirement already satisfied: numpy<=1.24.3,>=1.22 in /usr/local/lib/python3.10/dist-packages (from tensorflow) (1.22.4)\n",
            "Requirement already satisfied: opt-einsum>=2.3.2 in /usr/local/lib/python3.10/dist-packages (from tensorflow) (3.3.0)\n",
            "Requirement already satisfied: packaging in /usr/local/lib/python3.10/dist-packages (from tensorflow) (23.1)\n",
            "Requirement already satisfied: protobuf!=4.21.0,!=4.21.1,!=4.21.2,!=4.21.3,!=4.21.4,!=4.21.5,<5.0.0dev,>=3.20.3 in /usr/local/lib/python3.10/dist-packages (from tensorflow) (3.20.3)\n",
            "Requirement already satisfied: setuptools in /usr/local/lib/python3.10/dist-packages (from tensorflow) (67.7.2)\n",
            "Requirement already satisfied: six>=1.12.0 in /usr/local/lib/python3.10/dist-packages (from tensorflow) (1.16.0)\n",
            "Requirement already satisfied: tensorboard<2.14,>=2.13 in /usr/local/lib/python3.10/dist-packages (from tensorflow) (2.13.0)\n",
            "Requirement already satisfied: tensorflow-estimator<2.14,>=2.13.0 in /usr/local/lib/python3.10/dist-packages (from tensorflow) (2.13.0)\n",
            "Requirement already satisfied: termcolor>=1.1.0 in /usr/local/lib/python3.10/dist-packages (from tensorflow) (2.3.0)\n",
            "Requirement already satisfied: typing-extensions<4.6.0,>=3.6.6 in /usr/local/lib/python3.10/dist-packages (from tensorflow) (4.5.0)\n",
            "Requirement already satisfied: wrapt>=1.11.0 in /usr/local/lib/python3.10/dist-packages (from tensorflow) (1.14.1)\n",
            "Requirement already satisfied: tensorflow-io-gcs-filesystem>=0.23.1 in /usr/local/lib/python3.10/dist-packages (from tensorflow) (0.32.0)\n",
            "Requirement already satisfied: wheel<1.0,>=0.23.0 in /usr/local/lib/python3.10/dist-packages (from astunparse>=1.6.0->tensorflow) (0.40.0)\n",
            "Requirement already satisfied: google-auth<3,>=1.6.3 in /usr/local/lib/python3.10/dist-packages (from tensorboard<2.14,>=2.13->tensorflow) (2.17.3)\n",
            "Requirement already satisfied: google-auth-oauthlib<1.1,>=0.5 in /usr/local/lib/python3.10/dist-packages (from tensorboard<2.14,>=2.13->tensorflow) (1.0.0)\n",
            "Requirement already satisfied: markdown>=2.6.8 in /usr/local/lib/python3.10/dist-packages (from tensorboard<2.14,>=2.13->tensorflow) (3.4.3)\n",
            "Requirement already satisfied: requests<3,>=2.21.0 in /usr/local/lib/python3.10/dist-packages (from tensorboard<2.14,>=2.13->tensorflow) (2.27.1)\n",
            "Requirement already satisfied: tensorboard-data-server<0.8.0,>=0.7.0 in /usr/local/lib/python3.10/dist-packages (from tensorboard<2.14,>=2.13->tensorflow) (0.7.1)\n",
            "Requirement already satisfied: werkzeug>=1.0.1 in /usr/local/lib/python3.10/dist-packages (from tensorboard<2.14,>=2.13->tensorflow) (2.3.6)\n",
            "Requirement already satisfied: cachetools<6.0,>=2.0.0 in /usr/local/lib/python3.10/dist-packages (from google-auth<3,>=1.6.3->tensorboard<2.14,>=2.13->tensorflow) (5.3.1)\n",
            "Requirement already satisfied: pyasn1-modules>=0.2.1 in /usr/local/lib/python3.10/dist-packages (from google-auth<3,>=1.6.3->tensorboard<2.14,>=2.13->tensorflow) (0.3.0)\n",
            "Requirement already satisfied: rsa<5,>=3.1.4 in /usr/local/lib/python3.10/dist-packages (from google-auth<3,>=1.6.3->tensorboard<2.14,>=2.13->tensorflow) (4.9)\n",
            "Requirement already satisfied: requests-oauthlib>=0.7.0 in /usr/local/lib/python3.10/dist-packages (from google-auth-oauthlib<1.1,>=0.5->tensorboard<2.14,>=2.13->tensorflow) (1.3.1)\n",
            "Requirement already satisfied: urllib3<1.27,>=1.21.1 in /usr/local/lib/python3.10/dist-packages (from requests<3,>=2.21.0->tensorboard<2.14,>=2.13->tensorflow) (1.26.16)\n",
            "Requirement already satisfied: certifi>=2017.4.17 in /usr/local/lib/python3.10/dist-packages (from requests<3,>=2.21.0->tensorboard<2.14,>=2.13->tensorflow) (2023.5.7)\n",
            "Requirement already satisfied: charset-normalizer~=2.0.0 in /usr/local/lib/python3.10/dist-packages (from requests<3,>=2.21.0->tensorboard<2.14,>=2.13->tensorflow) (2.0.12)\n",
            "Requirement already satisfied: idna<4,>=2.5 in /usr/local/lib/python3.10/dist-packages (from requests<3,>=2.21.0->tensorboard<2.14,>=2.13->tensorflow) (3.4)\n",
            "Requirement already satisfied: MarkupSafe>=2.1.1 in /usr/local/lib/python3.10/dist-packages (from werkzeug>=1.0.1->tensorboard<2.14,>=2.13->tensorflow) (2.1.3)\n",
            "Requirement already satisfied: pyasn1<0.6.0,>=0.4.6 in /usr/local/lib/python3.10/dist-packages (from pyasn1-modules>=0.2.1->google-auth<3,>=1.6.3->tensorboard<2.14,>=2.13->tensorflow) (0.5.0)\n",
            "Requirement already satisfied: oauthlib>=3.0.0 in /usr/local/lib/python3.10/dist-packages (from requests-oauthlib>=0.7.0->google-auth-oauthlib<1.1,>=0.5->tensorboard<2.14,>=2.13->tensorflow) (3.2.2)\n"
          ]
        }
      ],
      "source": [
        "!pip install --upgrade keras tensorflow"
      ]
    },
    {
      "cell_type": "markdown",
      "metadata": {
        "id": "APn-L0YfDCFL"
      },
      "source": [
        "##cnn polaryti"
      ]
    },
    {
      "cell_type": "code",
      "execution_count": null,
      "metadata": {
        "id": "FRW5HOf_rnTO",
        "colab": {
          "base_uri": "https://localhost:8080/"
        },
        "outputId": "286272a9-9f91-4de8-c112-64f9c7237ea3"
      },
      "outputs": [
        {
          "output_type": "stream",
          "name": "stdout",
          "text": [
            "training CNN ...\n",
            "Model: \"sequential_1\"\n",
            "_________________________________________________________________\n",
            " Layer (type)                Output Shape              Param #   \n",
            "=================================================================\n",
            " embedding_1 (Embedding)     (None, 150, 300)          746700    \n",
            "                                                                 \n",
            " conv1d_2 (Conv1D)           (None, 150, 64)           134464    \n",
            "                                                                 \n",
            " max_pooling1d_1 (MaxPooling  (None, 75, 64)           0         \n",
            " 1D)                                                             \n",
            "                                                                 \n",
            " conv1d_3 (Conv1D)           (None, 75, 64)            28736     \n",
            "                                                                 \n",
            " global_max_pooling1d_1 (Glo  (None, 64)               0         \n",
            " balMaxPooling1D)                                                \n",
            "                                                                 \n",
            " dropout_1 (Dropout)         (None, 64)                0         \n",
            "                                                                 \n",
            " dense_2 (Dense)             (None, 32)                2080      \n",
            "                                                                 \n",
            " dense_3 (Dense)             (None, 31)                1023      \n",
            "                                                                 \n",
            "=================================================================\n",
            "Total params: 913,003\n",
            "Trainable params: 166,303\n",
            "Non-trainable params: 746,700\n",
            "_________________________________________________________________\n"
          ]
        },
        {
          "output_type": "stream",
          "name": "stderr",
          "text": [
            "/usr/local/lib/python3.10/dist-packages/keras/optimizers/legacy/adam.py:117: UserWarning: The `lr` argument is deprecated, use `learning_rate` instead.\n",
            "  super().__init__(name, **kwargs)\n"
          ]
        }
      ],
      "source": [
        "print(\"training CNN ...\")\n",
        "model = Sequential()\n",
        "model.add(Embedding(max_features, embed_size,\n",
        "          weights=[embedding_matrix], input_length=maxlen, trainable=False))\n",
        "model.add(Conv1D(num_filters, 7, activation='relu', padding='same'))\n",
        "model.add(MaxPooling1D(2))\n",
        "model.add(Conv1D(num_filters, 7, activation='relu', padding='same'))\n",
        "model.add(GlobalMaxPooling1D())\n",
        "model.add(Dropout(0.5))\n",
        "model.add(Dense(32, activation='relu', kernel_regularizer=regularizers.l2(weight_decay)))\n",
        "model.add(Dense(31, activation='sigmoid'))  #multi-label (k-hot encoding)\n",
        "\n",
        "adam = optimizers.Adam(lr=0.001, beta_1=0.9, beta_2=0.999, epsilon=1e-08, decay=0.0)\n",
        "model.compile(loss='binary_crossentropy', optimizer=adam, metrics=['acc',f1_m,precision_m, recall_m])\n",
        "model.summary()"
      ]
    },
    {
      "cell_type": "code",
      "execution_count": null,
      "metadata": {
        "id": "nFoAX4TiI6XY"
      },
      "outputs": [],
      "source": [
        "#define callbacks\n",
        "early_stopping = EarlyStopping(monitor='val_loss', min_delta=0.01, patience=4, verbose=1)\n",
        "callbacks_list = [early_stopping]"
      ]
    },
    {
      "cell_type": "code",
      "execution_count": null,
      "metadata": {
        "id": "dF_-OqlJI85J",
        "colab": {
          "base_uri": "https://localhost:8080/"
        },
        "outputId": "f0ec12c9-783f-4336-b443-883e093e8246"
      },
      "outputs": [
        {
          "output_type": "stream",
          "name": "stdout",
          "text": [
            "Epoch 1/20\n",
            "219/219 [==============================] - 15s 8ms/step - loss: 0.3648 - acc: 0.0402 - f1_m: 0.1216 - precision_m: 0.4018 - recall_m: 0.1010 - val_loss: 0.2644 - val_acc: 0.0359 - val_f1_m: 0.1390 - val_precision_m: 0.6989 - val_recall_m: 0.0778\n",
            "Epoch 2/20\n",
            "219/219 [==============================] - 1s 5ms/step - loss: 0.2687 - acc: 0.0866 - f1_m: 0.2833 - precision_m: 0.6443 - recall_m: 0.1876 - val_loss: 0.2321 - val_acc: 0.1682 - val_f1_m: 0.3981 - val_precision_m: 0.7160 - val_recall_m: 0.2771\n",
            "Epoch 3/20\n",
            "219/219 [==============================] - 1s 6ms/step - loss: 0.2490 - acc: 0.1427 - f1_m: 0.3800 - precision_m: 0.6632 - recall_m: 0.2686 - val_loss: 0.2208 - val_acc: 0.1874 - val_f1_m: 0.4685 - val_precision_m: 0.6997 - val_recall_m: 0.3540\n",
            "Epoch 4/20\n",
            "219/219 [==============================] - 2s 7ms/step - loss: 0.2388 - acc: 0.1690 - f1_m: 0.4116 - precision_m: 0.6756 - recall_m: 0.2984 - val_loss: 0.2158 - val_acc: 0.1630 - val_f1_m: 0.4958 - val_precision_m: 0.7014 - val_recall_m: 0.3861\n",
            "Epoch 5/20\n",
            "219/219 [==============================] - 2s 7ms/step - loss: 0.2293 - acc: 0.1928 - f1_m: 0.4470 - precision_m: 0.6978 - recall_m: 0.3310 - val_loss: 0.2077 - val_acc: 0.1977 - val_f1_m: 0.5326 - val_precision_m: 0.7029 - val_recall_m: 0.4302\n",
            "Epoch 6/20\n",
            "219/219 [==============================] - 1s 7ms/step - loss: 0.2222 - acc: 0.2074 - f1_m: 0.4674 - precision_m: 0.7077 - recall_m: 0.3511 - val_loss: 0.2042 - val_acc: 0.2003 - val_f1_m: 0.5135 - val_precision_m: 0.7439 - val_recall_m: 0.3938\n",
            "Epoch 7/20\n",
            "219/219 [==============================] - 1s 6ms/step - loss: 0.2153 - acc: 0.2182 - f1_m: 0.4965 - precision_m: 0.7226 - recall_m: 0.3800 - val_loss: 0.2015 - val_acc: 0.2092 - val_f1_m: 0.5540 - val_precision_m: 0.7466 - val_recall_m: 0.4421\n",
            "Epoch 8/20\n",
            "219/219 [==============================] - 1s 6ms/step - loss: 0.2097 - acc: 0.2233 - f1_m: 0.5146 - precision_m: 0.7330 - recall_m: 0.3984 - val_loss: 0.1972 - val_acc: 0.2195 - val_f1_m: 0.5702 - val_precision_m: 0.7431 - val_recall_m: 0.4649\n",
            "Epoch 9/20\n",
            "219/219 [==============================] - 1s 6ms/step - loss: 0.2035 - acc: 0.2416 - f1_m: 0.5320 - precision_m: 0.7464 - recall_m: 0.4155 - val_loss: 0.1959 - val_acc: 0.2388 - val_f1_m: 0.5681 - val_precision_m: 0.7439 - val_recall_m: 0.4614\n",
            "Epoch 10/20\n",
            "219/219 [==============================] - 1s 6ms/step - loss: 0.1993 - acc: 0.2469 - f1_m: 0.5467 - precision_m: 0.7490 - recall_m: 0.4325 - val_loss: 0.1932 - val_acc: 0.2362 - val_f1_m: 0.5704 - val_precision_m: 0.7611 - val_recall_m: 0.4575\n",
            "Epoch 11/20\n",
            "219/219 [==============================] - 2s 9ms/step - loss: 0.1940 - acc: 0.2576 - f1_m: 0.5645 - precision_m: 0.7610 - recall_m: 0.4504 - val_loss: 0.1904 - val_acc: 0.2478 - val_f1_m: 0.5912 - val_precision_m: 0.7535 - val_recall_m: 0.4882\n",
            "Epoch 12/20\n",
            "219/219 [==============================] - 2s 7ms/step - loss: 0.1899 - acc: 0.2539 - f1_m: 0.5747 - precision_m: 0.7650 - recall_m: 0.4619 - val_loss: 0.1890 - val_acc: 0.2401 - val_f1_m: 0.5892 - val_precision_m: 0.7429 - val_recall_m: 0.4900\n",
            "Epoch 12: early stopping\n"
          ]
        }
      ],
      "source": [
        "#model training\n",
        "hist = model.fit(X_train, y_train, batch_size=batch_size, epochs=epochs, callbacks=callbacks_list, validation_split=0.1, shuffle=True, verbose=1)"
      ]
    },
    {
      "cell_type": "code",
      "source": [
        "model.save ('/content/drive/MyDrive/KhóaLuậnTốtNghiệp/UIT-ViSFD/CNN.h5')"
      ],
      "metadata": {
        "id": "xK0W6u-gjmUl"
      },
      "execution_count": null,
      "outputs": []
    },
    {
      "cell_type": "code",
      "execution_count": null,
      "metadata": {
        "id": "7Zx2viFxJJQv",
        "colab": {
          "base_uri": "https://localhost:8080/"
        },
        "outputId": "b845a057-e5bf-4da9-881c-411c64da4635"
      },
      "outputs": [
        {
          "output_type": "stream",
          "name": "stdout",
          "text": [
            "70/70 [==============================] - 0s 4ms/step\n"
          ]
        }
      ],
      "source": [
        "predictions = model.predict(X_test, batch_size=batch_size, verbose=1)"
      ]
    },
    {
      "cell_type": "code",
      "execution_count": null,
      "metadata": {
        "id": "4LwWgR_iLRMQ",
        "colab": {
          "base_uri": "https://localhost:8080/"
        },
        "outputId": "94869f53-cfe5-4711-eaaa-05e48a607e06"
      },
      "outputs": [
        {
          "output_type": "stream",
          "name": "stdout",
          "text": [
            "70/70 [==============================] - 0s 5ms/step - loss: 0.1960 - acc: 0.2549 - f1_m: 0.5671 - precision_m: 0.7578 - recall_m: 0.4552\n",
            "Test accuracy: [0.1960243135690689, 0.2549460530281067, 0.5671254396438599, 0.7578498721122742, 0.45521625876426697]\n"
          ]
        }
      ],
      "source": [
        "score = model.evaluate(X_test, y_test, batch_size=batch_size, verbose=1)\n",
        "print('Test accuracy:', score)"
      ]
    },
    {
      "cell_type": "markdown",
      "source": [
        "#BiRGU"
      ],
      "metadata": {
        "id": "97vsG2xhznug"
      }
    },
    {
      "cell_type": "code",
      "source": [
        "import numpy as np\n",
        "np.random.seed(42)\n",
        "import pandas as pd\n",
        "\n",
        "from sklearn.model_selection import train_test_split\n",
        "from sklearn.metrics import roc_auc_score\n",
        "\n",
        "from keras.models import Model\n",
        "from keras.layers import Input, Dense, Embedding, SpatialDropout1D, Concatenate\n",
        "from keras.layers import GRU, Bidirectional, GlobalAveragePooling1D, GlobalMaxPooling1D\n",
        "from keras.preprocessing import text, sequence\n",
        "from keras.callbacks import Callback\n",
        "from keras import backend as K"
      ],
      "metadata": {
        "id": "lmQN-1IAzoaz"
      },
      "execution_count": null,
      "outputs": []
    },
    {
      "cell_type": "code",
      "source": [
        "inp = Input(shape=(maxlen, ))\n",
        "\n",
        "x = Embedding(max_features, embed_size)(inp)\n",
        "x = SpatialDropout1D(0.35)(x)\n",
        "\n",
        "# Mạng GRU phức tạp\n",
        "x = Bidirectional(GRU(128, return_sequences=True, dropout=0.15, recurrent_dropout=0.15))(x)\n",
        "\n",
        "x = Conv1D(64, kernel_size=3, padding='valid', kernel_initializer='glorot_uniform')(x)\n",
        "\n",
        "\n",
        "# Kết hợp đầu ra từ các lớp GRU\n",
        "avg_pool = GlobalAveragePooling1D()(x)\n",
        "max_pool = GlobalMaxPooling1D()(x)\n",
        "conc = Concatenate()([avg_pool, max_pool])\n",
        "\n",
        "\n",
        "x = Dense(31, activation=\"sigmoid\")(conc)\n",
        "\n",
        "# Xây dựng mô hình\n",
        "model = Model(inputs=inp, outputs=x)\n",
        "\n",
        "# Biên dịch mô hình\n",
        "model.compile(loss='binary_crossentropy', optimizer='adam', metrics=['acc',f1_m,precision_m, recall_m])"
      ],
      "metadata": {
        "colab": {
          "base_uri": "https://localhost:8080/"
        },
        "id": "AOawEOpbzqcC",
        "outputId": "f45ebb4c-9b36-48bc-bf10-1f0895630871"
      },
      "execution_count": null,
      "outputs": [
        {
          "output_type": "stream",
          "name": "stderr",
          "text": [
            "WARNING:tensorflow:Layer gru will not use cuDNN kernels since it doesn't meet the criteria. It will use a generic GPU kernel as fallback when running on GPU.\n",
            "WARNING:tensorflow:Layer gru will not use cuDNN kernels since it doesn't meet the criteria. It will use a generic GPU kernel as fallback when running on GPU.\n",
            "WARNING:tensorflow:Layer gru will not use cuDNN kernels since it doesn't meet the criteria. It will use a generic GPU kernel as fallback when running on GPU.\n"
          ]
        }
      ]
    },
    {
      "cell_type": "code",
      "source": [
        "batch_size = 32\n",
        "epochs = 20\n",
        "\n",
        "model.fit(X_train, y_train, batch_size=batch_size, epochs=epochs, verbose=1)"
      ],
      "metadata": {
        "colab": {
          "base_uri": "https://localhost:8080/"
        },
        "id": "htBzz9k3zsyc",
        "outputId": "4a9f91d3-5f42-4140-b5e0-b7ca411dd560"
      },
      "execution_count": null,
      "outputs": [
        {
          "output_type": "stream",
          "name": "stdout",
          "text": [
            "Epoch 1/20\n",
            "244/244 [==============================] - 353s 1s/step - loss: 0.2690 - acc: 0.0839 - f1_m: 0.2740 - precision_m: 0.5872 - recall_m: 0.1895\n",
            "Epoch 2/20\n",
            "244/244 [==============================] - 328s 1s/step - loss: 0.2051 - acc: 0.1978 - f1_m: 0.5257 - precision_m: 0.7305 - recall_m: 0.4141\n",
            "Epoch 3/20\n",
            "244/244 [==============================] - 311s 1s/step - loss: 0.1776 - acc: 0.2705 - f1_m: 0.6176 - precision_m: 0.7745 - recall_m: 0.5160\n",
            "Epoch 4/20\n",
            "244/244 [==============================] - 317s 1s/step - loss: 0.1592 - acc: 0.3029 - f1_m: 0.6711 - precision_m: 0.7956 - recall_m: 0.5827\n",
            "Epoch 5/20\n",
            "244/244 [==============================] - 326s 1s/step - loss: 0.1458 - acc: 0.3136 - f1_m: 0.7033 - precision_m: 0.8098 - recall_m: 0.6235\n",
            "Epoch 6/20\n",
            "244/244 [==============================] - 321s 1s/step - loss: 0.1343 - acc: 0.3176 - f1_m: 0.7298 - precision_m: 0.8223 - recall_m: 0.6576\n",
            "Epoch 7/20\n",
            "244/244 [==============================] - 322s 1s/step - loss: 0.1251 - acc: 0.3288 - f1_m: 0.7550 - precision_m: 0.8355 - recall_m: 0.6906\n",
            "Epoch 8/20\n",
            "244/244 [==============================] - 316s 1s/step - loss: 0.1159 - acc: 0.3411 - f1_m: 0.7759 - precision_m: 0.8474 - recall_m: 0.7174\n",
            "Epoch 9/20\n",
            "244/244 [==============================] - 319s 1s/step - loss: 0.1078 - acc: 0.3397 - f1_m: 0.7945 - precision_m: 0.8587 - recall_m: 0.7408\n",
            "Epoch 10/20\n",
            "244/244 [==============================] - 319s 1s/step - loss: 0.1013 - acc: 0.3564 - f1_m: 0.8070 - precision_m: 0.8647 - recall_m: 0.7578\n",
            "Epoch 11/20\n",
            "244/244 [==============================] - 314s 1s/step - loss: 0.0939 - acc: 0.3490 - f1_m: 0.8261 - precision_m: 0.8770 - recall_m: 0.7820\n",
            "Epoch 12/20\n",
            "244/244 [==============================] - 316s 1s/step - loss: 0.0872 - acc: 0.3650 - f1_m: 0.8389 - precision_m: 0.8841 - recall_m: 0.7992\n",
            "Epoch 13/20\n",
            "244/244 [==============================] - 324s 1s/step - loss: 0.0808 - acc: 0.3615 - f1_m: 0.8494 - precision_m: 0.8914 - recall_m: 0.8123\n",
            "Epoch 14/20\n",
            "244/244 [==============================] - 317s 1s/step - loss: 0.0745 - acc: 0.3646 - f1_m: 0.8647 - precision_m: 0.9023 - recall_m: 0.8313\n",
            "Epoch 15/20\n",
            "244/244 [==============================] - 317s 1s/step - loss: 0.0679 - acc: 0.3663 - f1_m: 0.8791 - precision_m: 0.9116 - recall_m: 0.8499\n",
            "Epoch 16/20\n",
            "244/244 [==============================] - 317s 1s/step - loss: 0.0631 - acc: 0.3726 - f1_m: 0.8866 - precision_m: 0.9162 - recall_m: 0.8596\n",
            "Epoch 17/20\n",
            "244/244 [==============================] - 315s 1s/step - loss: 0.0580 - acc: 0.3844 - f1_m: 0.8973 - precision_m: 0.9234 - recall_m: 0.8735\n",
            "Epoch 18/20\n",
            "244/244 [==============================] - 314s 1s/step - loss: 0.0540 - acc: 0.3781 - f1_m: 0.9038 - precision_m: 0.9283 - recall_m: 0.8816\n",
            "Epoch 19/20\n",
            "244/244 [==============================] - 316s 1s/step - loss: 0.0496 - acc: 0.3821 - f1_m: 0.9123 - precision_m: 0.9328 - recall_m: 0.8936\n",
            "Epoch 20/20\n",
            "244/244 [==============================] - 317s 1s/step - loss: 0.0454 - acc: 0.3829 - f1_m: 0.9206 - precision_m: 0.9399 - recall_m: 0.9029\n"
          ]
        },
        {
          "output_type": "execute_result",
          "data": {
            "text/plain": [
              "<keras.src.callbacks.History at 0x7f7a8cb809a0>"
            ]
          },
          "metadata": {},
          "execution_count": 41
        }
      ]
    },
    {
      "cell_type": "code",
      "source": [
        "predictions = model.predict(X_test, batch_size=batch_size, verbose=1)\n",
        "\n",
        "print(predictions)"
      ],
      "metadata": {
        "colab": {
          "base_uri": "https://localhost:8080/"
        },
        "id": "aPY1xmmmzw-l",
        "outputId": "03a32866-a9c9-4f41-c758-44312b6493d2"
      },
      "execution_count": null,
      "outputs": [
        {
          "output_type": "stream",
          "name": "stdout",
          "text": [
            "70/70 [==============================] - 17s 225ms/step\n",
            "[[9.74454045e-01 1.81822444e-03 1.97979665e-04 ... 1.13051157e-09\n",
            "  3.89230649e-07 3.12786578e-05]\n",
            " [2.94536562e-03 8.45600292e-03 5.53694663e-05 ... 1.07121632e-04\n",
            "  2.37663844e-04 5.04891723e-02]\n",
            " [4.74542467e-05 2.11521778e-02 4.00283752e-04 ... 2.69792799e-04\n",
            "  8.99434555e-03 1.39068244e-02]\n",
            " ...\n",
            " [1.24647784e-07 3.66260224e-07 2.50886751e-06 ... 9.45080865e-06\n",
            "  1.04633195e-03 3.00644673e-02]\n",
            " [8.31662398e-03 7.19576931e-08 7.94598745e-05 ... 1.08248496e-04\n",
            "  1.75090078e-02 7.95848109e-03]\n",
            " [1.46486730e-06 1.57623361e-07 7.18321235e-06 ... 9.10108443e-03\n",
            "  2.31353086e-04 2.02415571e-01]]\n"
          ]
        }
      ]
    },
    {
      "cell_type": "code",
      "source": [
        "score = model.evaluate(X_test, y_test, batch_size=batch_size, verbose=1)\n",
        "print('Test accuracy:', score)"
      ],
      "metadata": {
        "colab": {
          "base_uri": "https://localhost:8080/"
        },
        "id": "k_HyESsyzzF6",
        "outputId": "f15d9fad-5569-49c2-d800-4398fe646eb7"
      },
      "execution_count": null,
      "outputs": [
        {
          "output_type": "stream",
          "name": "stdout",
          "text": [
            "70/70 [==============================] - 8s 95ms/step - loss: 0.2396 - acc: 0.3076 - f1_m: 0.6806 - precision_m: 0.7091 - recall_m: 0.6559\n",
            "Test accuracy: [0.23958060145378113, 0.3075539469718933, 0.6806296110153198, 0.7091190218925476, 0.6559436917304993]\n"
          ]
        }
      ]
    },
    {
      "cell_type": "code",
      "source": [
        "model.save ('/content/drive/MyDrive/UIT-viFSD_me/BiGRU_68.h5')"
      ],
      "metadata": {
        "colab": {
          "base_uri": "https://localhost:8080/"
        },
        "id": "jMqDXiRZz2eU",
        "outputId": "9c02d6b7-1631-4ef9-f804-3f1f752d50dc"
      },
      "execution_count": null,
      "outputs": [
        {
          "output_type": "stream",
          "name": "stderr",
          "text": [
            "/usr/local/lib/python3.10/dist-packages/keras/src/engine/training.py:3000: UserWarning: You are saving your model as an HDF5 file via `model.save()`. This file format is considered legacy. We recommend using instead the native Keras format, e.g. `model.save('my_model.keras')`.\n",
            "  saving_api.save_model(\n"
          ]
        }
      ]
    },
    {
      "cell_type": "markdown",
      "metadata": {
        "id": "gPWWJCWtIGfg"
      },
      "source": [
        "#BiGRU + pre\n",
        "\n"
      ]
    },
    {
      "cell_type": "code",
      "execution_count": null,
      "metadata": {
        "id": "wNeQn2APINZP"
      },
      "outputs": [],
      "source": [
        "import numpy as np\n",
        "np.random.seed(42)\n",
        "import pandas as pd\n",
        "\n",
        "from sklearn.model_selection import train_test_split\n",
        "from sklearn.metrics import roc_auc_score\n",
        "\n",
        "from keras.models import Model\n",
        "from keras.layers import Input, Dense, Embedding, SpatialDropout1D, Concatenate\n",
        "from keras.layers import GRU, Bidirectional, GlobalAveragePooling1D, GlobalMaxPooling1D\n",
        "from keras.preprocessing import text, sequence\n",
        "from keras.callbacks import Callback\n"
      ]
    },
    {
      "cell_type": "code",
      "execution_count": null,
      "metadata": {
        "id": "dqHKwMXSB691"
      },
      "outputs": [],
      "source": [
        "inp = Input(shape=(maxlen, ))\n",
        "\n",
        "x = Embedding(max_features, embed_size)(inp)\n",
        "x = SpatialDropout1D(0.35)(x)\n",
        "\n",
        "# Mạng GRU phức tạp\n",
        "x = Bidirectional(GRU(128, return_sequences=True, dropout=0.15, recurrent_dropout=0.15))(x)\n",
        "\n",
        "x = Conv1D(64, kernel_size=3, padding='valid', kernel_initializer='glorot_uniform')(x)\n",
        "\n",
        "\n",
        "# Kết hợp đầu ra từ các lớp GRU\n",
        "avg_pool = GlobalAveragePooling1D()(x)\n",
        "max_pool = GlobalMaxPooling1D()(x)\n",
        "conc = Concatenate()([avg_pool, max_pool])\n",
        "\n",
        "\n",
        "x = Dense(31, activation=\"sigmoid\")(conc)\n",
        "\n",
        "# Xây dựng mô hình\n",
        "model = Model(inputs=inp, outputs=x)\n",
        "\n",
        "# Biên dịch mô hình\n",
        "model.compile(loss='binary_crossentropy', optimizer='adam', metrics=['acc',f1_m,precision_m, recall_m])"
      ]
    },
    {
      "cell_type": "code",
      "execution_count": null,
      "metadata": {
        "id": "Bi0Wk43cIKo3",
        "colab": {
          "base_uri": "https://localhost:8080/"
        },
        "outputId": "e0978479-9336-4b67-9f14-c683ca520f01"
      },
      "outputs": [
        {
          "output_type": "stream",
          "name": "stdout",
          "text": [
            "Epoch 1/20\n",
            "244/244 [==============================] - 395s 2s/step - loss: 0.2717 - acc: 0.0836 - f1_m: 0.2625 - precision_m: 0.6031 - recall_m: 0.1766\n",
            "Epoch 2/20\n",
            "244/244 [==============================] - 367s 2s/step - loss: 0.2054 - acc: 0.1700 - f1_m: 0.5252 - precision_m: 0.7413 - recall_m: 0.4113\n",
            "Epoch 3/20\n",
            "244/244 [==============================] - 363s 1s/step - loss: 0.1688 - acc: 0.2557 - f1_m: 0.6425 - precision_m: 0.7906 - recall_m: 0.5434\n",
            "Epoch 4/20\n",
            "244/244 [==============================] - 365s 1s/step - loss: 0.1480 - acc: 0.3071 - f1_m: 0.7021 - precision_m: 0.8173 - recall_m: 0.6174\n",
            "Epoch 5/20\n",
            "244/244 [==============================] - 366s 1s/step - loss: 0.1335 - acc: 0.3288 - f1_m: 0.7359 - precision_m: 0.8310 - recall_m: 0.6623\n",
            "Epoch 6/20\n",
            "244/244 [==============================] - 362s 1s/step - loss: 0.1219 - acc: 0.3373 - f1_m: 0.7621 - precision_m: 0.8446 - recall_m: 0.6959\n",
            "Epoch 7/20\n",
            "244/244 [==============================] - 340s 1s/step - loss: 0.1118 - acc: 0.3388 - f1_m: 0.7854 - precision_m: 0.8568 - recall_m: 0.7266\n",
            "Epoch 8/20\n",
            "244/244 [==============================] - 336s 1s/step - loss: 0.1044 - acc: 0.3461 - f1_m: 0.8022 - precision_m: 0.8657 - recall_m: 0.7493\n",
            "Epoch 9/20\n",
            "244/244 [==============================] - 336s 1s/step - loss: 0.0962 - acc: 0.3564 - f1_m: 0.8184 - precision_m: 0.8750 - recall_m: 0.7700\n",
            "Epoch 10/20\n",
            "244/244 [==============================] - 335s 1s/step - loss: 0.0902 - acc: 0.3630 - f1_m: 0.8328 - precision_m: 0.8845 - recall_m: 0.7883\n",
            "Epoch 11/20\n",
            "244/244 [==============================] - 337s 1s/step - loss: 0.0829 - acc: 0.3669 - f1_m: 0.8475 - precision_m: 0.8922 - recall_m: 0.8084\n",
            "Epoch 12/20\n",
            "244/244 [==============================] - 336s 1s/step - loss: 0.0773 - acc: 0.3779 - f1_m: 0.8583 - precision_m: 0.9005 - recall_m: 0.8211\n",
            "Epoch 13/20\n",
            "244/244 [==============================] - 353s 1s/step - loss: 0.0710 - acc: 0.3750 - f1_m: 0.8708 - precision_m: 0.9096 - recall_m: 0.8363\n",
            "Epoch 14/20\n",
            "244/244 [==============================] - 344s 1s/step - loss: 0.0656 - acc: 0.3708 - f1_m: 0.8813 - precision_m: 0.9162 - recall_m: 0.8501\n",
            "Epoch 15/20\n",
            "244/244 [==============================] - 339s 1s/step - loss: 0.0600 - acc: 0.3834 - f1_m: 0.8932 - precision_m: 0.9239 - recall_m: 0.8653\n",
            "Epoch 16/20\n",
            "244/244 [==============================] - 337s 1s/step - loss: 0.0559 - acc: 0.3897 - f1_m: 0.9008 - precision_m: 0.9286 - recall_m: 0.8756\n",
            "Epoch 17/20\n",
            "244/244 [==============================] - 337s 1s/step - loss: 0.0509 - acc: 0.3812 - f1_m: 0.9101 - precision_m: 0.9347 - recall_m: 0.8875\n",
            "Epoch 18/20\n",
            "244/244 [==============================] - 334s 1s/step - loss: 0.0468 - acc: 0.3867 - f1_m: 0.9174 - precision_m: 0.9388 - recall_m: 0.8975\n",
            "Epoch 19/20\n",
            "244/244 [==============================] - 333s 1s/step - loss: 0.0430 - acc: 0.3913 - f1_m: 0.9252 - precision_m: 0.9446 - recall_m: 0.9074\n",
            "Epoch 20/20\n",
            "244/244 [==============================] - 332s 1s/step - loss: 0.0391 - acc: 0.3974 - f1_m: 0.9325 - precision_m: 0.9496 - recall_m: 0.9166\n"
          ]
        },
        {
          "output_type": "execute_result",
          "data": {
            "text/plain": [
              "<keras.callbacks.History at 0x7f1524a3ed40>"
            ]
          },
          "metadata": {},
          "execution_count": 45
        }
      ],
      "source": [
        "batch_size = 32\n",
        "epochs = 20\n",
        "\n",
        "model.fit(X_train, y_train, batch_size=batch_size, epochs=epochs, verbose=1)\n"
      ]
    },
    {
      "cell_type": "code",
      "execution_count": null,
      "metadata": {
        "id": "3i-DDM2URIvy",
        "colab": {
          "base_uri": "https://localhost:8080/"
        },
        "outputId": "9b90633c-44aa-4da4-d542-c0016305629b"
      },
      "outputs": [
        {
          "output_type": "stream",
          "name": "stdout",
          "text": [
            "70/70 [==============================] - 24s 315ms/step\n",
            "[[9.42162216e-01 6.77466323e-06 1.52522800e-04 ... 2.06600433e-07\n",
            "  8.52087469e-05 6.19723811e-04]\n",
            " [4.31951321e-06 5.66727817e-01 1.04891424e-05 ... 6.09850613e-05\n",
            "  1.50483145e-04 3.16402479e-03]\n",
            " [1.01814384e-03 2.50837742e-03 1.18073796e-04 ... 4.79059236e-06\n",
            "  1.76043448e-03 2.38286898e-01]\n",
            " ...\n",
            " [2.67420518e-07 8.05101081e-07 3.81323503e-07 ... 4.40132317e-05\n",
            "  1.01395381e-04 1.04604354e-02]\n",
            " [7.39164170e-05 5.71321435e-09 6.06526055e-06 ... 8.06000244e-05\n",
            "  1.73594508e-05 3.90336327e-02]\n",
            " [2.51541696e-05 7.95210781e-07 2.88532055e-06 ... 1.71528900e-05\n",
            "  1.42682251e-03 2.32584607e-02]]\n"
          ]
        }
      ],
      "source": [
        "predictions = model.predict(X_test, batch_size=batch_size, verbose=1)\n",
        "\n",
        "print(predictions)"
      ]
    },
    {
      "cell_type": "code",
      "source": [
        "score = model.evaluate(X_test, y_test, batch_size=batch_size, verbose=1)\n",
        "print('Test accuracy:', score)"
      ],
      "metadata": {
        "id": "d5m8G8CFikfU",
        "colab": {
          "base_uri": "https://localhost:8080/"
        },
        "outputId": "473c0002-a51e-4bf0-f295-7d7382e308fe"
      },
      "execution_count": null,
      "outputs": [
        {
          "output_type": "stream",
          "name": "stdout",
          "text": [
            "70/70 [==============================] - 11s 136ms/step - loss: 0.2008 - acc: 0.3156 - f1_m: 0.7283 - precision_m: 0.7580 - recall_m: 0.7020\n",
            "Test accuracy: [0.2008216828107834, 0.3156474828720093, 0.7282615900039673, 0.7579637169837952, 0.7019937634468079]\n"
          ]
        }
      ]
    },
    {
      "cell_type": "code",
      "source": [
        "model.save ('/content/drive/MyDrive/UIT-viFSD_me/phobert_BiGRU.h5')"
      ],
      "metadata": {
        "id": "XJoVVnpIjrRW"
      },
      "execution_count": null,
      "outputs": []
    },
    {
      "cell_type": "markdown",
      "metadata": {
        "id": "S3Uy-hXZJ5PT"
      },
      "source": [
        "#lstm\n"
      ]
    },
    {
      "cell_type": "code",
      "execution_count": null,
      "metadata": {
        "id": "mWaDMR7xJ4Ro",
        "colab": {
          "base_uri": "https://localhost:8080/"
        },
        "outputId": "42e32011-ae91-4871-df07-315f52e5837a"
      },
      "outputs": [
        {
          "output_type": "stream",
          "name": "stderr",
          "text": [
            "WARNING:tensorflow:Layer lstm will not use cuDNN kernels since it doesn't meet the criteria. It will use a generic GPU kernel as fallback when running on GPU.\n"
          ]
        }
      ],
      "source": [
        "inp = Input(shape=(maxlen,))\n",
        "\n",
        "x = Embedding(max_features, embed_size, weights=[embedding_matrix], trainable=True)(inp)\n",
        "x = SpatialDropout1D(0.35)(x)\n",
        "\n",
        "x = LSTM(128, return_sequences=True, dropout=0.15, recurrent_dropout=0.15)(x)\n",
        "x = Conv1D(64, kernel_size=3, padding='valid', kernel_initializer='glorot_uniform')(x)\n",
        "\n",
        "avg_pool = GlobalAveragePooling1D()(x)\n",
        "max_pool = GlobalMaxPooling1D()(x)\n",
        "x = concatenate([avg_pool, max_pool])\n",
        "\n",
        "out = Dense(31, activation='sigmoid')(x)\n",
        "\n",
        "model = Model(inp, out)\n",
        "model.compile(optimizer='adam', loss='binary_crossentropy', metrics=['acc',f1_m,precision_m, recall_m])"
      ]
    },
    {
      "cell_type": "code",
      "execution_count": null,
      "metadata": {
        "id": "ga1h4QB1J7wI",
        "colab": {
          "base_uri": "https://localhost:8080/"
        },
        "outputId": "5ef9e2aa-7891-489d-f1ab-382e3badfec4"
      },
      "outputs": [
        {
          "output_type": "stream",
          "name": "stdout",
          "text": [
            "Model: \"model_1\"\n",
            "__________________________________________________________________________________________________\n",
            " Layer (type)                   Output Shape         Param #     Connected to                     \n",
            "==================================================================================================\n",
            " input_2 (InputLayer)           [(None, 150)]        0           []                               \n",
            "                                                                                                  \n",
            " embedding_3 (Embedding)        (None, 150, 300)     746700      ['input_2[0][0]']                \n",
            "                                                                                                  \n",
            " spatial_dropout1d_1 (SpatialDr  (None, 150, 300)    0           ['embedding_3[0][0]']            \n",
            " opout1D)                                                                                         \n",
            "                                                                                                  \n",
            " lstm (LSTM)                    (None, 150, 128)     219648      ['spatial_dropout1d_1[0][0]']    \n",
            "                                                                                                  \n",
            " conv1d_5 (Conv1D)              (None, 148, 64)      24640       ['lstm[0][0]']                   \n",
            "                                                                                                  \n",
            " global_average_pooling1d_1 (Gl  (None, 64)          0           ['conv1d_5[0][0]']               \n",
            " obalAveragePooling1D)                                                                            \n",
            "                                                                                                  \n",
            " global_max_pooling1d_3 (Global  (None, 64)          0           ['conv1d_5[0][0]']               \n",
            " MaxPooling1D)                                                                                    \n",
            "                                                                                                  \n",
            " concatenate_1 (Concatenate)    (None, 128)          0           ['global_average_pooling1d_1[0][0\n",
            "                                                                 ]',                              \n",
            "                                                                  'global_max_pooling1d_3[0][0]'] \n",
            "                                                                                                  \n",
            " dense_6 (Dense)                (None, 31)           3999        ['concatenate_1[0][0]']          \n",
            "                                                                                                  \n",
            "==================================================================================================\n",
            "Total params: 994,987\n",
            "Trainable params: 994,987\n",
            "Non-trainable params: 0\n",
            "__________________________________________________________________________________________________\n"
          ]
        }
      ],
      "source": [
        "model.summary()"
      ]
    },
    {
      "cell_type": "code",
      "execution_count": null,
      "metadata": {
        "id": "QB1x1iorJ-En",
        "colab": {
          "base_uri": "https://localhost:8080/"
        },
        "outputId": "ce213774-16b3-4125-d039-aebdfff09df0"
      },
      "outputs": [
        {
          "output_type": "stream",
          "name": "stdout",
          "text": [
            "Epoch 1/20\n",
            "244/244 [==============================] - 202s 807ms/step - loss: 0.2834 - acc: 0.0866 - f1_m: 0.2330 - precision_m: 0.5262 - recall_m: 0.1634\n",
            "Epoch 2/20\n",
            "244/244 [==============================] - 181s 742ms/step - loss: 0.2134 - acc: 0.2096 - f1_m: 0.5044 - precision_m: 0.7252 - recall_m: 0.3904\n",
            "Epoch 3/20\n",
            "244/244 [==============================] - 180s 740ms/step - loss: 0.1839 - acc: 0.2709 - f1_m: 0.6003 - precision_m: 0.7635 - recall_m: 0.4969\n",
            "Epoch 4/20\n",
            "244/244 [==============================] - 178s 730ms/step - loss: 0.1649 - acc: 0.2994 - f1_m: 0.6564 - precision_m: 0.7904 - recall_m: 0.5633\n",
            "Epoch 5/20\n",
            "244/244 [==============================] - 179s 733ms/step - loss: 0.1511 - acc: 0.3260 - f1_m: 0.6904 - precision_m: 0.8088 - recall_m: 0.6039\n",
            "Epoch 6/20\n",
            "244/244 [==============================] - 179s 734ms/step - loss: 0.1403 - acc: 0.3351 - f1_m: 0.7169 - precision_m: 0.8191 - recall_m: 0.6387\n",
            "Epoch 7/20\n",
            "244/244 [==============================] - 174s 712ms/step - loss: 0.1321 - acc: 0.3405 - f1_m: 0.7378 - precision_m: 0.8302 - recall_m: 0.6657\n",
            "Epoch 8/20\n",
            "244/244 [==============================] - 177s 727ms/step - loss: 0.1242 - acc: 0.3477 - f1_m: 0.7569 - precision_m: 0.8391 - recall_m: 0.6909\n",
            "Epoch 9/20\n",
            "244/244 [==============================] - 176s 723ms/step - loss: 0.1171 - acc: 0.3578 - f1_m: 0.7727 - precision_m: 0.8483 - recall_m: 0.7107\n",
            "Epoch 10/20\n",
            "244/244 [==============================] - 178s 731ms/step - loss: 0.1104 - acc: 0.3645 - f1_m: 0.7862 - precision_m: 0.8577 - recall_m: 0.7269\n",
            "Epoch 11/20\n",
            "244/244 [==============================] - 179s 735ms/step - loss: 0.1044 - acc: 0.3596 - f1_m: 0.7995 - precision_m: 0.8646 - recall_m: 0.7450\n",
            "Epoch 12/20\n",
            "244/244 [==============================] - 179s 732ms/step - loss: 0.0982 - acc: 0.3696 - f1_m: 0.8134 - precision_m: 0.8734 - recall_m: 0.7622\n",
            "Epoch 13/20\n",
            "244/244 [==============================] - 176s 721ms/step - loss: 0.0930 - acc: 0.3687 - f1_m: 0.8255 - precision_m: 0.8802 - recall_m: 0.7783\n",
            "Epoch 14/20\n",
            "244/244 [==============================] - 177s 721ms/step - loss: 0.0864 - acc: 0.3752 - f1_m: 0.8383 - precision_m: 0.8879 - recall_m: 0.7952\n",
            "Epoch 15/20\n",
            "244/244 [==============================] - 178s 725ms/step - loss: 0.0824 - acc: 0.3759 - f1_m: 0.8468 - precision_m: 0.8933 - recall_m: 0.8059\n",
            "Epoch 16/20\n",
            "244/244 [==============================] - 177s 721ms/step - loss: 0.0768 - acc: 0.3840 - f1_m: 0.8597 - precision_m: 0.9045 - recall_m: 0.8202\n",
            "Epoch 17/20\n",
            "244/244 [==============================] - 178s 729ms/step - loss: 0.0723 - acc: 0.3817 - f1_m: 0.8673 - precision_m: 0.9070 - recall_m: 0.8319\n",
            "Epoch 18/20\n",
            "244/244 [==============================] - 176s 723ms/step - loss: 0.0677 - acc: 0.3838 - f1_m: 0.8773 - precision_m: 0.9124 - recall_m: 0.8457\n",
            "Epoch 19/20\n",
            "244/244 [==============================] - 178s 730ms/step - loss: 0.0634 - acc: 0.3862 - f1_m: 0.8859 - precision_m: 0.9185 - recall_m: 0.8565\n",
            "Epoch 20/20\n",
            "244/244 [==============================] - 175s 716ms/step - loss: 0.0602 - acc: 0.3833 - f1_m: 0.8928 - precision_m: 0.9237 - recall_m: 0.8647\n",
            "70/70 [==============================] - 4s 46ms/step\n",
            "[[7.8096616e-01 2.7423564e-03 7.7687460e-04 ... 6.3277148e-05\n",
            "  8.2507388e-05 1.6107144e-02]\n",
            " [4.2132739e-04 1.6446665e-02 4.7039688e-05 ... 4.0406673e-03\n",
            "  9.6821561e-03 7.2936982e-01]\n",
            " [3.0878568e-06 9.3562201e-05 5.9341721e-05 ... 8.6168275e-04\n",
            "  1.3582322e-02 8.7530293e-02]\n",
            " ...\n",
            " [1.3600609e-05 9.8775153e-04 6.9283713e-05 ... 2.7495695e-03\n",
            "  8.9545437e-04 2.5311342e-02]\n",
            " [5.2010565e-04 3.4790876e-06 1.3474040e-05 ... 2.3169308e-05\n",
            "  7.8814459e-04 2.5356082e-02]\n",
            " [2.0636015e-05 1.8877657e-04 3.2771670e-05 ... 1.5339118e-02\n",
            "  5.5014212e-03 8.5037124e-01]]\n"
          ]
        }
      ],
      "source": [
        "batch_size = 32\n",
        "epochs =20\n",
        "\n",
        "model.fit(X_train, y_train, batch_size=batch_size, epochs=epochs, verbose=1)\n",
        "predictions = model.predict(X_test, batch_size=batch_size, verbose=1)\n",
        "\n",
        "print(predictions)"
      ]
    },
    {
      "cell_type": "code",
      "execution_count": null,
      "metadata": {
        "id": "KmO_MXPQKOQY"
      },
      "outputs": [],
      "source": [
        "model.save ('/content/drive/MyDrive/KhóaLuậnTốtNghiệp/UIT-ViSFD/LSTM.h5')"
      ]
    },
    {
      "cell_type": "code",
      "execution_count": null,
      "metadata": {
        "id": "-VjxlS4LJ_Mv"
      },
      "outputs": [],
      "source": [
        "pre=pd.DataFrame(predictions)\n",
        "pre.columns=label"
      ]
    },
    {
      "cell_type": "code",
      "execution_count": null,
      "metadata": {
        "id": "tpyTNoisJ_pX",
        "colab": {
          "base_uri": "https://localhost:8080/"
        },
        "outputId": "13e8791d-1600-4543-b015-e392f6b1b501"
      },
      "outputs": [
        {
          "output_type": "stream",
          "name": "stdout",
          "text": [
            "70/70 [==============================] - 3s 43ms/step - loss: 0.2093 - acc: 0.2918 - f1_m: 0.6782 - precision_m: 0.7227 - recall_m: 0.6405\n",
            "Test accuracy: [0.20929060876369476, 0.2918165326118469, 0.6781962513923645, 0.722746729850769, 0.640539288520813]\n"
          ]
        }
      ],
      "source": [
        "score = model.evaluate(X_test, y_test, batch_size=batch_size, verbose=1)\n",
        "print('Test accuracy:', score)"
      ]
    },
    {
      "cell_type": "code",
      "execution_count": null,
      "metadata": {
        "id": "tkCqptT2KAyg",
        "colab": {
          "base_uri": "https://localhost:8080/",
          "height": 487
        },
        "outputId": "374c0f9a-4dac-4595-9443-62d9b1f58252"
      },
      "outputs": [
        {
          "output_type": "execute_result",
          "data": {
            "text/plain": [
              "      SCREEN#Positive  SCREEN#Negative  SCREEN#Neutral  CAMERA#Positive  \\\n",
              "0            0.780966         0.002742        0.000777         0.000630   \n",
              "1            0.000421         0.016447        0.000047         0.000189   \n",
              "2            0.000003         0.000094        0.000059         0.000261   \n",
              "3            0.002070         0.675044        0.000203         0.000096   \n",
              "4            0.584193         0.086755        0.052760         0.000519   \n",
              "...               ...              ...             ...              ...   \n",
              "2219         0.000498         0.000010        0.000014         0.000124   \n",
              "2220         0.005387         0.013170        0.001823         0.000397   \n",
              "2221         0.000014         0.000988        0.000069         0.000186   \n",
              "2222         0.000520         0.000003        0.000013         0.938562   \n",
              "2223         0.000021         0.000189        0.000033         0.000268   \n",
              "\n",
              "      CAMERA#Negative  CAMERA#Neutral  FEATURES#Positive  FEATURES#Negative  \\\n",
              "0            0.000004        0.001045           0.986993           0.000584   \n",
              "1            0.000056        0.000012           0.025000           0.021757   \n",
              "2            0.005138        0.000012           0.000311           0.000039   \n",
              "3            0.003308        0.000128           0.007276           0.090512   \n",
              "4            0.000020        0.000927           0.008292           0.000036   \n",
              "...               ...             ...                ...                ...   \n",
              "2219         0.000002        0.000009           0.187421           0.470672   \n",
              "2220         0.001800        0.017062           0.000717           0.005638   \n",
              "2221         0.000036        0.000035           0.000649           0.003651   \n",
              "2222         0.001102        0.016421           0.717132           0.000291   \n",
              "2223         0.000047        0.000010           0.000098           0.003310   \n",
              "\n",
              "      FEATURES#Neutral  BATTERY#Positive  ...  PRICE#Positive  PRICE#Negative  \\\n",
              "0             0.258115          0.953677  ...        0.000370    1.675197e-05   \n",
              "1             0.020761          0.001083  ...        0.000001    5.753789e-06   \n",
              "2             0.000115          0.000119  ...        0.000985    5.615622e-04   \n",
              "3             0.041603          0.001146  ...        0.000011    8.461452e-04   \n",
              "4             0.000191          0.024225  ...        0.000532    2.655961e-01   \n",
              "...                ...               ...  ...             ...             ...   \n",
              "2219          0.001411          0.000027  ...        0.001393    6.094281e-04   \n",
              "2220          0.001963          0.000336  ...        0.000790    2.258047e-03   \n",
              "2221          0.000380          0.000128  ...        0.005033    1.248889e-04   \n",
              "2222          0.000365          0.836907  ...        0.000197    3.199929e-07   \n",
              "2223          0.000228          0.000319  ...        0.002320    6.738515e-05   \n",
              "\n",
              "      PRICE#Neutral  GENERAL#Positive  GENERAL#Negative  GENERAL#Neutral  \\\n",
              "0          0.002783          0.677906          0.000003         0.003545   \n",
              "1          0.000309          0.020047          0.000023         0.003445   \n",
              "2          0.001812          0.769604          0.001840         0.000227   \n",
              "3          0.000195          0.047968          0.004988         0.006574   \n",
              "4          0.951139          0.117601          0.044387         0.002715   \n",
              "...             ...               ...               ...              ...   \n",
              "2219       0.000013          0.012500          0.000719         0.000794   \n",
              "2220       0.000589          0.049872          0.003896         0.204192   \n",
              "2221       0.000322          0.204231          0.001637         0.001451   \n",
              "2222       0.000111          0.361033          0.000013         0.000224   \n",
              "2223       0.000021          0.279466          0.000167         0.012241   \n",
              "\n",
              "      SER&ACC#Positive  SER&ACC#Negative  SER&ACC#Neutral    OTHERS  \n",
              "0             0.000084          0.000063         0.000083  0.016107  \n",
              "1             0.308471          0.004041         0.009682  0.729370  \n",
              "2             0.999836          0.000862         0.013582  0.087530  \n",
              "3             0.000016          0.000731         0.000085  0.159052  \n",
              "4             0.000071          0.019569         0.001812  0.307863  \n",
              "...                ...               ...              ...       ...  \n",
              "2219          0.355898          0.000268         0.000101  0.027444  \n",
              "2220          0.000081          0.000414         0.000613  0.042261  \n",
              "2221          0.023221          0.002750         0.000895  0.025311  \n",
              "2222          0.999345          0.000023         0.000788  0.025356  \n",
              "2223          0.097784          0.015339         0.005501  0.850371  \n",
              "\n",
              "[2224 rows x 31 columns]"
            ],
            "text/html": [
              "\n",
              "  <div id=\"df-aa8227c8-820f-4ead-b093-61ea8880efc6\">\n",
              "    <div class=\"colab-df-container\">\n",
              "      <div>\n",
              "<style scoped>\n",
              "    .dataframe tbody tr th:only-of-type {\n",
              "        vertical-align: middle;\n",
              "    }\n",
              "\n",
              "    .dataframe tbody tr th {\n",
              "        vertical-align: top;\n",
              "    }\n",
              "\n",
              "    .dataframe thead th {\n",
              "        text-align: right;\n",
              "    }\n",
              "</style>\n",
              "<table border=\"1\" class=\"dataframe\">\n",
              "  <thead>\n",
              "    <tr style=\"text-align: right;\">\n",
              "      <th></th>\n",
              "      <th>SCREEN#Positive</th>\n",
              "      <th>SCREEN#Negative</th>\n",
              "      <th>SCREEN#Neutral</th>\n",
              "      <th>CAMERA#Positive</th>\n",
              "      <th>CAMERA#Negative</th>\n",
              "      <th>CAMERA#Neutral</th>\n",
              "      <th>FEATURES#Positive</th>\n",
              "      <th>FEATURES#Negative</th>\n",
              "      <th>FEATURES#Neutral</th>\n",
              "      <th>BATTERY#Positive</th>\n",
              "      <th>...</th>\n",
              "      <th>PRICE#Positive</th>\n",
              "      <th>PRICE#Negative</th>\n",
              "      <th>PRICE#Neutral</th>\n",
              "      <th>GENERAL#Positive</th>\n",
              "      <th>GENERAL#Negative</th>\n",
              "      <th>GENERAL#Neutral</th>\n",
              "      <th>SER&amp;ACC#Positive</th>\n",
              "      <th>SER&amp;ACC#Negative</th>\n",
              "      <th>SER&amp;ACC#Neutral</th>\n",
              "      <th>OTHERS</th>\n",
              "    </tr>\n",
              "  </thead>\n",
              "  <tbody>\n",
              "    <tr>\n",
              "      <th>0</th>\n",
              "      <td>0.780966</td>\n",
              "      <td>0.002742</td>\n",
              "      <td>0.000777</td>\n",
              "      <td>0.000630</td>\n",
              "      <td>0.000004</td>\n",
              "      <td>0.001045</td>\n",
              "      <td>0.986993</td>\n",
              "      <td>0.000584</td>\n",
              "      <td>0.258115</td>\n",
              "      <td>0.953677</td>\n",
              "      <td>...</td>\n",
              "      <td>0.000370</td>\n",
              "      <td>1.675197e-05</td>\n",
              "      <td>0.002783</td>\n",
              "      <td>0.677906</td>\n",
              "      <td>0.000003</td>\n",
              "      <td>0.003545</td>\n",
              "      <td>0.000084</td>\n",
              "      <td>0.000063</td>\n",
              "      <td>0.000083</td>\n",
              "      <td>0.016107</td>\n",
              "    </tr>\n",
              "    <tr>\n",
              "      <th>1</th>\n",
              "      <td>0.000421</td>\n",
              "      <td>0.016447</td>\n",
              "      <td>0.000047</td>\n",
              "      <td>0.000189</td>\n",
              "      <td>0.000056</td>\n",
              "      <td>0.000012</td>\n",
              "      <td>0.025000</td>\n",
              "      <td>0.021757</td>\n",
              "      <td>0.020761</td>\n",
              "      <td>0.001083</td>\n",
              "      <td>...</td>\n",
              "      <td>0.000001</td>\n",
              "      <td>5.753789e-06</td>\n",
              "      <td>0.000309</td>\n",
              "      <td>0.020047</td>\n",
              "      <td>0.000023</td>\n",
              "      <td>0.003445</td>\n",
              "      <td>0.308471</td>\n",
              "      <td>0.004041</td>\n",
              "      <td>0.009682</td>\n",
              "      <td>0.729370</td>\n",
              "    </tr>\n",
              "    <tr>\n",
              "      <th>2</th>\n",
              "      <td>0.000003</td>\n",
              "      <td>0.000094</td>\n",
              "      <td>0.000059</td>\n",
              "      <td>0.000261</td>\n",
              "      <td>0.005138</td>\n",
              "      <td>0.000012</td>\n",
              "      <td>0.000311</td>\n",
              "      <td>0.000039</td>\n",
              "      <td>0.000115</td>\n",
              "      <td>0.000119</td>\n",
              "      <td>...</td>\n",
              "      <td>0.000985</td>\n",
              "      <td>5.615622e-04</td>\n",
              "      <td>0.001812</td>\n",
              "      <td>0.769604</td>\n",
              "      <td>0.001840</td>\n",
              "      <td>0.000227</td>\n",
              "      <td>0.999836</td>\n",
              "      <td>0.000862</td>\n",
              "      <td>0.013582</td>\n",
              "      <td>0.087530</td>\n",
              "    </tr>\n",
              "    <tr>\n",
              "      <th>3</th>\n",
              "      <td>0.002070</td>\n",
              "      <td>0.675044</td>\n",
              "      <td>0.000203</td>\n",
              "      <td>0.000096</td>\n",
              "      <td>0.003308</td>\n",
              "      <td>0.000128</td>\n",
              "      <td>0.007276</td>\n",
              "      <td>0.090512</td>\n",
              "      <td>0.041603</td>\n",
              "      <td>0.001146</td>\n",
              "      <td>...</td>\n",
              "      <td>0.000011</td>\n",
              "      <td>8.461452e-04</td>\n",
              "      <td>0.000195</td>\n",
              "      <td>0.047968</td>\n",
              "      <td>0.004988</td>\n",
              "      <td>0.006574</td>\n",
              "      <td>0.000016</td>\n",
              "      <td>0.000731</td>\n",
              "      <td>0.000085</td>\n",
              "      <td>0.159052</td>\n",
              "    </tr>\n",
              "    <tr>\n",
              "      <th>4</th>\n",
              "      <td>0.584193</td>\n",
              "      <td>0.086755</td>\n",
              "      <td>0.052760</td>\n",
              "      <td>0.000519</td>\n",
              "      <td>0.000020</td>\n",
              "      <td>0.000927</td>\n",
              "      <td>0.008292</td>\n",
              "      <td>0.000036</td>\n",
              "      <td>0.000191</td>\n",
              "      <td>0.024225</td>\n",
              "      <td>...</td>\n",
              "      <td>0.000532</td>\n",
              "      <td>2.655961e-01</td>\n",
              "      <td>0.951139</td>\n",
              "      <td>0.117601</td>\n",
              "      <td>0.044387</td>\n",
              "      <td>0.002715</td>\n",
              "      <td>0.000071</td>\n",
              "      <td>0.019569</td>\n",
              "      <td>0.001812</td>\n",
              "      <td>0.307863</td>\n",
              "    </tr>\n",
              "    <tr>\n",
              "      <th>...</th>\n",
              "      <td>...</td>\n",
              "      <td>...</td>\n",
              "      <td>...</td>\n",
              "      <td>...</td>\n",
              "      <td>...</td>\n",
              "      <td>...</td>\n",
              "      <td>...</td>\n",
              "      <td>...</td>\n",
              "      <td>...</td>\n",
              "      <td>...</td>\n",
              "      <td>...</td>\n",
              "      <td>...</td>\n",
              "      <td>...</td>\n",
              "      <td>...</td>\n",
              "      <td>...</td>\n",
              "      <td>...</td>\n",
              "      <td>...</td>\n",
              "      <td>...</td>\n",
              "      <td>...</td>\n",
              "      <td>...</td>\n",
              "      <td>...</td>\n",
              "    </tr>\n",
              "    <tr>\n",
              "      <th>2219</th>\n",
              "      <td>0.000498</td>\n",
              "      <td>0.000010</td>\n",
              "      <td>0.000014</td>\n",
              "      <td>0.000124</td>\n",
              "      <td>0.000002</td>\n",
              "      <td>0.000009</td>\n",
              "      <td>0.187421</td>\n",
              "      <td>0.470672</td>\n",
              "      <td>0.001411</td>\n",
              "      <td>0.000027</td>\n",
              "      <td>...</td>\n",
              "      <td>0.001393</td>\n",
              "      <td>6.094281e-04</td>\n",
              "      <td>0.000013</td>\n",
              "      <td>0.012500</td>\n",
              "      <td>0.000719</td>\n",
              "      <td>0.000794</td>\n",
              "      <td>0.355898</td>\n",
              "      <td>0.000268</td>\n",
              "      <td>0.000101</td>\n",
              "      <td>0.027444</td>\n",
              "    </tr>\n",
              "    <tr>\n",
              "      <th>2220</th>\n",
              "      <td>0.005387</td>\n",
              "      <td>0.013170</td>\n",
              "      <td>0.001823</td>\n",
              "      <td>0.000397</td>\n",
              "      <td>0.001800</td>\n",
              "      <td>0.017062</td>\n",
              "      <td>0.000717</td>\n",
              "      <td>0.005638</td>\n",
              "      <td>0.001963</td>\n",
              "      <td>0.000336</td>\n",
              "      <td>...</td>\n",
              "      <td>0.000790</td>\n",
              "      <td>2.258047e-03</td>\n",
              "      <td>0.000589</td>\n",
              "      <td>0.049872</td>\n",
              "      <td>0.003896</td>\n",
              "      <td>0.204192</td>\n",
              "      <td>0.000081</td>\n",
              "      <td>0.000414</td>\n",
              "      <td>0.000613</td>\n",
              "      <td>0.042261</td>\n",
              "    </tr>\n",
              "    <tr>\n",
              "      <th>2221</th>\n",
              "      <td>0.000014</td>\n",
              "      <td>0.000988</td>\n",
              "      <td>0.000069</td>\n",
              "      <td>0.000186</td>\n",
              "      <td>0.000036</td>\n",
              "      <td>0.000035</td>\n",
              "      <td>0.000649</td>\n",
              "      <td>0.003651</td>\n",
              "      <td>0.000380</td>\n",
              "      <td>0.000128</td>\n",
              "      <td>...</td>\n",
              "      <td>0.005033</td>\n",
              "      <td>1.248889e-04</td>\n",
              "      <td>0.000322</td>\n",
              "      <td>0.204231</td>\n",
              "      <td>0.001637</td>\n",
              "      <td>0.001451</td>\n",
              "      <td>0.023221</td>\n",
              "      <td>0.002750</td>\n",
              "      <td>0.000895</td>\n",
              "      <td>0.025311</td>\n",
              "    </tr>\n",
              "    <tr>\n",
              "      <th>2222</th>\n",
              "      <td>0.000520</td>\n",
              "      <td>0.000003</td>\n",
              "      <td>0.000013</td>\n",
              "      <td>0.938562</td>\n",
              "      <td>0.001102</td>\n",
              "      <td>0.016421</td>\n",
              "      <td>0.717132</td>\n",
              "      <td>0.000291</td>\n",
              "      <td>0.000365</td>\n",
              "      <td>0.836907</td>\n",
              "      <td>...</td>\n",
              "      <td>0.000197</td>\n",
              "      <td>3.199929e-07</td>\n",
              "      <td>0.000111</td>\n",
              "      <td>0.361033</td>\n",
              "      <td>0.000013</td>\n",
              "      <td>0.000224</td>\n",
              "      <td>0.999345</td>\n",
              "      <td>0.000023</td>\n",
              "      <td>0.000788</td>\n",
              "      <td>0.025356</td>\n",
              "    </tr>\n",
              "    <tr>\n",
              "      <th>2223</th>\n",
              "      <td>0.000021</td>\n",
              "      <td>0.000189</td>\n",
              "      <td>0.000033</td>\n",
              "      <td>0.000268</td>\n",
              "      <td>0.000047</td>\n",
              "      <td>0.000010</td>\n",
              "      <td>0.000098</td>\n",
              "      <td>0.003310</td>\n",
              "      <td>0.000228</td>\n",
              "      <td>0.000319</td>\n",
              "      <td>...</td>\n",
              "      <td>0.002320</td>\n",
              "      <td>6.738515e-05</td>\n",
              "      <td>0.000021</td>\n",
              "      <td>0.279466</td>\n",
              "      <td>0.000167</td>\n",
              "      <td>0.012241</td>\n",
              "      <td>0.097784</td>\n",
              "      <td>0.015339</td>\n",
              "      <td>0.005501</td>\n",
              "      <td>0.850371</td>\n",
              "    </tr>\n",
              "  </tbody>\n",
              "</table>\n",
              "<p>2224 rows × 31 columns</p>\n",
              "</div>\n",
              "      <button class=\"colab-df-convert\" onclick=\"convertToInteractive('df-aa8227c8-820f-4ead-b093-61ea8880efc6')\"\n",
              "              title=\"Convert this dataframe to an interactive table.\"\n",
              "              style=\"display:none;\">\n",
              "        \n",
              "  <svg xmlns=\"http://www.w3.org/2000/svg\" height=\"24px\"viewBox=\"0 0 24 24\"\n",
              "       width=\"24px\">\n",
              "    <path d=\"M0 0h24v24H0V0z\" fill=\"none\"/>\n",
              "    <path d=\"M18.56 5.44l.94 2.06.94-2.06 2.06-.94-2.06-.94-.94-2.06-.94 2.06-2.06.94zm-11 1L8.5 8.5l.94-2.06 2.06-.94-2.06-.94L8.5 2.5l-.94 2.06-2.06.94zm10 10l.94 2.06.94-2.06 2.06-.94-2.06-.94-.94-2.06-.94 2.06-2.06.94z\"/><path d=\"M17.41 7.96l-1.37-1.37c-.4-.4-.92-.59-1.43-.59-.52 0-1.04.2-1.43.59L10.3 9.45l-7.72 7.72c-.78.78-.78 2.05 0 2.83L4 21.41c.39.39.9.59 1.41.59.51 0 1.02-.2 1.41-.59l7.78-7.78 2.81-2.81c.8-.78.8-2.07 0-2.86zM5.41 20L4 18.59l7.72-7.72 1.47 1.35L5.41 20z\"/>\n",
              "  </svg>\n",
              "      </button>\n",
              "      \n",
              "  <style>\n",
              "    .colab-df-container {\n",
              "      display:flex;\n",
              "      flex-wrap:wrap;\n",
              "      gap: 12px;\n",
              "    }\n",
              "\n",
              "    .colab-df-convert {\n",
              "      background-color: #E8F0FE;\n",
              "      border: none;\n",
              "      border-radius: 50%;\n",
              "      cursor: pointer;\n",
              "      display: none;\n",
              "      fill: #1967D2;\n",
              "      height: 32px;\n",
              "      padding: 0 0 0 0;\n",
              "      width: 32px;\n",
              "    }\n",
              "\n",
              "    .colab-df-convert:hover {\n",
              "      background-color: #E2EBFA;\n",
              "      box-shadow: 0px 1px 2px rgba(60, 64, 67, 0.3), 0px 1px 3px 1px rgba(60, 64, 67, 0.15);\n",
              "      fill: #174EA6;\n",
              "    }\n",
              "\n",
              "    [theme=dark] .colab-df-convert {\n",
              "      background-color: #3B4455;\n",
              "      fill: #D2E3FC;\n",
              "    }\n",
              "\n",
              "    [theme=dark] .colab-df-convert:hover {\n",
              "      background-color: #434B5C;\n",
              "      box-shadow: 0px 1px 3px 1px rgba(0, 0, 0, 0.15);\n",
              "      filter: drop-shadow(0px 1px 2px rgba(0, 0, 0, 0.3));\n",
              "      fill: #FFFFFF;\n",
              "    }\n",
              "  </style>\n",
              "\n",
              "      <script>\n",
              "        const buttonEl =\n",
              "          document.querySelector('#df-aa8227c8-820f-4ead-b093-61ea8880efc6 button.colab-df-convert');\n",
              "        buttonEl.style.display =\n",
              "          google.colab.kernel.accessAllowed ? 'block' : 'none';\n",
              "\n",
              "        async function convertToInteractive(key) {\n",
              "          const element = document.querySelector('#df-aa8227c8-820f-4ead-b093-61ea8880efc6');\n",
              "          const dataTable =\n",
              "            await google.colab.kernel.invokeFunction('convertToInteractive',\n",
              "                                                     [key], {});\n",
              "          if (!dataTable) return;\n",
              "\n",
              "          const docLinkHtml = 'Like what you see? Visit the ' +\n",
              "            '<a target=\"_blank\" href=https://colab.research.google.com/notebooks/data_table.ipynb>data table notebook</a>'\n",
              "            + ' to learn more about interactive tables.';\n",
              "          element.innerHTML = '';\n",
              "          dataTable['output_type'] = 'display_data';\n",
              "          await google.colab.output.renderOutput(dataTable, element);\n",
              "          const docLink = document.createElement('div');\n",
              "          docLink.innerHTML = docLinkHtml;\n",
              "          element.appendChild(docLink);\n",
              "        }\n",
              "      </script>\n",
              "    </div>\n",
              "  </div>\n",
              "  "
            ]
          },
          "metadata": {},
          "execution_count": 60
        }
      ],
      "source": [
        "pre"
      ]
    },
    {
      "cell_type": "code",
      "execution_count": null,
      "metadata": {
        "id": "kaxFaPImKDQ_"
      },
      "outputs": [],
      "source": [
        "c_pre=pre.copy()"
      ]
    },
    {
      "cell_type": "code",
      "execution_count": null,
      "metadata": {
        "id": "9Za6yEuYKDoA",
        "colab": {
          "base_uri": "https://localhost:8080/"
        },
        "outputId": "26de3ef4-7a79-41a2-f577-446f075697e7"
      },
      "outputs": [
        {
          "output_type": "stream",
          "name": "stdout",
          "text": [
            "                      precision    recall  f1-score   support\n",
            "\n",
            "     SCREEN#Positive       0.79      0.65      0.71       136\n",
            "     SCREEN#Negative       0.59      0.57      0.58       116\n",
            "      SCREEN#Neutral       0.00      0.00      0.00        17\n",
            "     CAMERA#Positive       0.87      0.81      0.84       346\n",
            "     CAMERA#Negative       0.76      0.61      0.68       171\n",
            "      CAMERA#Neutral       0.53      0.39      0.45        71\n",
            "   FEATURES#Positive       0.55      0.64      0.59       200\n",
            "   FEATURES#Negative       0.78      0.63      0.70       459\n",
            "    FEATURES#Neutral       0.33      0.08      0.12        52\n",
            "    BATTERY#Positive       0.85      0.80      0.82       554\n",
            "    BATTERY#Negative       0.76      0.79      0.78       368\n",
            "     BATTERY#Neutral       0.32      0.15      0.21        92\n",
            "PERFORMANCE#Positive       0.80      0.77      0.79       602\n",
            "PERFORMANCE#Negative       0.73      0.65      0.69       454\n",
            " PERFORMANCE#Neutral       0.30      0.20      0.24       116\n",
            "    STORAGE#Positive       0.60      0.17      0.26        18\n",
            "    STORAGE#Negative       0.00      0.00      0.00         6\n",
            "     STORAGE#Neutral       0.00      0.00      0.00         3\n",
            "     DESIGN#Positive       0.77      0.82      0.80       274\n",
            "     DESIGN#Negative       0.66      0.24      0.35        96\n",
            "      DESIGN#Neutral       1.00      0.04      0.07        28\n",
            "      PRICE#Positive       0.61      0.61      0.61       162\n",
            "      PRICE#Negative       0.48      0.37      0.42        79\n",
            "       PRICE#Neutral       0.76      0.70      0.73       328\n",
            "    GENERAL#Positive       0.76      0.81      0.78      1004\n",
            "    GENERAL#Negative       0.67      0.57      0.61       294\n",
            "     GENERAL#Neutral       0.53      0.24      0.33        83\n",
            "    SER&ACC#Positive       0.84      0.77      0.80       399\n",
            "    SER&ACC#Negative       0.51      0.37      0.43       167\n",
            "     SER&ACC#Neutral       0.00      0.00      0.00        27\n",
            "              OTHERS       0.40      0.27      0.32       513\n",
            "\n",
            "           micro avg       0.72      0.64      0.68      7235\n",
            "           macro avg       0.57      0.44      0.47      7235\n",
            "        weighted avg       0.70      0.64      0.66      7235\n",
            "         samples avg       0.71      0.64      0.65      7235\n",
            "\n"
          ]
        },
        {
          "output_type": "stream",
          "name": "stderr",
          "text": [
            "/usr/local/lib/python3.10/dist-packages/sklearn/metrics/_classification.py:1344: UndefinedMetricWarning: Precision and F-score are ill-defined and being set to 0.0 in labels with no predicted samples. Use `zero_division` parameter to control this behavior.\n",
            "  _warn_prf(average, modifier, msg_start, len(result))\n",
            "/usr/local/lib/python3.10/dist-packages/sklearn/metrics/_classification.py:1344: UndefinedMetricWarning: Precision and F-score are ill-defined and being set to 0.0 in samples with no predicted labels. Use `zero_division` parameter to control this behavior.\n",
            "  _warn_prf(average, modifier, msg_start, len(result))\n"
          ]
        }
      ],
      "source": [
        "for i in range(0,c_pre.shape[0]):\n",
        "  for j in range(0,len(label)):\n",
        "    if c_pre[label[j]][i]>=0.5:\n",
        "      c_pre[label[j]][i]=1\n",
        "    else:\n",
        "      c_pre[label[j]][i]=0\n",
        "\n",
        "print(classification_report(y_test, c_pre, target_names=label))"
      ]
    },
    {
      "cell_type": "markdown",
      "metadata": {
        "id": "fh0Sss7q2QXt"
      },
      "source": []
    },
    {
      "cell_type": "markdown",
      "metadata": {
        "id": "-uGD2xcFKLgz"
      },
      "source": [
        "#BiLSTM"
      ]
    },
    {
      "cell_type": "code",
      "execution_count": null,
      "metadata": {
        "id": "ZZKkfXcWKQXB",
        "colab": {
          "base_uri": "https://localhost:8080/"
        },
        "outputId": "aa11785d-1b8c-47e7-b24a-c9bd84200894"
      },
      "outputs": [
        {
          "output_type": "stream",
          "name": "stderr",
          "text": [
            "WARNING:tensorflow:Layer lstm will not use cuDNN kernels since it doesn't meet the criteria. It will use a generic GPU kernel as fallback when running on GPU.\n",
            "WARNING:tensorflow:Layer lstm will not use cuDNN kernels since it doesn't meet the criteria. It will use a generic GPU kernel as fallback when running on GPU.\n",
            "WARNING:tensorflow:Layer lstm will not use cuDNN kernels since it doesn't meet the criteria. It will use a generic GPU kernel as fallback when running on GPU.\n"
          ]
        }
      ],
      "source": [
        "inp = Input(shape=(maxlen,))\n",
        "\n",
        "x = Embedding(max_features, embed_size, weights=[embedding_matrix], trainable=True)(inp)\n",
        "x = SpatialDropout1D(0.35)(x)\n",
        "\n",
        "x = Bidirectional(LSTM(128, return_sequences=True, dropout=0.15, recurrent_dropout=0.15))(x)\n",
        "x = Conv1D(64, kernel_size=3, padding='valid', kernel_initializer='glorot_uniform')(x)\n",
        "\n",
        "avg_pool = GlobalAveragePooling1D()(x)\n",
        "max_pool = GlobalMaxPooling1D()(x)\n",
        "x = concatenate([avg_pool, max_pool])\n",
        "\n",
        "out = Dense(31, activation='sigmoid')(x)\n",
        "\n",
        "model = Model(inp, out)\n",
        "model.compile(optimizer='adam', loss='binary_crossentropy', metrics=['acc',f1_m,precision_m, recall_m])"
      ]
    },
    {
      "cell_type": "code",
      "execution_count": null,
      "metadata": {
        "id": "cxFshHEZKSLf",
        "colab": {
          "base_uri": "https://localhost:8080/"
        },
        "outputId": "becadf99-c308-4d73-ef38-57618404cd0d"
      },
      "outputs": [
        {
          "output_type": "stream",
          "name": "stdout",
          "text": [
            "Epoch 1/20\n",
            "244/244 [==============================] - 407s 2s/step - loss: 0.2701 - acc: 0.1053 - f1_m: 0.2821 - precision_m: 0.5831 - recall_m: 0.2050\n",
            "Epoch 2/20\n",
            "244/244 [==============================] - 353s 1s/step - loss: 0.1963 - acc: 0.2404 - f1_m: 0.5592 - precision_m: 0.7507 - recall_m: 0.4488\n",
            "Epoch 3/20\n",
            "244/244 [==============================] - 349s 1s/step - loss: 0.1688 - acc: 0.2937 - f1_m: 0.6420 - precision_m: 0.7820 - recall_m: 0.5468\n",
            "Epoch 4/20\n",
            "244/244 [==============================] - 349s 1s/step - loss: 0.1519 - acc: 0.3134 - f1_m: 0.6842 - precision_m: 0.8018 - recall_m: 0.5987\n",
            "Epoch 5/20\n",
            "244/244 [==============================] - 348s 1s/step - loss: 0.1394 - acc: 0.3292 - f1_m: 0.7188 - precision_m: 0.8165 - recall_m: 0.6435\n",
            "Epoch 6/20\n",
            "244/244 [==============================] - 361s 1s/step - loss: 0.1290 - acc: 0.3406 - f1_m: 0.7411 - precision_m: 0.8275 - recall_m: 0.6727\n",
            "Epoch 7/20\n",
            "244/244 [==============================] - 347s 1s/step - loss: 0.1196 - acc: 0.3429 - f1_m: 0.7637 - precision_m: 0.8410 - recall_m: 0.7010\n",
            "Epoch 8/20\n",
            "244/244 [==============================] - 352s 1s/step - loss: 0.1115 - acc: 0.3535 - f1_m: 0.7835 - precision_m: 0.8532 - recall_m: 0.7260\n",
            "Epoch 9/20\n",
            "244/244 [==============================] - 350s 1s/step - loss: 0.1037 - acc: 0.3515 - f1_m: 0.7991 - precision_m: 0.8619 - recall_m: 0.7465\n",
            "Epoch 10/20\n",
            "244/244 [==============================] - 346s 1s/step - loss: 0.0957 - acc: 0.3621 - f1_m: 0.8173 - precision_m: 0.8737 - recall_m: 0.7691\n",
            "Epoch 11/20\n",
            "244/244 [==============================] - 343s 1s/step - loss: 0.0889 - acc: 0.3536 - f1_m: 0.8309 - precision_m: 0.8823 - recall_m: 0.7864\n",
            "Epoch 12/20\n",
            "244/244 [==============================] - 347s 1s/step - loss: 0.0814 - acc: 0.3730 - f1_m: 0.8460 - precision_m: 0.8901 - recall_m: 0.8071\n",
            "Epoch 13/20\n",
            "244/244 [==============================] - 345s 1s/step - loss: 0.0742 - acc: 0.3719 - f1_m: 0.8622 - precision_m: 0.9032 - recall_m: 0.8257\n",
            "Epoch 14/20\n",
            "244/244 [==============================] - 349s 1s/step - loss: 0.0685 - acc: 0.3789 - f1_m: 0.8736 - precision_m: 0.9088 - recall_m: 0.8419\n",
            "Epoch 15/20\n",
            "244/244 [==============================] - 344s 1s/step - loss: 0.0627 - acc: 0.3815 - f1_m: 0.8848 - precision_m: 0.9175 - recall_m: 0.8553\n",
            "Epoch 16/20\n",
            "244/244 [==============================] - 345s 1s/step - loss: 0.0574 - acc: 0.3818 - f1_m: 0.8976 - precision_m: 0.9254 - recall_m: 0.8724\n",
            "Epoch 17/20\n",
            "244/244 [==============================] - 349s 1s/step - loss: 0.0522 - acc: 0.3863 - f1_m: 0.9077 - precision_m: 0.9321 - recall_m: 0.8851\n",
            "Epoch 18/20\n",
            "244/244 [==============================] - 343s 1s/step - loss: 0.0471 - acc: 0.3797 - f1_m: 0.9170 - precision_m: 0.9394 - recall_m: 0.8963\n",
            "Epoch 19/20\n",
            "244/244 [==============================] - 343s 1s/step - loss: 0.0432 - acc: 0.3884 - f1_m: 0.9245 - precision_m: 0.9433 - recall_m: 0.9070\n",
            "Epoch 20/20\n",
            "244/244 [==============================] - 345s 1s/step - loss: 0.0391 - acc: 0.3857 - f1_m: 0.9328 - precision_m: 0.9493 - recall_m: 0.9173\n",
            "70/70 [==============================] - 7s 98ms/step\n",
            "[[9.9970895e-01 1.3964744e-05 6.5980229e-04 ... 1.3438788e-05\n",
            "  3.4340619e-06 2.3233167e-04]\n",
            " [2.2934864e-03 7.3048377e-01 2.5545519e-06 ... 2.4976404e-02\n",
            "  2.1177264e-02 2.8505269e-02]\n",
            " [3.6619091e-03 6.8802084e-03 1.5065353e-05 ... 2.2105929e-05\n",
            "  6.7288280e-03 3.5604168e-02]\n",
            " ...\n",
            " [2.8387862e-05 2.8017597e-04 1.0782356e-05 ... 6.2732736e-04\n",
            "  1.6882828e-04 1.1006763e-01]\n",
            " [3.6175174e-04 1.6660033e-07 1.2350522e-05 ... 6.5160787e-04\n",
            "  6.7998964e-04 3.0935099e-03]\n",
            " [2.3540897e-05 2.4691940e-06 2.8219622e-05 ... 1.4888970e-03\n",
            "  4.1933376e-03 8.0416226e-01]]\n"
          ]
        }
      ],
      "source": [
        "batch_size = 32\n",
        "epochs =20\n",
        "\n",
        "model.fit(X_train, y_train, batch_size=batch_size, epochs=epochs, verbose=1)\n",
        "predictions = model.predict(X_test, batch_size=batch_size, verbose=1)\n",
        "\n",
        "print(predictions)"
      ]
    },
    {
      "cell_type": "code",
      "execution_count": null,
      "metadata": {
        "id": "YKjph9OvFXJ-"
      },
      "outputs": [],
      "source": [
        "model.save ('/content/drive/MyDrive/KhóaLuậnTốtNghiệp/UIT-ViSFD/bilstm.h5')"
      ]
    },
    {
      "cell_type": "code",
      "execution_count": null,
      "metadata": {
        "id": "G_XSsBijKTWn"
      },
      "outputs": [],
      "source": [
        "pre=pd.DataFrame(predictions)\n",
        "pre.columns=label"
      ]
    },
    {
      "cell_type": "code",
      "execution_count": null,
      "metadata": {
        "id": "MksVkUGfKUqw",
        "colab": {
          "base_uri": "https://localhost:8080/"
        },
        "outputId": "321a89d8-6657-419a-ff76-2e9383a4beb5"
      },
      "outputs": [
        {
          "output_type": "stream",
          "name": "stdout",
          "text": [
            "70/70 [==============================] - 10s 120ms/step - loss: 0.2466 - acc: 0.2878 - f1_m: 0.6832 - precision_m: 0.7133 - recall_m: 0.6566\n",
            "Test accuracy: [0.24657152593135834, 0.28776979446411133, 0.6831986308097839, 0.7132704854011536, 0.6565975546836853]\n"
          ]
        }
      ],
      "source": [
        "score = model.evaluate(X_test, y_test, batch_size=batch_size, verbose=1)\n",
        "print('Test accuracy:', score)"
      ]
    },
    {
      "cell_type": "code",
      "execution_count": null,
      "metadata": {
        "id": "-sdJSqOhKWao"
      },
      "outputs": [],
      "source": [
        "c_pre=pre.copy()"
      ]
    },
    {
      "cell_type": "code",
      "execution_count": null,
      "metadata": {
        "id": "wJ4Pi1pkKWtB",
        "colab": {
          "base_uri": "https://localhost:8080/",
          "height": 488
        },
        "outputId": "5214503d-a4e5-4607-fcc6-1f7e89b07042"
      },
      "outputs": [
        {
          "output_type": "execute_result",
          "data": {
            "text/plain": [
              "      SCREEN#Positive  SCREEN#Negative  SCREEN#Neutral  CAMERA#Positive  \\\n",
              "0            0.999709     1.396474e-05    6.598023e-04     5.939688e-04   \n",
              "1            0.002293     7.304838e-01    2.554552e-06     3.257334e-07   \n",
              "2            0.003662     6.880208e-03    1.506535e-05     3.339217e-06   \n",
              "3            0.000041     7.233349e-02    6.556761e-04     1.024083e-05   \n",
              "4            0.365051     2.287787e-03    1.209269e-02     1.242027e-04   \n",
              "...               ...              ...             ...              ...   \n",
              "2219         0.001341     5.597917e-08    3.038458e-07     1.833082e-03   \n",
              "2220         0.000007     2.003408e-02    5.101344e-04     6.633141e-04   \n",
              "2221         0.000028     2.801760e-04    1.078236e-05     8.719340e-05   \n",
              "2222         0.000362     1.666003e-07    1.235052e-05     9.962841e-01   \n",
              "2223         0.000024     2.469194e-06    2.821962e-05     5.893140e-06   \n",
              "\n",
              "      CAMERA#Negative  CAMERA#Neutral  FEATURES#Positive  FEATURES#Negative  \\\n",
              "0        3.649387e-08    2.829044e-06           0.998396           0.003194   \n",
              "1        5.260723e-04    1.921382e-06           0.005774           0.939195   \n",
              "2        2.568313e-05    1.903624e-06           0.000009           0.000004   \n",
              "3        5.316553e-06    1.868746e-05           0.002228           0.592137   \n",
              "4        8.094037e-06    2.690757e-05           0.003836           0.000070   \n",
              "...               ...             ...                ...                ...   \n",
              "2219     2.852527e-06    1.818450e-03           0.967251           0.733946   \n",
              "2220     1.549396e-02    2.986021e-03           0.000041           0.000585   \n",
              "2221     5.128274e-08    1.044442e-06           0.000059           0.000062   \n",
              "2222     7.538566e-04    6.716461e-03           0.666190           0.000013   \n",
              "2223     4.412887e-08    6.110326e-08           0.000081           0.000039   \n",
              "\n",
              "      FEATURES#Neutral  BATTERY#Positive  ...  PRICE#Positive  PRICE#Negative  \\\n",
              "0             0.000194          0.999057  ...    7.969548e-06        0.000129   \n",
              "1             0.014925          0.000009  ...    2.591101e-09        0.000002   \n",
              "2             0.000002          0.000010  ...    2.019252e-06        0.000005   \n",
              "3             0.101924          0.000025  ...    3.785683e-07        0.000081   \n",
              "4             0.000192          0.000369  ...    3.735439e-07        0.052013   \n",
              "...                ...               ...  ...             ...             ...   \n",
              "2219          0.222887          0.005024  ...    1.143828e-04        0.000002   \n",
              "2220          0.006839          0.000175  ...    4.072354e-05        0.000256   \n",
              "2221          0.000031          0.000017  ...    1.680355e-05        0.000008   \n",
              "2222          0.000041          0.999942  ...    1.548559e-03        0.000002   \n",
              "2223          0.000221          0.000327  ...    4.626396e-05        0.000005   \n",
              "\n",
              "      PRICE#Neutral  GENERAL#Positive  GENERAL#Negative  GENERAL#Neutral  \\\n",
              "0          0.000040          0.999934      2.442429e-07     1.457499e-08   \n",
              "1          0.001678          0.000071      4.870849e-01     6.293978e-03   \n",
              "2          0.000020          0.034609      5.155983e-04     2.685668e-04   \n",
              "3          0.000040          0.083608      8.686893e-03     1.746645e-03   \n",
              "4          0.999934          0.151073      2.769658e-02     5.787590e-03   \n",
              "...             ...               ...               ...              ...   \n",
              "2219       0.000051          0.000283      1.508103e-03     5.169203e-05   \n",
              "2220       0.000011          0.001607      3.582772e-03     9.707218e-01   \n",
              "2221       0.000006          0.161729      2.356015e-04     4.459704e-03   \n",
              "2222       0.000087          0.184222      5.051742e-05     3.695758e-05   \n",
              "2223       0.000045          0.081149      2.620303e-05     1.645190e-02   \n",
              "\n",
              "      SER&ACC#Positive  SER&ACC#Negative  SER&ACC#Neutral    OTHERS  \n",
              "0             0.000006      1.343879e-05         0.000003  0.000232  \n",
              "1             0.051367      2.497640e-02         0.021177  0.028505  \n",
              "2             0.999960      2.210593e-05         0.006729  0.035604  \n",
              "3             0.000004      4.361975e-07         0.000576  0.384203  \n",
              "4             0.000031      8.269659e-02         0.000589  0.244517  \n",
              "...                ...               ...              ...       ...  \n",
              "2219          0.046078      8.480621e-04         0.000702  0.000060  \n",
              "2220          0.000001      7.571694e-06         0.000013  0.001003  \n",
              "2221          0.026837      6.273274e-04         0.000169  0.110068  \n",
              "2222          0.992700      6.516079e-04         0.000680  0.003094  \n",
              "2223          0.072489      1.488897e-03         0.004193  0.804162  \n",
              "\n",
              "[2224 rows x 31 columns]"
            ],
            "text/html": [
              "\n",
              "  <div id=\"df-f65c9c04-8348-4bb6-ad99-f658152d6f0a\">\n",
              "    <div class=\"colab-df-container\">\n",
              "      <div>\n",
              "<style scoped>\n",
              "    .dataframe tbody tr th:only-of-type {\n",
              "        vertical-align: middle;\n",
              "    }\n",
              "\n",
              "    .dataframe tbody tr th {\n",
              "        vertical-align: top;\n",
              "    }\n",
              "\n",
              "    .dataframe thead th {\n",
              "        text-align: right;\n",
              "    }\n",
              "</style>\n",
              "<table border=\"1\" class=\"dataframe\">\n",
              "  <thead>\n",
              "    <tr style=\"text-align: right;\">\n",
              "      <th></th>\n",
              "      <th>SCREEN#Positive</th>\n",
              "      <th>SCREEN#Negative</th>\n",
              "      <th>SCREEN#Neutral</th>\n",
              "      <th>CAMERA#Positive</th>\n",
              "      <th>CAMERA#Negative</th>\n",
              "      <th>CAMERA#Neutral</th>\n",
              "      <th>FEATURES#Positive</th>\n",
              "      <th>FEATURES#Negative</th>\n",
              "      <th>FEATURES#Neutral</th>\n",
              "      <th>BATTERY#Positive</th>\n",
              "      <th>...</th>\n",
              "      <th>PRICE#Positive</th>\n",
              "      <th>PRICE#Negative</th>\n",
              "      <th>PRICE#Neutral</th>\n",
              "      <th>GENERAL#Positive</th>\n",
              "      <th>GENERAL#Negative</th>\n",
              "      <th>GENERAL#Neutral</th>\n",
              "      <th>SER&amp;ACC#Positive</th>\n",
              "      <th>SER&amp;ACC#Negative</th>\n",
              "      <th>SER&amp;ACC#Neutral</th>\n",
              "      <th>OTHERS</th>\n",
              "    </tr>\n",
              "  </thead>\n",
              "  <tbody>\n",
              "    <tr>\n",
              "      <th>0</th>\n",
              "      <td>0.999709</td>\n",
              "      <td>1.396474e-05</td>\n",
              "      <td>6.598023e-04</td>\n",
              "      <td>5.939688e-04</td>\n",
              "      <td>3.649387e-08</td>\n",
              "      <td>2.829044e-06</td>\n",
              "      <td>0.998396</td>\n",
              "      <td>0.003194</td>\n",
              "      <td>0.000194</td>\n",
              "      <td>0.999057</td>\n",
              "      <td>...</td>\n",
              "      <td>7.969548e-06</td>\n",
              "      <td>0.000129</td>\n",
              "      <td>0.000040</td>\n",
              "      <td>0.999934</td>\n",
              "      <td>2.442429e-07</td>\n",
              "      <td>1.457499e-08</td>\n",
              "      <td>0.000006</td>\n",
              "      <td>1.343879e-05</td>\n",
              "      <td>0.000003</td>\n",
              "      <td>0.000232</td>\n",
              "    </tr>\n",
              "    <tr>\n",
              "      <th>1</th>\n",
              "      <td>0.002293</td>\n",
              "      <td>7.304838e-01</td>\n",
              "      <td>2.554552e-06</td>\n",
              "      <td>3.257334e-07</td>\n",
              "      <td>5.260723e-04</td>\n",
              "      <td>1.921382e-06</td>\n",
              "      <td>0.005774</td>\n",
              "      <td>0.939195</td>\n",
              "      <td>0.014925</td>\n",
              "      <td>0.000009</td>\n",
              "      <td>...</td>\n",
              "      <td>2.591101e-09</td>\n",
              "      <td>0.000002</td>\n",
              "      <td>0.001678</td>\n",
              "      <td>0.000071</td>\n",
              "      <td>4.870849e-01</td>\n",
              "      <td>6.293978e-03</td>\n",
              "      <td>0.051367</td>\n",
              "      <td>2.497640e-02</td>\n",
              "      <td>0.021177</td>\n",
              "      <td>0.028505</td>\n",
              "    </tr>\n",
              "    <tr>\n",
              "      <th>2</th>\n",
              "      <td>0.003662</td>\n",
              "      <td>6.880208e-03</td>\n",
              "      <td>1.506535e-05</td>\n",
              "      <td>3.339217e-06</td>\n",
              "      <td>2.568313e-05</td>\n",
              "      <td>1.903624e-06</td>\n",
              "      <td>0.000009</td>\n",
              "      <td>0.000004</td>\n",
              "      <td>0.000002</td>\n",
              "      <td>0.000010</td>\n",
              "      <td>...</td>\n",
              "      <td>2.019252e-06</td>\n",
              "      <td>0.000005</td>\n",
              "      <td>0.000020</td>\n",
              "      <td>0.034609</td>\n",
              "      <td>5.155983e-04</td>\n",
              "      <td>2.685668e-04</td>\n",
              "      <td>0.999960</td>\n",
              "      <td>2.210593e-05</td>\n",
              "      <td>0.006729</td>\n",
              "      <td>0.035604</td>\n",
              "    </tr>\n",
              "    <tr>\n",
              "      <th>3</th>\n",
              "      <td>0.000041</td>\n",
              "      <td>7.233349e-02</td>\n",
              "      <td>6.556761e-04</td>\n",
              "      <td>1.024083e-05</td>\n",
              "      <td>5.316553e-06</td>\n",
              "      <td>1.868746e-05</td>\n",
              "      <td>0.002228</td>\n",
              "      <td>0.592137</td>\n",
              "      <td>0.101924</td>\n",
              "      <td>0.000025</td>\n",
              "      <td>...</td>\n",
              "      <td>3.785683e-07</td>\n",
              "      <td>0.000081</td>\n",
              "      <td>0.000040</td>\n",
              "      <td>0.083608</td>\n",
              "      <td>8.686893e-03</td>\n",
              "      <td>1.746645e-03</td>\n",
              "      <td>0.000004</td>\n",
              "      <td>4.361975e-07</td>\n",
              "      <td>0.000576</td>\n",
              "      <td>0.384203</td>\n",
              "    </tr>\n",
              "    <tr>\n",
              "      <th>4</th>\n",
              "      <td>0.365051</td>\n",
              "      <td>2.287787e-03</td>\n",
              "      <td>1.209269e-02</td>\n",
              "      <td>1.242027e-04</td>\n",
              "      <td>8.094037e-06</td>\n",
              "      <td>2.690757e-05</td>\n",
              "      <td>0.003836</td>\n",
              "      <td>0.000070</td>\n",
              "      <td>0.000192</td>\n",
              "      <td>0.000369</td>\n",
              "      <td>...</td>\n",
              "      <td>3.735439e-07</td>\n",
              "      <td>0.052013</td>\n",
              "      <td>0.999934</td>\n",
              "      <td>0.151073</td>\n",
              "      <td>2.769658e-02</td>\n",
              "      <td>5.787590e-03</td>\n",
              "      <td>0.000031</td>\n",
              "      <td>8.269659e-02</td>\n",
              "      <td>0.000589</td>\n",
              "      <td>0.244517</td>\n",
              "    </tr>\n",
              "    <tr>\n",
              "      <th>...</th>\n",
              "      <td>...</td>\n",
              "      <td>...</td>\n",
              "      <td>...</td>\n",
              "      <td>...</td>\n",
              "      <td>...</td>\n",
              "      <td>...</td>\n",
              "      <td>...</td>\n",
              "      <td>...</td>\n",
              "      <td>...</td>\n",
              "      <td>...</td>\n",
              "      <td>...</td>\n",
              "      <td>...</td>\n",
              "      <td>...</td>\n",
              "      <td>...</td>\n",
              "      <td>...</td>\n",
              "      <td>...</td>\n",
              "      <td>...</td>\n",
              "      <td>...</td>\n",
              "      <td>...</td>\n",
              "      <td>...</td>\n",
              "      <td>...</td>\n",
              "    </tr>\n",
              "    <tr>\n",
              "      <th>2219</th>\n",
              "      <td>0.001341</td>\n",
              "      <td>5.597917e-08</td>\n",
              "      <td>3.038458e-07</td>\n",
              "      <td>1.833082e-03</td>\n",
              "      <td>2.852527e-06</td>\n",
              "      <td>1.818450e-03</td>\n",
              "      <td>0.967251</td>\n",
              "      <td>0.733946</td>\n",
              "      <td>0.222887</td>\n",
              "      <td>0.005024</td>\n",
              "      <td>...</td>\n",
              "      <td>1.143828e-04</td>\n",
              "      <td>0.000002</td>\n",
              "      <td>0.000051</td>\n",
              "      <td>0.000283</td>\n",
              "      <td>1.508103e-03</td>\n",
              "      <td>5.169203e-05</td>\n",
              "      <td>0.046078</td>\n",
              "      <td>8.480621e-04</td>\n",
              "      <td>0.000702</td>\n",
              "      <td>0.000060</td>\n",
              "    </tr>\n",
              "    <tr>\n",
              "      <th>2220</th>\n",
              "      <td>0.000007</td>\n",
              "      <td>2.003408e-02</td>\n",
              "      <td>5.101344e-04</td>\n",
              "      <td>6.633141e-04</td>\n",
              "      <td>1.549396e-02</td>\n",
              "      <td>2.986021e-03</td>\n",
              "      <td>0.000041</td>\n",
              "      <td>0.000585</td>\n",
              "      <td>0.006839</td>\n",
              "      <td>0.000175</td>\n",
              "      <td>...</td>\n",
              "      <td>4.072354e-05</td>\n",
              "      <td>0.000256</td>\n",
              "      <td>0.000011</td>\n",
              "      <td>0.001607</td>\n",
              "      <td>3.582772e-03</td>\n",
              "      <td>9.707218e-01</td>\n",
              "      <td>0.000001</td>\n",
              "      <td>7.571694e-06</td>\n",
              "      <td>0.000013</td>\n",
              "      <td>0.001003</td>\n",
              "    </tr>\n",
              "    <tr>\n",
              "      <th>2221</th>\n",
              "      <td>0.000028</td>\n",
              "      <td>2.801760e-04</td>\n",
              "      <td>1.078236e-05</td>\n",
              "      <td>8.719340e-05</td>\n",
              "      <td>5.128274e-08</td>\n",
              "      <td>1.044442e-06</td>\n",
              "      <td>0.000059</td>\n",
              "      <td>0.000062</td>\n",
              "      <td>0.000031</td>\n",
              "      <td>0.000017</td>\n",
              "      <td>...</td>\n",
              "      <td>1.680355e-05</td>\n",
              "      <td>0.000008</td>\n",
              "      <td>0.000006</td>\n",
              "      <td>0.161729</td>\n",
              "      <td>2.356015e-04</td>\n",
              "      <td>4.459704e-03</td>\n",
              "      <td>0.026837</td>\n",
              "      <td>6.273274e-04</td>\n",
              "      <td>0.000169</td>\n",
              "      <td>0.110068</td>\n",
              "    </tr>\n",
              "    <tr>\n",
              "      <th>2222</th>\n",
              "      <td>0.000362</td>\n",
              "      <td>1.666003e-07</td>\n",
              "      <td>1.235052e-05</td>\n",
              "      <td>9.962841e-01</td>\n",
              "      <td>7.538566e-04</td>\n",
              "      <td>6.716461e-03</td>\n",
              "      <td>0.666190</td>\n",
              "      <td>0.000013</td>\n",
              "      <td>0.000041</td>\n",
              "      <td>0.999942</td>\n",
              "      <td>...</td>\n",
              "      <td>1.548559e-03</td>\n",
              "      <td>0.000002</td>\n",
              "      <td>0.000087</td>\n",
              "      <td>0.184222</td>\n",
              "      <td>5.051742e-05</td>\n",
              "      <td>3.695758e-05</td>\n",
              "      <td>0.992700</td>\n",
              "      <td>6.516079e-04</td>\n",
              "      <td>0.000680</td>\n",
              "      <td>0.003094</td>\n",
              "    </tr>\n",
              "    <tr>\n",
              "      <th>2223</th>\n",
              "      <td>0.000024</td>\n",
              "      <td>2.469194e-06</td>\n",
              "      <td>2.821962e-05</td>\n",
              "      <td>5.893140e-06</td>\n",
              "      <td>4.412887e-08</td>\n",
              "      <td>6.110326e-08</td>\n",
              "      <td>0.000081</td>\n",
              "      <td>0.000039</td>\n",
              "      <td>0.000221</td>\n",
              "      <td>0.000327</td>\n",
              "      <td>...</td>\n",
              "      <td>4.626396e-05</td>\n",
              "      <td>0.000005</td>\n",
              "      <td>0.000045</td>\n",
              "      <td>0.081149</td>\n",
              "      <td>2.620303e-05</td>\n",
              "      <td>1.645190e-02</td>\n",
              "      <td>0.072489</td>\n",
              "      <td>1.488897e-03</td>\n",
              "      <td>0.004193</td>\n",
              "      <td>0.804162</td>\n",
              "    </tr>\n",
              "  </tbody>\n",
              "</table>\n",
              "<p>2224 rows × 31 columns</p>\n",
              "</div>\n",
              "      <button class=\"colab-df-convert\" onclick=\"convertToInteractive('df-f65c9c04-8348-4bb6-ad99-f658152d6f0a')\"\n",
              "              title=\"Convert this dataframe to an interactive table.\"\n",
              "              style=\"display:none;\">\n",
              "        \n",
              "  <svg xmlns=\"http://www.w3.org/2000/svg\" height=\"24px\"viewBox=\"0 0 24 24\"\n",
              "       width=\"24px\">\n",
              "    <path d=\"M0 0h24v24H0V0z\" fill=\"none\"/>\n",
              "    <path d=\"M18.56 5.44l.94 2.06.94-2.06 2.06-.94-2.06-.94-.94-2.06-.94 2.06-2.06.94zm-11 1L8.5 8.5l.94-2.06 2.06-.94-2.06-.94L8.5 2.5l-.94 2.06-2.06.94zm10 10l.94 2.06.94-2.06 2.06-.94-2.06-.94-.94-2.06-.94 2.06-2.06.94z\"/><path d=\"M17.41 7.96l-1.37-1.37c-.4-.4-.92-.59-1.43-.59-.52 0-1.04.2-1.43.59L10.3 9.45l-7.72 7.72c-.78.78-.78 2.05 0 2.83L4 21.41c.39.39.9.59 1.41.59.51 0 1.02-.2 1.41-.59l7.78-7.78 2.81-2.81c.8-.78.8-2.07 0-2.86zM5.41 20L4 18.59l7.72-7.72 1.47 1.35L5.41 20z\"/>\n",
              "  </svg>\n",
              "      </button>\n",
              "      \n",
              "  <style>\n",
              "    .colab-df-container {\n",
              "      display:flex;\n",
              "      flex-wrap:wrap;\n",
              "      gap: 12px;\n",
              "    }\n",
              "\n",
              "    .colab-df-convert {\n",
              "      background-color: #E8F0FE;\n",
              "      border: none;\n",
              "      border-radius: 50%;\n",
              "      cursor: pointer;\n",
              "      display: none;\n",
              "      fill: #1967D2;\n",
              "      height: 32px;\n",
              "      padding: 0 0 0 0;\n",
              "      width: 32px;\n",
              "    }\n",
              "\n",
              "    .colab-df-convert:hover {\n",
              "      background-color: #E2EBFA;\n",
              "      box-shadow: 0px 1px 2px rgba(60, 64, 67, 0.3), 0px 1px 3px 1px rgba(60, 64, 67, 0.15);\n",
              "      fill: #174EA6;\n",
              "    }\n",
              "\n",
              "    [theme=dark] .colab-df-convert {\n",
              "      background-color: #3B4455;\n",
              "      fill: #D2E3FC;\n",
              "    }\n",
              "\n",
              "    [theme=dark] .colab-df-convert:hover {\n",
              "      background-color: #434B5C;\n",
              "      box-shadow: 0px 1px 3px 1px rgba(0, 0, 0, 0.15);\n",
              "      filter: drop-shadow(0px 1px 2px rgba(0, 0, 0, 0.3));\n",
              "      fill: #FFFFFF;\n",
              "    }\n",
              "  </style>\n",
              "\n",
              "      <script>\n",
              "        const buttonEl =\n",
              "          document.querySelector('#df-f65c9c04-8348-4bb6-ad99-f658152d6f0a button.colab-df-convert');\n",
              "        buttonEl.style.display =\n",
              "          google.colab.kernel.accessAllowed ? 'block' : 'none';\n",
              "\n",
              "        async function convertToInteractive(key) {\n",
              "          const element = document.querySelector('#df-f65c9c04-8348-4bb6-ad99-f658152d6f0a');\n",
              "          const dataTable =\n",
              "            await google.colab.kernel.invokeFunction('convertToInteractive',\n",
              "                                                     [key], {});\n",
              "          if (!dataTable) return;\n",
              "\n",
              "          const docLinkHtml = 'Like what you see? Visit the ' +\n",
              "            '<a target=\"_blank\" href=https://colab.research.google.com/notebooks/data_table.ipynb>data table notebook</a>'\n",
              "            + ' to learn more about interactive tables.';\n",
              "          element.innerHTML = '';\n",
              "          dataTable['output_type'] = 'display_data';\n",
              "          await google.colab.output.renderOutput(dataTable, element);\n",
              "          const docLink = document.createElement('div');\n",
              "          docLink.innerHTML = docLinkHtml;\n",
              "          element.appendChild(docLink);\n",
              "        }\n",
              "      </script>\n",
              "    </div>\n",
              "  </div>\n",
              "  "
            ]
          },
          "metadata": {},
          "execution_count": 37
        }
      ],
      "source": [
        "c_pre"
      ]
    },
    {
      "cell_type": "code",
      "execution_count": null,
      "metadata": {
        "id": "kaYe7YWzKYkB"
      },
      "outputs": [],
      "source": [
        "for i in range(0,c_pre.shape[0]):\n",
        "  for j in range(0,len(label)):\n",
        "    if c_pre[label[j]][i]>=0.5:\n",
        "      c_pre[label[j]][i]=1\n",
        "    else:\n",
        "      c_pre[label[j]][i]=0"
      ]
    },
    {
      "cell_type": "markdown",
      "source": [
        "#biLSTM + pre\n",
        "\n"
      ],
      "metadata": {
        "id": "rPki-qRTZjCE"
      }
    },
    {
      "cell_type": "code",
      "source": [
        "inp = Input(shape=(maxlen,))\n",
        "\n",
        "x = Embedding(max_features, embed_size, weights=[embedding_matrix], trainable=True)(inp)\n",
        "x = SpatialDropout1D(0.35)(x)\n",
        "\n",
        "x = Bidirectional(LSTM(128, return_sequences=True, dropout=0.15, recurrent_dropout=0.15))(x)\n",
        "x = Conv1D(64, kernel_size=3, padding='valid', kernel_initializer='glorot_uniform')(x)\n",
        "\n",
        "avg_pool = GlobalAveragePooling1D()(x)\n",
        "max_pool = GlobalMaxPooling1D()(x)\n",
        "x = concatenate([avg_pool, max_pool])\n",
        "\n",
        "out = Dense(31, activation='sigmoid')(x)\n",
        "\n",
        "model = Model(inp, out)\n",
        "model.compile(optimizer='adam', loss='binary_crossentropy', metrics=['acc',f1_m,precision_m, recall_m])"
      ],
      "metadata": {
        "colab": {
          "base_uri": "https://localhost:8080/"
        },
        "id": "uVLRX3ONZlp4",
        "outputId": "07c88a58-f7e9-4e43-a4f8-8276463ba938"
      },
      "execution_count": null,
      "outputs": [
        {
          "output_type": "stream",
          "name": "stderr",
          "text": [
            "WARNING:tensorflow:Layer lstm will not use cuDNN kernels since it doesn't meet the criteria. It will use a generic GPU kernel as fallback when running on GPU.\n",
            "WARNING:tensorflow:Layer lstm will not use cuDNN kernels since it doesn't meet the criteria. It will use a generic GPU kernel as fallback when running on GPU.\n",
            "WARNING:tensorflow:Layer lstm will not use cuDNN kernels since it doesn't meet the criteria. It will use a generic GPU kernel as fallback when running on GPU.\n"
          ]
        }
      ]
    },
    {
      "cell_type": "code",
      "source": [
        "batch_size = 32\n",
        "epochs =20\n",
        "\n",
        "model.fit(X_train, y_train, batch_size=batch_size, epochs=epochs, verbose=1)\n",
        "predictions = model.predict(X_test, batch_size=batch_size, verbose=1)\n",
        "\n",
        "print(predictions)"
      ],
      "metadata": {
        "colab": {
          "base_uri": "https://localhost:8080/"
        },
        "id": "nTKUHRNwZoYT",
        "outputId": "6321e1b9-b0b2-4af0-e063-3a4c7175feb3"
      },
      "execution_count": null,
      "outputs": [
        {
          "output_type": "stream",
          "name": "stdout",
          "text": [
            "Epoch 1/20\n",
            "244/244 [==============================] - 420s 2s/step - loss: 0.2668 - acc: 0.0976 - f1_m: 0.2875 - precision_m: 0.5923 - recall_m: 0.2070\n",
            "Epoch 2/20\n",
            "244/244 [==============================] - 359s 1s/step - loss: 0.1927 - acc: 0.2244 - f1_m: 0.5731 - precision_m: 0.7545 - recall_m: 0.4650\n",
            "Epoch 3/20\n",
            "244/244 [==============================] - 353s 1s/step - loss: 0.1635 - acc: 0.2695 - f1_m: 0.6600 - precision_m: 0.7965 - recall_m: 0.5661\n",
            "Epoch 4/20\n",
            "244/244 [==============================] - 353s 1s/step - loss: 0.1434 - acc: 0.2996 - f1_m: 0.7110 - precision_m: 0.8187 - recall_m: 0.6302\n",
            "Epoch 5/20\n",
            "244/244 [==============================] - 351s 1s/step - loss: 0.1287 - acc: 0.3109 - f1_m: 0.7482 - precision_m: 0.8364 - recall_m: 0.6785\n",
            "Epoch 6/20\n",
            "244/244 [==============================] - 343s 1s/step - loss: 0.1177 - acc: 0.3266 - f1_m: 0.7720 - precision_m: 0.8501 - recall_m: 0.7084\n",
            "Epoch 7/20\n",
            "244/244 [==============================] - 343s 1s/step - loss: 0.1080 - acc: 0.3391 - f1_m: 0.7940 - precision_m: 0.8603 - recall_m: 0.7388\n",
            "Epoch 8/20\n",
            "244/244 [==============================] - 353s 1s/step - loss: 0.1002 - acc: 0.3386 - f1_m: 0.8074 - precision_m: 0.8675 - recall_m: 0.7566\n",
            "Epoch 9/20\n",
            "244/244 [==============================] - 350s 1s/step - loss: 0.0925 - acc: 0.3535 - f1_m: 0.8253 - precision_m: 0.8794 - recall_m: 0.7787\n",
            "Epoch 10/20\n",
            "244/244 [==============================] - 357s 1s/step - loss: 0.0841 - acc: 0.3526 - f1_m: 0.8434 - precision_m: 0.8915 - recall_m: 0.8012\n",
            "Epoch 11/20\n",
            "244/244 [==============================] - 347s 1s/step - loss: 0.0784 - acc: 0.3636 - f1_m: 0.8539 - precision_m: 0.8959 - recall_m: 0.8168\n",
            "Epoch 12/20\n",
            "244/244 [==============================] - 346s 1s/step - loss: 0.0715 - acc: 0.3685 - f1_m: 0.8695 - precision_m: 0.9072 - recall_m: 0.8358\n",
            "Epoch 13/20\n",
            "244/244 [==============================] - 344s 1s/step - loss: 0.0647 - acc: 0.3694 - f1_m: 0.8824 - precision_m: 0.9163 - recall_m: 0.8518\n",
            "Epoch 14/20\n",
            "244/244 [==============================] - 341s 1s/step - loss: 0.0591 - acc: 0.3750 - f1_m: 0.8941 - precision_m: 0.9238 - recall_m: 0.8671\n",
            "Epoch 15/20\n",
            "244/244 [==============================] - 344s 1s/step - loss: 0.0537 - acc: 0.3834 - f1_m: 0.9035 - precision_m: 0.9305 - recall_m: 0.8788\n",
            "Epoch 16/20\n",
            "244/244 [==============================] - 345s 1s/step - loss: 0.0490 - acc: 0.3849 - f1_m: 0.9133 - precision_m: 0.9363 - recall_m: 0.8921\n",
            "Epoch 17/20\n",
            "244/244 [==============================] - 349s 1s/step - loss: 0.0439 - acc: 0.3831 - f1_m: 0.9219 - precision_m: 0.9418 - recall_m: 0.9035\n",
            "Epoch 18/20\n",
            "244/244 [==============================] - 336s 1s/step - loss: 0.0397 - acc: 0.3847 - f1_m: 0.9307 - precision_m: 0.9480 - recall_m: 0.9145\n",
            "Epoch 19/20\n",
            "244/244 [==============================] - 339s 1s/step - loss: 0.0354 - acc: 0.3917 - f1_m: 0.9405 - precision_m: 0.9556 - recall_m: 0.9263\n",
            "Epoch 20/20\n",
            "244/244 [==============================] - 342s 1s/step - loss: 0.0319 - acc: 0.3857 - f1_m: 0.9461 - precision_m: 0.9600 - recall_m: 0.9332\n",
            "70/70 [==============================] - 8s 101ms/step\n",
            "[[8.7080741e-01 2.2821230e-06 8.4585619e-05 ... 3.9383635e-06\n",
            "  4.2025943e-04 3.5579860e-06]\n",
            " [1.6687807e-03 3.2070714e-01 4.7948030e-05 ... 4.5153365e-06\n",
            "  2.1457258e-03 2.1200761e-02]\n",
            " [5.8398091e-05 1.9791573e-02 6.1691651e-05 ... 4.1373828e-06\n",
            "  7.2480051e-04 4.3669529e-03]\n",
            " ...\n",
            " [2.3218699e-05 7.3242961e-07 4.0328905e-07 ... 2.9306375e-07\n",
            "  2.9132006e-04 1.5165046e-03]\n",
            " [1.2618872e-04 1.8252079e-08 1.3715634e-05 ... 6.3880088e-06\n",
            "  2.0139799e-03 2.2092782e-01]\n",
            " [1.3391135e-06 9.7011562e-06 3.2524214e-05 ... 4.8549258e-04\n",
            "  1.1388041e-04 1.8011017e-01]]\n"
          ]
        }
      ]
    },
    {
      "cell_type": "code",
      "source": [
        "pre=pd.DataFrame(predictions)\n",
        "pre.columns=label"
      ],
      "metadata": {
        "id": "xWFpEucJZrAI"
      },
      "execution_count": null,
      "outputs": []
    },
    {
      "cell_type": "code",
      "source": [
        "score = model.evaluate(X_test, y_test, batch_size=batch_size, verbose=1)\n",
        "print('Test accuracy:', score)"
      ],
      "metadata": {
        "colab": {
          "base_uri": "https://localhost:8080/"
        },
        "id": "X9o5E-LLZtoc",
        "outputId": "31ea04cb-62fe-4d1e-d9fc-d1fdab991b04"
      },
      "execution_count": null,
      "outputs": [
        {
          "output_type": "stream",
          "name": "stdout",
          "text": [
            "70/70 [==============================] - 7s 90ms/step - loss: 0.2120 - acc: 0.3435 - f1_m: 0.7269 - precision_m: 0.7501 - recall_m: 0.7062\n",
            "Test accuracy: [0.21204328536987305, 0.3435251712799072, 0.7269288897514343, 0.7501040697097778, 0.7062495350837708]\n"
          ]
        }
      ]
    },
    {
      "cell_type": "code",
      "source": [
        "model.save ('/content/drive/MyDrive/UIT-viFSD_me/phobert_BiLSTM.h5')"
      ],
      "metadata": {
        "id": "6VjiZ9xJZwvD"
      },
      "execution_count": null,
      "outputs": []
    },
    {
      "cell_type": "markdown",
      "source": [],
      "metadata": {
        "id": "VFrFHScUdc21"
      }
    },
    {
      "cell_type": "code",
      "source": [
        "from keras.optimizers import Adam, RMSprop\n",
        "from keras.callbacks import EarlyStopping, ModelCheckpoint, LearningRateScheduler\n",
        "from keras.layers import GRU, BatchNormalization, Conv1D, MaxPooling1D"
      ],
      "metadata": {
        "id": "00jsn1B1ddVY"
      },
      "execution_count": null,
      "outputs": []
    },
    {
      "cell_type": "code",
      "source": [
        "inp = Input(shape=(maxlen,))\n",
        "z = Embedding(max_features, embed_size, weights = [embedding_matrix], trainable = False)(inp)\n",
        "x1 = SpatialDropout1D(0.35)(z)\n",
        "\n",
        "x = Bidirectional(GRU(128, return_sequences = True, dropout=0.15, recurrent_dropout=0.15))(x1)\n",
        "x = Conv1D(64, kernel_size = 3, padding = \"valid\", kernel_initializer ='glorot_uniform')(x)\n",
        "\n",
        "y = Bidirectional(LSTM(128, return_sequences = True, dropout=0.15, recurrent_dropout=0.15))(x1)\n",
        "y = Conv1D(64, kernel_size = 3, padding = \"valid\", kernel_initializer = 'glorot_uniform')(y)\n",
        "\n",
        "avg_pool1 = GlobalAveragePooling1D()(x)\n",
        "max_pool1 = GlobalMaxPooling1D()(x)\n",
        "\n",
        "avg_pool2 = GlobalAveragePooling1D()(y)\n",
        "max_pool2 = GlobalMaxPooling1D()(y)\n",
        "\n",
        "x = concatenate([avg_pool1, max_pool1, avg_pool2, max_pool2])\n",
        "\n",
        "out = Dense(31, activation = \"sigmoid\")(x)\n",
        "model = Model(inputs = inp, outputs = out)\n",
        "model.compile(loss = \"binary_crossentropy\", optimizer = 'adam', metrics=['acc',f1_m,precision_m, recall_m])\n"
      ],
      "metadata": {
        "id": "dDh6AaaHdhuU",
        "colab": {
          "base_uri": "https://localhost:8080/"
        },
        "outputId": "4c06b469-b2fe-45b3-caff-1235cea97475"
      },
      "execution_count": null,
      "outputs": [
        {
          "output_type": "stream",
          "name": "stderr",
          "text": [
            "WARNING:tensorflow:Layer gru will not use cuDNN kernels since it doesn't meet the criteria. It will use a generic GPU kernel as fallback when running on GPU.\n",
            "WARNING:tensorflow:Layer gru will not use cuDNN kernels since it doesn't meet the criteria. It will use a generic GPU kernel as fallback when running on GPU.\n",
            "WARNING:tensorflow:Layer gru will not use cuDNN kernels since it doesn't meet the criteria. It will use a generic GPU kernel as fallback when running on GPU.\n",
            "WARNING:tensorflow:Layer lstm will not use cuDNN kernels since it doesn't meet the criteria. It will use a generic GPU kernel as fallback when running on GPU.\n",
            "WARNING:tensorflow:Layer lstm will not use cuDNN kernels since it doesn't meet the criteria. It will use a generic GPU kernel as fallback when running on GPU.\n",
            "WARNING:tensorflow:Layer lstm will not use cuDNN kernels since it doesn't meet the criteria. It will use a generic GPU kernel as fallback when running on GPU.\n"
          ]
        }
      ]
    },
    {
      "cell_type": "code",
      "source": [
        "batch_size = 32\n",
        "epochs = 20\n",
        "\n",
        "model.fit(X_train, y_train, batch_size=batch_size, epochs=epochs, verbose=1)"
      ],
      "metadata": {
        "colab": {
          "base_uri": "https://localhost:8080/"
        },
        "id": "_vFqTtVbyxhH",
        "outputId": "4ac01e97-2b38-445e-c5c9-5eff11a2a610"
      },
      "execution_count": null,
      "outputs": [
        {
          "output_type": "stream",
          "name": "stdout",
          "text": [
            "Epoch 1/20\n",
            "244/244 [==============================] - 593s 2s/step - loss: 0.2696 - acc: 0.1205 - f1_m: 0.2841 - precision_m: 0.6346 - recall_m: 0.2007\n",
            "Epoch 2/20\n",
            "244/244 [==============================] - 562s 2s/step - loss: 0.2090 - acc: 0.2162 - f1_m: 0.5154 - precision_m: 0.7312 - recall_m: 0.4017\n",
            "Epoch 3/20\n",
            "244/244 [==============================] - 561s 2s/step - loss: 0.1927 - acc: 0.2421 - f1_m: 0.5711 - precision_m: 0.7533 - recall_m: 0.4623\n",
            "Epoch 4/20\n",
            "244/244 [==============================] - 570s 2s/step - loss: 0.1824 - acc: 0.2624 - f1_m: 0.6021 - precision_m: 0.7647 - recall_m: 0.4987\n",
            "Epoch 5/20\n",
            "244/244 [==============================] - 558s 2s/step - loss: 0.1734 - acc: 0.2719 - f1_m: 0.6276 - precision_m: 0.7750 - recall_m: 0.5296\n",
            "Epoch 6/20\n",
            "244/244 [==============================] - 558s 2s/step - loss: 0.1657 - acc: 0.2865 - f1_m: 0.6481 - precision_m: 0.7883 - recall_m: 0.5524\n",
            "Epoch 7/20\n",
            "244/244 [==============================] - 556s 2s/step - loss: 0.1597 - acc: 0.2939 - f1_m: 0.6653 - precision_m: 0.7938 - recall_m: 0.5742\n",
            "Epoch 8/20\n",
            "244/244 [==============================] - 560s 2s/step - loss: 0.1536 - acc: 0.2931 - f1_m: 0.6780 - precision_m: 0.7969 - recall_m: 0.5918\n",
            "Epoch 9/20\n",
            "244/244 [==============================] - 561s 2s/step - loss: 0.1491 - acc: 0.3030 - f1_m: 0.6913 - precision_m: 0.8039 - recall_m: 0.6089\n",
            "Epoch 10/20\n",
            "244/244 [==============================] - 556s 2s/step - loss: 0.1438 - acc: 0.3156 - f1_m: 0.7030 - precision_m: 0.8081 - recall_m: 0.6234\n",
            "Epoch 11/20\n",
            "244/244 [==============================] - 559s 2s/step - loss: 0.1394 - acc: 0.3158 - f1_m: 0.7158 - precision_m: 0.8175 - recall_m: 0.6384\n",
            "Epoch 12/20\n",
            "244/244 [==============================] - 565s 2s/step - loss: 0.1350 - acc: 0.3167 - f1_m: 0.7241 - precision_m: 0.8226 - recall_m: 0.6485\n",
            "Epoch 13/20\n",
            "244/244 [==============================] - 559s 2s/step - loss: 0.1302 - acc: 0.3246 - f1_m: 0.7382 - precision_m: 0.8280 - recall_m: 0.6676\n",
            "Epoch 14/20\n",
            "244/244 [==============================] - 566s 2s/step - loss: 0.1259 - acc: 0.3292 - f1_m: 0.7438 - precision_m: 0.8290 - recall_m: 0.6760\n",
            "Epoch 15/20\n",
            "244/244 [==============================] - 559s 2s/step - loss: 0.1217 - acc: 0.3332 - f1_m: 0.7546 - precision_m: 0.8372 - recall_m: 0.6882\n",
            "Epoch 16/20\n",
            "244/244 [==============================] - 567s 2s/step - loss: 0.1179 - acc: 0.3397 - f1_m: 0.7639 - precision_m: 0.8418 - recall_m: 0.7006\n",
            "Epoch 17/20\n",
            "244/244 [==============================] - 584s 2s/step - loss: 0.1119 - acc: 0.3427 - f1_m: 0.7765 - precision_m: 0.8484 - recall_m: 0.7174\n",
            "Epoch 18/20\n",
            "244/244 [==============================] - 582s 2s/step - loss: 0.1073 - acc: 0.3490 - f1_m: 0.7896 - precision_m: 0.8587 - recall_m: 0.7326\n",
            "Epoch 19/20\n",
            "244/244 [==============================] - 561s 2s/step - loss: 0.1034 - acc: 0.3568 - f1_m: 0.7973 - precision_m: 0.8650 - recall_m: 0.7409\n",
            "Epoch 20/20\n",
            "244/244 [==============================] - 551s 2s/step - loss: 0.0988 - acc: 0.3585 - f1_m: 0.8060 - precision_m: 0.8678 - recall_m: 0.7537\n"
          ]
        },
        {
          "output_type": "execute_result",
          "data": {
            "text/plain": [
              "<keras.callbacks.History at 0x7f3fe4183430>"
            ]
          },
          "metadata": {},
          "execution_count": 36
        }
      ]
    },
    {
      "cell_type": "code",
      "source": [
        "pred = model.predict(X_test, batch_size = 32, verbose = 1)\n",
        "print(pred)"
      ],
      "metadata": {
        "id": "1GJRzXwrfEWQ",
        "colab": {
          "base_uri": "https://localhost:8080/"
        },
        "outputId": "55fd6bf7-691f-4022-c679-0c968e00248c"
      },
      "execution_count": null,
      "outputs": [
        {
          "output_type": "stream",
          "name": "stdout",
          "text": [
            "70/70 [==============================] - 23s 287ms/step\n",
            "[[7.2324353e-01 6.1352656e-04 4.6715569e-03 ... 3.7920178e-04\n",
            "  1.4639364e-03 2.2429163e-02]\n",
            " [6.2140990e-02 9.0356199e-03 8.3081465e-04 ... 4.3545519e-03\n",
            "  2.9306265e-03 1.2041051e-01]\n",
            " [5.1588367e-04 4.5398669e-03 1.0506931e-03 ... 3.5809956e-02\n",
            "  1.7546393e-02 2.0061916e-01]\n",
            " ...\n",
            " [2.6606317e-03 3.4163778e-03 1.5228083e-04 ... 1.3636565e-03\n",
            "  5.4915744e-04 4.7549602e-02]\n",
            " [2.0475058e-02 9.2209457e-06 7.5901502e-05 ... 1.6456947e-03\n",
            "  6.5794350e-03 1.4469196e-01]\n",
            " [1.4737135e-03 1.0664180e-03 5.3731064e-06 ... 1.5226604e-02\n",
            "  1.8948948e-02 4.7977728e-01]]\n"
          ]
        }
      ]
    },
    {
      "cell_type": "code",
      "source": [
        "score = model.evaluate(X_test, y_test, batch_size=batch_size, verbose=1)\n",
        "print('Test accuracy:', score)"
      ],
      "metadata": {
        "id": "CQJSV-8XfLUK",
        "colab": {
          "base_uri": "https://localhost:8080/"
        },
        "outputId": "07e4d74d-8170-46e2-f9b0-096241f412cc"
      },
      "execution_count": null,
      "outputs": [
        {
          "output_type": "stream",
          "name": "stdout",
          "text": [
            "70/70 [==============================] - 14s 172ms/step - loss: 0.1748 - acc: 0.3138 - f1_m: 0.6810 - precision_m: 0.7372 - recall_m: 0.6341\n",
            "Test accuracy: [0.17482487857341766, 0.31384891271591187, 0.6810162663459778, 0.7371849417686462, 0.6340978145599365]\n"
          ]
        }
      ]
    },
    {
      "cell_type": "code",
      "source": [
        "model.save ('/content/drive/MyDrive/KhóaLuậnTốtNghiệp/UIT-ViSFD/BiGRU_BiLSTM.h5')"
      ],
      "metadata": {
        "id": "kfkOCITViSSg"
      },
      "execution_count": null,
      "outputs": []
    },
    {
      "cell_type": "markdown",
      "source": [
        "#CNN + LSTM"
      ],
      "metadata": {
        "id": "f3poEGBZWPDp"
      }
    },
    {
      "cell_type": "code",
      "source": [
        "model = Sequential()\n",
        "inp = Input(shape=(maxlen,))\n",
        "model.add(Embedding(max_features, embed_size,\n",
        "          weights=[embedding_matrix], input_length=maxlen, trainable=False))\n",
        "model.add(Conv1D(num_filters, 7, activation='relu', input_shape=(178, 1), padding='same'))\n",
        "model.add(MaxPooling1D(2))\n",
        "model.add(Conv1D(num_filters, 7, activation='relu', padding='same'))\n",
        "model.add(MaxPooling1D(2))\n",
        "model.add(Dropout(0.5))\n",
        "model.add(LSTM(128, return_sequences=True, dropout=0.15, recurrent_dropout=0.15))\n",
        "model.add(Conv1D(64, kernel_size=3, padding='valid', kernel_initializer='glorot_uniform'))\n",
        "model.add(Flatten())\n",
        "model.add(Dense(32, activation='relu', kernel_regularizer=regularizers.l2(weight_decay)))\n",
        "model.add(Dense(31, activation='sigmoid'))\n",
        "model.compile(loss='binary_crossentropy', optimizer='adam',  metrics=['acc',f1_m,precision_m, recall_m])"
      ],
      "metadata": {
        "colab": {
          "base_uri": "https://localhost:8080/"
        },
        "id": "xrmohW4cWPaU",
        "outputId": "e1321863-2cc8-4081-86ab-d7ad98a88cdd"
      },
      "execution_count": null,
      "outputs": [
        {
          "output_type": "stream",
          "name": "stderr",
          "text": [
            "WARNING:tensorflow:Layer lstm_1 will not use cuDNN kernels since it doesn't meet the criteria. It will use a generic GPU kernel as fallback when running on GPU.\n"
          ]
        }
      ]
    },
    {
      "cell_type": "code",
      "source": [
        "model.summary()"
      ],
      "metadata": {
        "colab": {
          "base_uri": "https://localhost:8080/"
        },
        "id": "vJqFPsrpYVh4",
        "outputId": "6cef71eb-dd99-4e47-da02-76b99d84299e"
      },
      "execution_count": null,
      "outputs": [
        {
          "output_type": "stream",
          "name": "stdout",
          "text": [
            "Model: \"sequential\"\n",
            "_________________________________________________________________\n",
            " Layer (type)                Output Shape              Param #   \n",
            "=================================================================\n",
            " embedding_1 (Embedding)     (None, 150, 300)          746700    \n",
            "                                                                 \n",
            " conv1d_1 (Conv1D)           (None, 150, 64)           134464    \n",
            "                                                                 \n",
            " max_pooling1d (MaxPooling1D  (None, 75, 64)           0         \n",
            " )                                                               \n",
            "                                                                 \n",
            " conv1d_2 (Conv1D)           (None, 75, 64)            28736     \n",
            "                                                                 \n",
            " max_pooling1d_1 (MaxPooling  (None, 37, 64)           0         \n",
            " 1D)                                                             \n",
            "                                                                 \n",
            " dropout (Dropout)           (None, 37, 64)            0         \n",
            "                                                                 \n",
            " lstm_1 (LSTM)               (None, 37, 128)           98816     \n",
            "                                                                 \n",
            " conv1d_3 (Conv1D)           (None, 35, 64)            24640     \n",
            "                                                                 \n",
            " flatten (Flatten)           (None, 2240)              0         \n",
            "                                                                 \n",
            " dense_1 (Dense)             (None, 32)                71712     \n",
            "                                                                 \n",
            " dense_2 (Dense)             (None, 31)                1023      \n",
            "                                                                 \n",
            "=================================================================\n",
            "Total params: 1,106,091\n",
            "Trainable params: 359,391\n",
            "Non-trainable params: 746,700\n",
            "_________________________________________________________________\n"
          ]
        }
      ]
    },
    {
      "cell_type": "code",
      "source": [
        "model.fit(X_train, y_train, validation_data=(X_test,y_test), epochs=20, batch_size=32, verbose=2)"
      ],
      "metadata": {
        "colab": {
          "base_uri": "https://localhost:8080/"
        },
        "id": "53dAVfcsYZWG",
        "outputId": "81c26720-d82a-46d8-f489-f32f0ffb23ac"
      },
      "execution_count": null,
      "outputs": [
        {
          "output_type": "stream",
          "name": "stdout",
          "text": [
            "Epoch 1/20\n",
            "244/244 - 52s - loss: 0.3069 - acc: 0.0804 - f1_m: 0.2185 - precision_m: 0.4967 - recall_m: 0.1640 - val_loss: 0.2484 - val_acc: 0.1016 - val_f1_m: 0.3323 - val_precision_m: 0.6545 - val_recall_m: 0.2244 - 52s/epoch - 215ms/step\n",
            "Epoch 2/20\n",
            "244/244 - 48s - loss: 0.2473 - acc: 0.0999 - f1_m: 0.3435 - precision_m: 0.6504 - recall_m: 0.2383 - val_loss: 0.2356 - val_acc: 0.1277 - val_f1_m: 0.3526 - val_precision_m: 0.6719 - val_recall_m: 0.2415 - 48s/epoch - 198ms/step\n",
            "Epoch 3/20\n",
            "244/244 - 47s - loss: 0.2343 - acc: 0.1065 - f1_m: 0.3992 - precision_m: 0.6609 - recall_m: 0.2906 - val_loss: 0.2261 - val_acc: 0.1174 - val_f1_m: 0.4405 - val_precision_m: 0.6430 - val_recall_m: 0.3378 - 47s/epoch - 194ms/step\n",
            "Epoch 4/20\n",
            "244/244 - 47s - loss: 0.2246 - acc: 0.1142 - f1_m: 0.4433 - precision_m: 0.6698 - recall_m: 0.3349 - val_loss: 0.2197 - val_acc: 0.1156 - val_f1_m: 0.4186 - val_precision_m: 0.6944 - val_recall_m: 0.3020 - 47s/epoch - 192ms/step\n",
            "Epoch 5/20\n",
            "244/244 - 49s - loss: 0.2161 - acc: 0.1584 - f1_m: 0.4791 - precision_m: 0.6925 - recall_m: 0.3696 - val_loss: 0.2139 - val_acc: 0.2239 - val_f1_m: 0.4933 - val_precision_m: 0.6811 - val_recall_m: 0.3892 - 49s/epoch - 200ms/step\n",
            "Epoch 6/20\n",
            "244/244 - 48s - loss: 0.2060 - acc: 0.2147 - f1_m: 0.5212 - precision_m: 0.7092 - recall_m: 0.4154 - val_loss: 0.2049 - val_acc: 0.2455 - val_f1_m: 0.5211 - val_precision_m: 0.7116 - val_recall_m: 0.4130 - 48s/epoch - 197ms/step\n",
            "Epoch 7/20\n",
            "244/244 - 46s - loss: 0.1966 - acc: 0.2478 - f1_m: 0.5599 - precision_m: 0.7311 - recall_m: 0.4565 - val_loss: 0.2000 - val_acc: 0.2594 - val_f1_m: 0.5638 - val_precision_m: 0.7092 - val_recall_m: 0.4699 - 46s/epoch - 187ms/step\n",
            "Epoch 8/20\n",
            "244/244 - 48s - loss: 0.1863 - acc: 0.2723 - f1_m: 0.5952 - precision_m: 0.7558 - recall_m: 0.4941 - val_loss: 0.1977 - val_acc: 0.3071 - val_f1_m: 0.5753 - val_precision_m: 0.7178 - val_recall_m: 0.4816 - 48s/epoch - 197ms/step\n",
            "Epoch 9/20\n",
            "244/244 - 46s - loss: 0.1779 - acc: 0.2868 - f1_m: 0.6205 - precision_m: 0.7725 - recall_m: 0.5210 - val_loss: 0.1945 - val_acc: 0.2612 - val_f1_m: 0.6089 - val_precision_m: 0.7194 - val_recall_m: 0.5291 - 46s/epoch - 187ms/step\n",
            "Epoch 10/20\n",
            "244/244 - 46s - loss: 0.1696 - acc: 0.2966 - f1_m: 0.6424 - precision_m: 0.7861 - recall_m: 0.5455 - val_loss: 0.1947 - val_acc: 0.2887 - val_f1_m: 0.6091 - val_precision_m: 0.7301 - val_recall_m: 0.5240 - 46s/epoch - 188ms/step\n",
            "Epoch 11/20\n",
            "244/244 - 50s - loss: 0.1623 - acc: 0.3156 - f1_m: 0.6603 - precision_m: 0.7967 - recall_m: 0.5664 - val_loss: 0.1903 - val_acc: 0.2846 - val_f1_m: 0.6119 - val_precision_m: 0.7521 - val_recall_m: 0.5174 - 50s/epoch - 203ms/step\n",
            "Epoch 12/20\n",
            "244/244 - 46s - loss: 0.1572 - acc: 0.3217 - f1_m: 0.6768 - precision_m: 0.8037 - recall_m: 0.5869 - val_loss: 0.1905 - val_acc: 0.2770 - val_f1_m: 0.6288 - val_precision_m: 0.7283 - val_recall_m: 0.5547 - 46s/epoch - 187ms/step\n",
            "Epoch 13/20\n",
            "244/244 - 48s - loss: 0.1506 - acc: 0.3293 - f1_m: 0.6950 - precision_m: 0.8169 - recall_m: 0.6073 - val_loss: 0.1925 - val_acc: 0.2756 - val_f1_m: 0.6281 - val_precision_m: 0.7254 - val_recall_m: 0.5551 - 48s/epoch - 196ms/step\n",
            "Epoch 14/20\n",
            "244/244 - 50s - loss: 0.1477 - acc: 0.3206 - f1_m: 0.7014 - precision_m: 0.8171 - recall_m: 0.6169 - val_loss: 0.1932 - val_acc: 0.3363 - val_f1_m: 0.6339 - val_precision_m: 0.7192 - val_recall_m: 0.5682 - 50s/epoch - 205ms/step\n",
            "Epoch 15/20\n",
            "244/244 - 48s - loss: 0.1417 - acc: 0.3265 - f1_m: 0.7128 - precision_m: 0.8233 - recall_m: 0.6309 - val_loss: 0.1935 - val_acc: 0.2945 - val_f1_m: 0.6394 - val_precision_m: 0.7207 - val_recall_m: 0.5760 - 48s/epoch - 196ms/step\n",
            "Epoch 16/20\n",
            "244/244 - 45s - loss: 0.1364 - acc: 0.3360 - f1_m: 0.7265 - precision_m: 0.8303 - recall_m: 0.6475 - val_loss: 0.1959 - val_acc: 0.2981 - val_f1_m: 0.6373 - val_precision_m: 0.7535 - val_recall_m: 0.5535 - 45s/epoch - 186ms/step\n",
            "Epoch 17/20\n",
            "244/244 - 48s - loss: 0.1324 - acc: 0.3370 - f1_m: 0.7350 - precision_m: 0.8355 - recall_m: 0.6580 - val_loss: 0.2039 - val_acc: 0.2828 - val_f1_m: 0.6294 - val_precision_m: 0.7422 - val_recall_m: 0.5479 - 48s/epoch - 198ms/step\n",
            "Epoch 18/20\n",
            "244/244 - 46s - loss: 0.1297 - acc: 0.3448 - f1_m: 0.7411 - precision_m: 0.8385 - recall_m: 0.6659 - val_loss: 0.1957 - val_acc: 0.2896 - val_f1_m: 0.6198 - val_precision_m: 0.7459 - val_recall_m: 0.5316 - 46s/epoch - 187ms/step\n",
            "Epoch 19/20\n",
            "244/244 - 45s - loss: 0.1257 - acc: 0.3400 - f1_m: 0.7510 - precision_m: 0.8446 - recall_m: 0.6779 - val_loss: 0.2034 - val_acc: 0.2968 - val_f1_m: 0.6372 - val_precision_m: 0.7218 - val_recall_m: 0.5717 - 45s/epoch - 186ms/step\n",
            "Epoch 20/20\n",
            "244/244 - 47s - loss: 0.1224 - acc: 0.3415 - f1_m: 0.7591 - precision_m: 0.8499 - recall_m: 0.6879 - val_loss: 0.2054 - val_acc: 0.2698 - val_f1_m: 0.6232 - val_precision_m: 0.7308 - val_recall_m: 0.5449 - 47s/epoch - 191ms/step\n"
          ]
        },
        {
          "output_type": "execute_result",
          "data": {
            "text/plain": [
              "<keras.callbacks.History at 0x7fbb426027a0>"
            ]
          },
          "metadata": {},
          "execution_count": 48
        }
      ]
    },
    {
      "cell_type": "code",
      "source": [],
      "metadata": {
        "id": "4HQcbVdEqD-2"
      },
      "execution_count": null,
      "outputs": []
    },
    {
      "cell_type": "code",
      "source": [
        "print(\"Evaluate Model Performance on Test set\")\n",
        "result = model.predict(X_test, batch_size = 32, verbose = 2)"
      ],
      "metadata": {
        "colab": {
          "base_uri": "https://localhost:8080/"
        },
        "id": "5_x_FinEgFzs",
        "outputId": "ab856f4e-8422-449b-a758-23ff0c869932"
      },
      "execution_count": null,
      "outputs": [
        {
          "output_type": "stream",
          "name": "stdout",
          "text": [
            "Evaluate Model Performance on Test set\n",
            "70/70 - 2s - 2s/epoch - 25ms/step\n"
          ]
        }
      ]
    },
    {
      "cell_type": "code",
      "source": [
        "score = model.evaluate(X_test, y_test, batch_size=batch_size, verbose=1)\n",
        "print('Test accuracy:', score)"
      ],
      "metadata": {
        "colab": {
          "base_uri": "https://localhost:8080/"
        },
        "id": "Umd5aPXDxSaj",
        "outputId": "9fe85259-1522-4031-b305-249386d047ae"
      },
      "execution_count": null,
      "outputs": [
        {
          "output_type": "stream",
          "name": "stdout",
          "text": [
            "70/70 [==============================] - 1s 14ms/step - loss: 0.2054 - acc: 0.2698 - f1_m: 0.6232 - precision_m: 0.7308 - recall_m: 0.5449\n",
            "Test accuracy: [0.20537225902080536, 0.26978418231010437, 0.6232392191886902, 0.7308080196380615, 0.5449463129043579]\n"
          ]
        }
      ]
    },
    {
      "cell_type": "code",
      "source": [
        "score = model.evaluate(X_test, y_test, batch_size=batch_size, verbose=1)\n",
        "print('Test accuracy:', score)"
      ],
      "metadata": {
        "colab": {
          "base_uri": "https://localhost:8080/"
        },
        "id": "6Lo7cR0GgOnE",
        "outputId": "055b4f49-d391-49b8-c445-7d26606d74a9"
      },
      "execution_count": null,
      "outputs": [
        {
          "output_type": "stream",
          "name": "stdout",
          "text": [
            "70/70 [==============================] - 1s 20ms/step - loss: 0.2046 - acc: 0.2419 - f1_m: 0.5783 - precision_m: 0.7251 - recall_m: 0.4822\n",
            "Test accuracy: [0.2046307474374771, 0.24190647900104523, 0.5783098936080933, 0.7251214981079102, 0.48220738768577576]\n"
          ]
        }
      ]
    },
    {
      "cell_type": "code",
      "source": [],
      "metadata": {
        "id": "MQopvT3cgRlb"
      },
      "execution_count": null,
      "outputs": []
    }
  ],
  "metadata": {
    "accelerator": "GPU",
    "colab": {
      "provenance": []
    },
    "kernelspec": {
      "display_name": "Python 3",
      "name": "python3"
    },
    "language_info": {
      "name": "python"
    }
  },
  "nbformat": 4,
  "nbformat_minor": 0
}